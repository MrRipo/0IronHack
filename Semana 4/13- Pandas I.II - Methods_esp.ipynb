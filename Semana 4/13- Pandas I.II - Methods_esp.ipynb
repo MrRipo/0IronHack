{
 "cells": [
  {
   "cell_type": "markdown",
   "metadata": {
    "id": "ypf_jEz_Xmdg"
   },
   "source": [
    "# **Introducción a DataFrames con Pandas (Python)**\n",
    "\n",
    "![ironhack_image.JPG](data:image/jpeg;base64,/9j/4AAQSkZJRgABAQEAeAB4AAD/4RCgRXhpZgAATU0AKgAAAAgABAE7AAIAAAAPAAAISodpAAQAAAABAAAIWpydAAEAAAAeAAAQeuocAAcAAAgMAAAAPgAAAAAc6gAAAAgAAAAAAAAAAAAAAAAAAAAAAAAAAAAAAAAAAAAAAAAAAAAAAAAAAAAAAAAAAAAAAAAAAAAAAAAAAAAAAAAAAAAAAAAAAAAAAAAAAAAAAAAAAAAAAAAAAAAAAAAAAAAAAAAAAAAAAAAAAAAAAAAAAAAAAAAAAAAAAAAAAAAAAAAAAAAAAAAAAAAAAAAAAAAAAAAAAAAAAAAAAAAAAAAAAAAAAAAAAAAAAAAAAAAAAAAAAAAAAAAAAAAAAAAAAAAAAAAAAAAAAAAAAAAAAAAAAAAAAAAAAAAAAAAAAAAAAAAAAAAAAAAAAAAAAAAAAAAAAAAAAAAAAAAAAAAAAAAAAAAAAAAAAAAAAAAAAAAAAAAAAAAAAAAAAAAAAAAAAAAAAAAAAAAAAAAAAAAAAAAAAAAAAAAAAAAAAAAAAAAAAAAAAAAAAAAAAAAAAAAAAAAAAAAAAAAAAAAAAAAAAAAAAAAAAAAAAAAAAAAAAAAAAAAAAAAAAAAAAAAAAAAAAAAAAAAAAAAAAAAAAAAAAAAAAAAAAAAAAAAAAAAAAAAAAAAAAAAAAAAAAAAAAAAAAAAAAAAAAAAAAAAAAAAAAAAAAAAAAAAAAAAAAAAAAAAAAAAAAAAAAAAAAAAAAAAAAAAAAAAAAAAAAAAAAAAAAAAAAAAAAAAAAAAAAAAAAAAAAAAAAAAAAAAAAAAAAAAAAAAAAAAAAAAAAAAAAAAAAAAAAAAAAAAAAAAAAAAAAAAAAAAAAAAAAAAAAAAAAAAAAAAAAAAAAAAAAAAAAAAAAAAAAAAAAAAAAAAAAAAAAAAAAAAAAAAAAAAAAAAAAAAAAAAAAAAAAAAAAAAAAAAAAAAAAAAAAAAAAAAAAAAAAAAAAAAAAAAAAAAAAAAAAAAAAAAAAAAAAAAAAAAAAAAAAAAAAAAAAAAAAAAAAAAAAAAAAAAAAAAAAAAAAAAAAAAAAAAAAAAAAAAAAAAAAAAAAAAAAAAAAAAAAAAAAAAAAAAAAAAAAAAAAAAAAAAAAAAAAAAAAAAAAAAAAAAAAAAAAAAAAAAAAAAAAAAAAAAAAAAAAAAAAAAAAAAAAAAAAAAAAAAAAAAAAAAAAAAAAAAAAAAAAAAAAAAAAAAAAAAAAAAAAAAAAAAAAAAAAAAAAAAAAAAAAAAAAAAAAAAAAAAAAAAAAAAAAAAAAAAAAAAAAAAAAAAAAAAAAAAAAAAAAAAAAAAAAAAAAAAAAAAAAAAAAAAAAAAAAAAAAAAAAAAAAAAAAAAAAAAAAAAAAAAAAAAAAAAAAAAAAAAAAAAAAAAAAAAAAAAAAAAAAAAAAAAAAAAAAAAAAAAAAAAAAAAAAAAAAAAAAAAAAAAAAAAAAAAAAAAAAAAAAAAAAAAAAAAAAAAAAAAAAAAAAAAAAAAAAAAAAAAAAAAAAAAAAAAAAAAAAAAAAAAAAAAAAAAAAAAAAAAAAAAAAAAAAAAAAAAAAAAAAAAAAAAAAAAAAAAAAAAAAAAAAAAAAAAAAAAAAAAAAAAAAAAAAAAAAAAAAAAAAAAAAAAAAAAAAAAAAAAAAAAAAAAAAAAAAAAAAAAAAAAAAAAAAAAAAAAAAAAAAAAAAAAAAAAAAAAAAAAAAAAAAAAAAAAAAAAAAAAAAAAAAAAAAAAAAAAAAAAAAAAAAAAAAAAAAAAAAAAAAAAAAAAAAAAAAAAAAAAAAAAAAAAAAAAAAAAAAAAAAAAAAAAAAAAAAAAAAAAAAAAAAAAAAAAAAAAAAAAAAAAAAAAAAAAAAAAAAAAAAAAAAAAAAAAAAAAAAAAAAAAAAAAAAAAAAAAAAAAAAAAAAAAAAAAAAAAAAAAAAAAAAAAAAAAAAAAAAAAAAAAAAAAAAAAAAAAAAAAAAAAAAAAAAAAAAAAAAAAAAAAAAAAAAAAAAAAAAAAAAAAAAAAAAAAAAAAAAAAAAAAAAAAAAAAAAAAAAAAAAAAAAAAAAAAAAAAAAAAAAAAAAAAAAAAAAAAAAAAAAAAAAAAAAAAAAAAAAAAAAAAAAAAAAAAAAAAAAAAAAAAAAAAAAAAAAAAAAAAAAAAAAAAAAAAAAAAAAAAAAAAAAAAAAAAAAAAAAAAAAAAAAAAAAAAAAAAAAAAAAAAAAAAAAAAAAAAAAAAAAAAAAAAAAAAAAAAAAAAAAAAAAAAAAAAAAAAAAAAAAAAAAAAAAAAAAAAAAAAAAAAAAAAAAAAAAAAAAAAAAAAAAAAAAAAAAAAAAAAAAAAAAAAAAAAAAAAAAAAAAAAAAAAAAAAAAAAAAAAAAAAAAAAAAAAAAAAAAAAAAAAAAAAAAAAAAAAAAAAAAAAAAAAAAAAAAAAAAAAAAAAAAAAAAAAAAAAAAAAAAAAAAAAAAAAAAAAAAAAAAAAAAAAAAAAAAAAAAAAAAAAAAAAAAAAAAAAAAAAAAAAAAAAAAAAAAAAAAAAAAAAAAAAAAAAAAAAAAAAAAAAAAAAAAAAAAAAAAAAAAAAAAAAAAAAAAAAAAAAAAAAAAAAAAAAAAAAAAAAAAAAAAAAAAAAAAAAAAAAAAAAAAAAAAAAAAAAAAAAAAAAAAAAAAAAAAAAAAAAAAAAAAAAAAAAAAAAAAAAAAAAAAAAAAAAAAAAAAAAAAAAAAAAAAAAAAAAAAAAAAAAAAAAAAAAAAAAAAAAAAAAAAAAAAAAAAAAAAAAAAAAAAAAAAAAAAAAAAAAAAAAAAAAAAAAAAAAAAAAAAAAAAAAAAAAAAAAAAAAAAAAAAAAAAAAAAEFsZm9ucyBNYXJxdWVzAAAAAeocAAcAAAgMAAAIbAAAAAAc6gAAAAgAAAAAAAAAAAAAAAAAAAAAAAAAAAAAAAAAAAAAAAAAAAAAAAAAAAAAAAAAAAAAAAAAAAAAAAAAAAAAAAAAAAAAAAAAAAAAAAAAAAAAAAAAAAAAAAAAAAAAAAAAAAAAAAAAAAAAAAAAAAAAAAAAAAAAAAAAAAAAAAAAAAAAAAAAAAAAAAAAAAAAAAAAAAAAAAAAAAAAAAAAAAAAAAAAAAAAAAAAAAAAAAAAAAAAAAAAAAAAAAAAAAAAAAAAAAAAAAAAAAAAAAAAAAAAAAAAAAAAAAAAAAAAAAAAAAAAAAAAAAAAAAAAAAAAAAAAAAAAAAAAAAAAAAAAAAAAAAAAAAAAAAAAAAAAAAAAAAAAAAAAAAAAAAAAAAAAAAAAAAAAAAAAAAAAAAAAAAAAAAAAAAAAAAAAAAAAAAAAAAAAAAAAAAAAAAAAAAAAAAAAAAAAAAAAAAAAAAAAAAAAAAAAAAAAAAAAAAAAAAAAAAAAAAAAAAAAAAAAAAAAAAAAAAAAAAAAAAAAAAAAAAAAAAAAAAAAAAAAAAAAAAAAAAAAAAAAAAAAAAAAAAAAAAAAAAAAAAAAAAAAAAAAAAAAAAAAAAAAAAAAAAAAAAAAAAAAAAAAAAAAAAAAAAAAAAAAAAAAAAAAAAAAAAAAAAAAAAAAAAAAAAAAAAAAAAAAAAAAAAAAAAAAAAAAAAAAAAAAAAAAAAAAAAAAAAAAAAAAAAAAAAAAAAAAAAAAAAAAAAAAAAAAAAAAAAAAAAAAAAAAAAAAAAAAAAAAAAAAAAAAAAAAAAAAAAAAAAAAAAAAAAAAAAAAAAAAAAAAAAAAAAAAAAAAAAAAAAAAAAAAAAAAAAAAAAAAAAAAAAAAAAAAAAAAAAAAAAAAAAAAAAAAAAAAAAAAAAAAAAAAAAAAAAAAAAAAAAAAAAAAAAAAAAAAAAAAAAAAAAAAAAAAAAAAAAAAAAAAAAAAAAAAAAAAAAAAAAAAAAAAAAAAAAAAAAAAAAAAAAAAAAAAAAAAAAAAAAAAAAAAAAAAAAAAAAAAAAAAAAAAAAAAAAAAAAAAAAAAAAAAAAAAAAAAAAAAAAAAAAAAAAAAAAAAAAAAAAAAAAAAAAAAAAAAAAAAAAAAAAAAAAAAAAAAAAAAAAAAAAAAAAAAAAAAAAAAAAAAAAAAAAAAAAAAAAAAAAAAAAAAAAAAAAAAAAAAAAAAAAAAAAAAAAAAAAAAAAAAAAAAAAAAAAAAAAAAAAAAAAAAAAAAAAAAAAAAAAAAAAAAAAAAAAAAAAAAAAAAAAAAAAAAAAAAAAAAAAAAAAAAAAAAAAAAAAAAAAAAAAAAAAAAAAAAAAAAAAAAAAAAAAAAAAAAAAAAAAAAAAAAAAAAAAAAAAAAAAAAAAAAAAAAAAAAAAAAAAAAAAAAAAAAAAAAAAAAAAAAAAAAAAAAAAAAAAAAAAAAAAAAAAAAAAAAAAAAAAAAAAAAAAAAAAAAAAAAAAAAAAAAAAAAAAAAAAAAAAAAAAAAAAAAAAAAAAAAAAAAAAAAAAAAAAAAAAAAAAAAAAAAAAAAAAAAAAAAAAAAAAAAAAAAAAAAAAAAAAAAAAAAAAAAAAAAAAAAAAAAAAAAAAAAAAAAAAAAAAAAAAAAAAAAAAAAAAAAAAAAAAAAAAAAAAAAAAAAAAAAAAAAAAAAAAAAAAAAAAAAAAAAAAAAAAAAAAAAAAAAAAAAAAAAAAAAAAAAAAAAAAAAAAAAAAAAAAAAAAAAAAAAAAAAAAAAAAAAAAAAAAAAAAAAAAAAAAAAAAAAAAAAAAAAAAAAAAAAAAAAAAAAAAAAAAAAAAAAAAAAAAAAAAAAAAAAAAAAAAAAAAAAAAAAAAAAAAAAAAAAAAAAAAAAAAAAAAAAAAAAAAAAAAAAAAAAAAAAAAAAAAAAAAAAAAAAAAAAAAAAAAAAAAAAAAAAAAAAAAAAAAAAAAAAAAAAAAAAAAAAAAAAAAAAAAAAAAAAAAAAAAAAAAAAAAAAAAAAAAAAAAAAAAAAAAAAAAAAAAAAAAAAAAAAAAAAAAAAAAAAAAAAAAAAAAAAAAAAAAAAAAAAAAAAAAAAAAAAAAAAAAAAAAAAAAAAAAAAAAAAAAAAAAAAAAAAAAAAAAAAAAAAAAAAAAAAAAAAAAAAAAAAAAAAAAAAAAAAAAAAAAAAAAAAAAAAAAAAAAAAAAAAAAAAAAAAAAAAAAAAAAAAAAAAAAAAAAAAAAAAAAAAAAAAAAAAAAAAAAAAAAAAAAAAAAAAAAAAAAAAAAAAAAAAAAAAAAAAAAAAAAAAAAAAAAAAAAAAAAAAAAAAAAAAAAAAAAAAAAAAAAAAAAAAAAAAAAAAAAAAAAAAAAAAAAAAAAAAAAAAAAAAAAAAAAAAAAAAAAAAAAAAAAAAAAAAAAAAAAAAAAAAAAAAAAAAAAAAAAAAAAAAAAAAAAAAAAAAAAAAAAAAAAAAAAAAAAAAAAAAAAAAAAAAAAAAAAAAAAAAAAAAAAAAAAAAAAAAAAAAAAAAAAAAAAAAAAAAAAAAAAAAAAAAAAAAAAAAAAAAAAAAAAAAAAAAAAAAAAAAAAAAAAAAAAAAAAAAAAAAAAAAAAAAAAAAAAAAAAAAAAAAAAAAAAAAAAAAAAAAAAAAAAAAAAAAAAAAAAAAAAAAAAAAAAAAAAAAAAAAAAAAAAAAAAAAAAAAAAAAAAAAAAAAAAAAAAAAAAAAAAAAAAAAAAAAAAAAAAAAAAAAAAAAAAAAAAAAAAAAAAAAQQBsAGYAbwBuAHMAIABNAGEAcgBxAHUAZQBzAAAA/+EKZ2h0dHA6Ly9ucy5hZG9iZS5jb20veGFwLzEuMC8APD94cGFja2V0IGJlZ2luPSfvu78nIGlkPSdXNU0wTXBDZWhpSHpyZVN6TlRjemtjOWQnPz4NCjx4OnhtcG1ldGEgeG1sbnM6eD0iYWRvYmU6bnM6bWV0YS8iPjxyZGY6UkRGIHhtbG5zOnJkZj0iaHR0cDovL3d3dy53My5vcmcvMTk5OS8wMi8yMi1yZGYtc3ludGF4LW5zIyI+PHJkZjpEZXNjcmlwdGlvbiByZGY6YWJvdXQ9InV1aWQ6ZmFmNWJkZDUtYmEzZC0xMWRhLWFkMzEtZDMzZDc1MTgyZjFiIiB4bWxuczpkYz0iaHR0cDovL3B1cmwub3JnL2RjL2VsZW1lbnRzLzEuMS8iLz48cmRmOkRlc2NyaXB0aW9uIHJkZjphYm91dD0idXVpZDpmYWY1YmRkNS1iYTNkLTExZGEtYWQzMS1kMzNkNzUxODJmMWIiIHhtbG5zOmRjPSJodHRwOi8vcHVybC5vcmcvZGMvZWxlbWVudHMvMS4xLyI+PGRjOmNyZWF0b3I+PHJkZjpTZXEgeG1sbnM6cmRmPSJodHRwOi8vd3d3LnczLm9yZy8xOTk5LzAyLzIyLXJkZi1zeW50YXgtbnMjIj48cmRmOmxpPkFsZm9ucyBNYXJxdWVzPC9yZGY6bGk+PC9yZGY6U2VxPg0KCQkJPC9kYzpjcmVhdG9yPjwvcmRmOkRlc2NyaXB0aW9uPjwvcmRmOlJERj48L3g6eG1wbWV0YT4NCiAgICAgICAgICAgICAgICAgICAgICAgICAgICAgICAgICAgICAgICAgICAgICAgICAgICAgICAgICAgICAgICAgICAgICAgICAgICAgICAgICAgICAgICAgICAgICAgICAgICAKICAgICAgICAgICAgICAgICAgICAgICAgICAgICAgICAgICAgICAgICAgICAgICAgICAgICAgICAgICAgICAgICAgICAgICAgICAgICAgICAgICAgICAgICAgICAgICAgICAgIAogICAgICAgICAgICAgICAgICAgICAgICAgICAgICAgICAgICAgICAgICAgICAgICAgICAgICAgICAgICAgICAgICAgICAgICAgICAgICAgICAgICAgICAgICAgICAgICAgICAgCiAgICAgICAgICAgICAgICAgICAgICAgICAgICAgICAgICAgICAgICAgICAgICAgICAgICAgICAgICAgICAgICAgICAgICAgICAgICAgICAgICAgICAgICAgICAgICAgICAgICAKICAgICAgICAgICAgICAgICAgICAgICAgICAgICAgICAgICAgICAgICAgICAgICAgICAgICAgICAgICAgICAgICAgICAgICAgICAgICAgICAgICAgICAgICAgICAgICAgICAgIAogICAgICAgICAgICAgICAgICAgICAgICAgICAgICAgICAgICAgICAgICAgICAgICAgICAgICAgICAgICAgICAgICAgICAgICAgICAgICAgICAgICAgICAgICAgICAgICAgICAgCiAgICAgICAgICAgICAgICAgICAgICAgICAgICAgICAgICAgICAgICAgICAgICAgICAgICAgICAgICAgICAgICAgICAgICAgICAgICAgICAgICAgICAgICAgICAgICAgICAgICAKICAgICAgICAgICAgICAgICAgICAgICAgICAgICAgICAgICAgICAgICAgICAgICAgICAgICAgICAgICAgICAgICAgICAgICAgICAgICAgICAgICAgICAgICAgICAgICAgICAgIAogICAgICAgICAgICAgICAgICAgICAgICAgICAgICAgICAgICAgICAgICAgICAgICAgICAgICAgICAgICAgICAgICAgICAgICAgICAgICAgICAgICAgICAgICAgICAgICAgICAgCiAgICAgICAgICAgICAgICAgICAgICAgICAgICAgICAgICAgICAgICAgICAgICAgICAgICAgICAgICAgICAgICAgICAgICAgICAgICAgICAgICAgICAgICAgICAgICAgICAgICAKICAgICAgICAgICAgICAgICAgICAgICAgICAgICAgICAgICAgICAgICAgICAgICAgICAgICAgICAgICAgICAgICAgICAgICAgICAgICAgICAgICAgICAgICAgICAgICAgICAgIAogICAgICAgICAgICAgICAgICAgICAgICAgICAgICAgICAgICAgICAgICAgICAgICAgICAgICAgICAgICAgICAgICAgICAgICAgICAgICAgICAgICAgICAgICAgICAgICAgICAgCiAgICAgICAgICAgICAgICAgICAgICAgICAgICAgICAgICAgICAgICAgICAgICAgICAgICAgICAgICAgICAgICAgICAgICAgICAgICAgICAgICAgICAgICAgICAgICAgICAgICAKICAgICAgICAgICAgICAgICAgICAgICAgICAgICAgICAgICAgICAgICAgICAgICAgICAgICAgICAgICAgICAgICAgICAgICAgICAgICAgICAgICAgICAgICAgICAgICAgICAgIAogICAgICAgICAgICAgICAgICAgICAgICAgICAgICAgICAgICAgICAgICAgICAgICAgICAgICAgICAgICAgICAgICAgICAgICAgICAgICAgICAgICAgICAgICAgICAgICAgICAgCiAgICAgICAgICAgICAgICAgICAgICAgICAgICAgICAgICAgICAgICAgICAgICAgICAgICAgICAgICAgICAgICAgICAgICAgICAgICAgICAgICAgICAgICAgICAgICAgICAgICAKICAgICAgICAgICAgICAgICAgICAgICAgICAgICAgICAgICAgICAgICAgICAgICAgICAgICAgICAgICAgICAgICAgICAgICAgICAgICAgICAgICAgICAgICAgICAgICAgICAgIAogICAgICAgICAgICAgICAgICAgICAgICAgICAgICAgICAgICAgICAgICAgICAgICAgICAgICAgICAgICAgICAgICAgICAgICAgICAgICAgICAgICAgICAgICAgICAgICAgICAgCiAgICAgICAgICAgICAgICAgICAgICAgICAgICAgICAgICAgICAgICAgICAgICAgICAgICAgICAgICAgICAgICAgICAgICAgICAgICAgICAgICAgICAgICAgICAgICAgICAgICAKICAgICAgICAgICAgICAgICAgICAgICAgICAgICAgICAgICAgICAgICAgICAgICAgICAgICAgICAgICAgICAgICAgICAgICAgICAgICAgICAgICAgICAgICAgICAgICAgICAgIAogICAgICAgICAgICAgICAgICAgICAgICAgICAgPD94cGFja2V0IGVuZD0ndyc/Pv/bAEMABwUFBgUEBwYFBggHBwgKEQsKCQkKFQ8QDBEYFRoZGBUYFxseJyEbHSUdFxgiLiIlKCkrLCsaIC8zLyoyJyorKv/bAEMBBwgICgkKFAsLFCocGBwqKioqKioqKioqKioqKioqKioqKioqKioqKioqKioqKioqKioqKioqKioqKioqKioqKv/AABEIAJYBvgMBIgACEQEDEQH/xAAfAAABBQEBAQEBAQAAAAAAAAAAAQIDBAUGBwgJCgv/xAC1EAACAQMDAgQDBQUEBAAAAX0BAgMABBEFEiExQQYTUWEHInEUMoGRoQgjQrHBFVLR8CQzYnKCCQoWFxgZGiUmJygpKjQ1Njc4OTpDREVGR0hJSlNUVVZXWFlaY2RlZmdoaWpzdHV2d3h5eoOEhYaHiImKkpOUlZaXmJmaoqOkpaanqKmqsrO0tba3uLm6wsPExcbHyMnK0tPU1dbX2Nna4eLj5OXm5+jp6vHy8/T19vf4+fr/xAAfAQADAQEBAQEBAQEBAAAAAAAAAQIDBAUGBwgJCgv/xAC1EQACAQIEBAMEBwUEBAABAncAAQIDEQQFITEGEkFRB2FxEyIygQgUQpGhscEJIzNS8BVictEKFiQ04SXxFxgZGiYnKCkqNTY3ODk6Q0RFRkdISUpTVFVWV1hZWmNkZWZnaGlqc3R1dnd4eXqCg4SFhoeIiYqSk5SVlpeYmZqio6Slpqeoqaqys7S1tre4ubrCw8TFxsfIycrS09TV1tfY2dri4+Tl5ufo6ery8/T19vf4+fr/2gAMAwEAAhEDEQA/APpGiiigAooooAKKKKACiiigAooooAKKKKACiiigAooooAKKKKACiiigAooooAKKKKACiiigAooooAKKKKACiiigAooooAKKKKACiiigAooooAKKKKACiiigAooooAKKKKACiiigAooooAKKKKACiiigAooooAKKKKACimu6RRl5GVEUZLMcAVyuseOra23RaWouJenmN9wf41vRoVKztBXObEYqjho81WVvzOnubqCzhM11KsUY6sxxXG6x49+9Do6e3nyD+Q/x/KuSv9TvNTn829naRuwJ4X6DtVSvfw+V04e9V1f4HyWMzyrV92h7q79f+B/WpPPe3NzcefPPI8uc72bkV0Oj+N7yy2xX4N1COMk/Ov49/wAa5eivRqUKVWPLNaHjUcVWoT56cmn+fqexabrFlq0W+ymDnHzIeGX6irteKQzy20qywSNG6nIZTgiuw0fx5JHth1dPMXp5yD5h9R3rwcRlc4e9S1XbqfV4PPadT3cQuV9+n/AO7oqC0vba/gE1nMkqHup6fX0qevHaadmfRxkpK8XdBRRRSGFFFFABRRRQAUUUUAFFFFABRRRQAUUUUAFFFFABRRRQAUUUUAFFFFABRRRQAUUUUAFFFFABRRRQAUUUUAFFFFABRRRQAUUUUAFFFFABRRRQAUUVDeXcVjZy3M5xHEpY4/lTSbdkKUlFNvZE1c9rHjGw03dHbn7VOP4UPyr9T/hXHaz4rv8AVmaMP5FuekUZ6j3PesKvfw2VL4qz+R8njM+bvDDL5v8ARf5/caeq6/f6xJ/pUxEeciJOFH4VmUUV7cIRguWKsj5epUnUlzTd2FFFFWQFFFFABRRRQBZsr+60+cTWczROO6nr9fWu20fx3DNth1ZPJfp5yDKn6jtXAUVy18LSrr31r36ndhcfXwj/AHb07dD2yKaOeJZIXWRGGQynINPryDTNavtJl3WcxVc/NGeVb6ivSvD+tprmn+cF8uVDtkTPQ+o9q+cxeAnh1zbxPssBmtLGPkatLt/katFFFecewFFFFABRRRQAUV4V+0T4w8Q+F77Qk8PatcaetxHMZRCQN5BXGcj3NM/Z28Y+IvFGq65H4h1e51BLeGJolmIOwktkjA9q6fq8vZe1voB7xWZ4k12Dwz4av9au4pJoLGFpnjixuYDsMkDNadch8WP+SR+Jv+wfJ/KsIJOSTA4vSf2kvDmr6zZabBo2rJJeTpAjOItqlmABOH6c17HXwb4J/wCR+8P/APYSt/8A0YK+8q68XRhSklEAoooriAKKKKACiiigAooooAKKKKACiiigAooooAKKKKACiiigAooooAKKKKACiiigAooooAKKKKACsTxj/wAinef8A/8AQ1rbrD8Zf8ilef8AAP8A0YtdGG/jw9V+ZyY3/dan+F/keWUUUV9sfmRs6N4auNatJriCeKNYW2kODk8Z7VFoehT67cSRW8scZjUMxfPr7V1PgL/kCX//AF0/9lql8O/+Qje/9cl/nXlVMVUiq1vs2t8z3qOCozeGTXx3v8hD8Pbrot/blvTaa53VNJu9Hu/IvUAYjKspyrD1Fa8+ha1J4lmltrWeMNcsyzfdAG7rmtX4hNG7afDkeblifUA4H86KWIqKtCDmpKS+4K+Eoyw9SpGm4OLW7bvrbqY2k+DtQ1W1W53R28L8oZM5YeoA7VNqHgbUbO2aeGSK6VBkqmQ2PYd62fHU8llo1laWzmON22sFOMhRwPpVT4e3czXV3avIzReWHCk5wc44/OsvrGIlReJTVu1ul+5t9TwccQsHKL5mviv1tfY5nSNLm1nUVtLdlRmBYs3QAVJrWiXOh3aw3JV1cZSRejf/AF63/DcK2/xAvYUGFTzQB6DcK1tYjTxLpd/bRqPtmnztsA6nHT8xx9RWtTGThXS+xZX8r9TGll1OphJP/l5d287dDj7Xw9PdaBNqqTRrFDuyhB3HFZFdvo//ACTW/wDrJ/SuIrqw9WU5TUujscGLoQpQpOP2o3fqFdx8Oemo/wDbL/2euHruPhz01H/tl/7PWWY/7rL5fmjfJv8AfofP8mdvRRRXyJ+hBRRRQAjMFGWIA9SaaJYyQBIpJ6AMK4H46O0fwY11o2ZGAhwVOCP3yV80fCW5uH+LnhtXuJmU3oyGkJB+Vveuqlh/aU3O+wj0r9qj/kI+G/8ArlP/ADSo/wBlj/kM+I/+uEP/AKE1es/EP4VaT8SJ7GXV76+tTZK6xi1ZBu3Yzncp9KT4efCfSPhvdX0+kX19dNeoqOLpkIUKSRjao9a19vD6t7Pr/wAEDuDLGDguoP1rkfiuQ3wi8SlSCP7Pk5H0r5R+J13cr8VfEqpczKo1GUALIwA5+te66c7SfsfyNIzOx0ifLMck/O1J4f2fJO+7QHzt4J/5H7w//wBhK3/9GCvvKvg3wT/yP3h//sJW/wD6MFfeVaZh8URhRRVbUbv7Bpd1eBPM+zwvLszjdtUnGfwrzQLNFeHeDv2j08TeKrLSr7w/DpdtcCRpLx9Q3LCqRs5JBjHHy+tUfFP7T9ta3j2/hLSFvI0OBd3shRX91Qcke5I+ldP1WtzcthXPf6K+ePDv7UTPeRxeKtCjit2OGubCQkp7+W3UfRs+xr33TNTstZ0u31HS7mO6s7lA8U0ZyGB/z07VnUozpfEhlqisfxR4p0nwfocura9ciC2j4GBlpG7Ko7k14Jq37Uuom6b+w/DtrHbA/K17MzOw9wuAPzNOnQqVfhQH0nRXivgb9o/SfEGow6b4ksf7IuJmCR3CS+ZAzHoCSAUz75HvVVP2kHk8aroKeGEKNqAshcfb+xk2b9vl/jjP41X1ardq2wHulFch8TPHTfDzwmNaTTxqBNwkPkmbyvvZ5ztPp6Vyfg/4+6Xrvh7WdY8Q2S6Lb6W0a4Fx57TFw2FUbV+b5Tx+PaojRnKPOloB63RXzdq37Ut+14w0Hw7bJbA/K17MzOw9SFwF/M12vw0+PNh421ZNG1axGl6nLnyCsm+KcgZwCQCrdeDn61pLC1Yx5mgPXKKZNNHbwPNPIscUalndzgKByST6V4R4t/abs7G+ktfCOlLqKRkr9supCkbn1VQMke5IrOnSnUdooD3qvl/42+PvFeg/FW+0/RdfvbK0jghZYYZMKCUBJx9a1tA/akka8SPxNoESwMcNPYSksnvsbr/31XnXxr1mw8QfE+51TSLlLqzubW3aOVD1/djg+hHpXdhsPKFW1RdBH1L8MdQu9W+GOg3+pXElzdXForyzSHLO2Tya6quM+EP/ACSDw1/15L/M1zvxF+PGi+Cr+XStNtjrGqxHE0aSbIoD6M+D83sB9cVxOnKdRxggPVaK+Z7P9qbV0u86j4dsJICfuwTujgfU5B/IV3es/tB6Lb+BbfxDoNkdQle8W1uLCaYQyW5ZHbJ4bI+TAI4PrxVywtaLSaGeu0VwHwp+JzfEyx1K4bSRpv2GVI9ouPN37gTn7q46UfEr4u6P8OUit5oX1DVJ03xWcTBcL0DO3O0Ej0JODxWfsp8/JbUDv6K+YG/al8Q/atyaFpQt8/6sySF/++s4/wDHa9O+GHxss/iJqjaTJpM1hqCQNOdsgliZQQD82AR94dRWk8LVhHma0A9RooormAKw/GX/ACKV5/wD/wBGLW5WH4y/5FK8/wCAf+jFrow38eHqvzOTG/7rV/wv8jyyiiivtj8yO98Bf8gS/wD+un/stUvh3/yEb3/rkv8AOsfTNV1XStLmksdq2ry7XZlB+Yjp+QqtpesXmjSySWLqrSKFbcueK8ueFnNVkmvetb5dz3aeOp03h3JP3L3+fY7XRfE083ia702/kUoZXW3O0DBBPy+/H8q5bxVZ3Nh4hkNxI8wkPmRSOckr6fh0qhdm8ttUM1yDFdFxNkY4J+YHir1xqOr+KGS3aNbh4gZBsQKQO/P+e1VTw6o1VVhbla1/zRFbGPE0XQqXc1L3f8mdT4usp9b0OyutOjM+079qckqw6iq/gbSbuxmuru9he3VkCKJBgnnJOPSuZ03xJqekxeVaT/us8RyLuA+npWgdX8SeIreSGAEw9JDEoRfoWP8ALNc8sNWhRdC6UO77XOqOMw1XELE8snUtstm7W9S14XuFu/Hl3cJysglZT7bhioodW/sjx9eSO2IJZ2jl+hPB/A/1rOhh1bw3L9uRI0OPL3b0kHPbAPtVHURdPdm4vk2yXSiYHj5g3eulUITqN3Ti42+443iqlKjFWanGXNt3PR9WsYrDwvqqwfclDygehOM/rXltbjaxrdx4caF2zYLiJpGABPoue/4Vh1WCozoxkpu7uRmeJp4iUHTi0kuvr08gruPhz01H/tl/7PXD13Hw56aj/wBsv/Z6WY/7rL5fmh5N/v0Pn+TO3ooor5E/QgooooA88+O//JFdd/3Yf/RyV8zfCP8A5K94a/6/R/6C1fTPx3/5Irrv+7D/AOjkr5m+Ef8AyV7w1/1+j/0Fq9XC/wC7z+f5CPrrxRI6SW+x2XIOcHFJ4Xkd5rje7NhR1Oaj8XeOvCng+S2TxXfJatchjCGt5JdwGM/dU46ik8I+O/CfjCe5i8KXyXUlsqtMFtpItoJOPvKM9DXxf9i1/wC0v7Q5/d7Wfa2+x3fWo/V/Y217/M+Q/ih/yVfxP/2Epf517zpf/Jnj/wDYIn/9Deui1n4efCjUtcvLzWrawbUJ5me5L6lIjFz1yokAH0xU/jXTtJ0n4B63Y+HFjTTIdNlFusUpkUDJJwxJJ5J719hOvGooRSejRySpziryTSPk/wAE/wDI/eH/APsJW/8A6MFfeVfBvgn/AJH7w/8A9hK3/wDRgr7yp5h8USQrO8Q/8ixqn/XnN/6Aa0azvEP/ACLGqf8AXnN/6Aa85bgfCPh7RrjxDr2m6PZ8T308cCEjIXccFj7AZP4V9o+Gvhh4S8MaTHZWmi2dw4TbLc3UCySzHuWYg9fQcV8ifDbWLfQPiN4f1O9YLbQXaea56IrAoW/Ddn8K+6FYMoZSCCMgjvXp4+ck1FbCR84/H/4VaToukJ4q8NWkdiizLFe20K7Y8McK6r0X5sAgccj0qb9l/wATTtNq3hmeQtCqC8tlJ+4c7XA9jlTXY/tG6va2Pwpm0+aRftOo3EUcMfc7XDscegC9fUj1rzL9mLTpZ/iBqOoDPlWunmNjjjLuuB/44aItzwj5+gFL9ozxRPq/xGOjCQiy0eJVVAeGldQzN9cFV/A+tekfBT4R6JaeELPxB4h06HUNS1CMTRrdRiRIIz90Kp4yRg5689q8b+Oeny2Pxi1sSggXBjnjYj7ysg5H4gj8DX1B8K9atdd+F+g3NmwIis47aRQeUeNQjA+/GfxorNww8FDZgZPxD+EPh3xb4fuRZaZa2GrRxl7a6tohGS4HCuFxuB6c9O1fJ3hVGj8daKki7XXU7dWU9iJVBFfdeqajbaPpN1qN9IsVtaxNLI7HACqMmvhjw7OLr4iaXcAFRNq8MgB7bpwf608HKThJPYD6V/aU/wCSUr/2EIf614X8IfAP/CwvFrafeTyxaVaILm8EbYL87VUehOTz2ANe6ftKf8kpX/sIQ/1rhv2WP+Rh8Rf9esP/AKG1KjJwwspL+tg6nsNx8IfAlxoraYPDVjFEU2iWOPEq+4k+9n6mvjq4Fz4T8YSC3c/adJvz5bnu0b8Hj1x+tffNfB/jv/koPiH/ALCM/wD6GaMDOUnJSdwPob9pLxVNpvgaw0ezdo21qU+cy8ZhQAsv4ll/AGvPfgH8M9P8ZX95rHiGH7Rp+nuscdsSQs0pGfm9QBjjuTXSftPWMzaX4W1BVJhTzYHPZWZUZfzCt+VaH7Lus27+HtY0Usq3UNyLkLnlkZQufwK4/GiLcMJeG/8AwQPU9U+HfhDV9LbT7zw7pwgK7V8q2SNo/dWUAr+FfHXj/wAJt4J8c6joXmGWOBw0Mh6tGw3KT74OD9K+6q+Nvjtq9trHxe1N7KRZI7ZI7YuvQui/Nz3wSR+FTgZyc3HoB7ho/iN/Cf7LlnrMJCz2+lKISR0kZtif+PMK+ePhx4Rf4g/EG10q6ncRSl7m8mB+coOWwfViQM++a9u1PT5tR/Y7gjtxl4tOhuCPVY5Vdv0U15r+zzrFtpXxYhiu5FjXULaS2jZv+enDKM++0j64rWl7tOpKO92B9M2Pw98I6dpY0+28N6Z9nC7Sslqjl/dmYEk+5r5s+O/w2sfA+uWd/oMXk6ZqQYCDJIhlXGQM9iDkfjX1tXz3+1JrVsbbQtERla5Ej3Uig8ouNq/mS35Vy4Sc/bJX3Asfsr/8gXxH/wBfUP8A6A1eY/HmC7h+MmsG8DDzVieEno0flgDHtkEfUGvTv2V/+QL4j/6+of8A0Bq9Q8d/DjQPiFYJDrULJcQA+ReQHbLFntnuPY1tKsqWKlJ/1sBx/gr4vfDW80C004/ZdCZIlRrK6gCRqehAfG1hnvnJ713eg+FvC1hqUuveG7CygmvIhG89kAEkXOeAvy9e4rwHxD+zHr1lFLN4e1a21NVGVgmTyZGGOgPK5/Kub+C/jPV/CXxFsNG8yX7BqF2LO6snPCOx2hgP4WVsZx1GRSlQhOLlRl8gPsOiiivNGFYfjL/kUrz/AIB/6MWtysPxl/yKV5/wD/0YtdGG/jw9V+ZyY3/dav8Ahf5HllFFFfbH5kbdtDLP4NnWCN5G+3KcIpJ+4fSs06dfY/48rj/v03+FadpcTW3g2d7aaSF/tyjdGxU42H0rPOr6lj/kIXX/AH+b/GuWn7Tmly23/wAjuq+y5Yc978vT1Zd8UgjXCCMEQRZB/wBwVJp9y+iaIt9FxcXc4Ef/AFzjOW/M4H4UniSOS58SLGmXklihUepJQVPq9xo4uks5Y7xxYoLcNDIoUkdTgjuc1inzUqcGr6Jv5f8ABOmS5a9WqnZptL1b/wArmfr9qltq0jwD/R7hRPD/ALrc/ocj8Kn12Rre007T42KwpapKyjozvySfWpr82uo+Go5bFJlOnP5bCZgzeW/IOR2B4/GofECmWPTbxRmKWzRA3bcvBFVTldwUul187afhqRVioqpKG0rPTs3r8k9DFrqL/TknTT7u+cw2MNhEHcfec8/IvqT+lcvXVX2oxwpp9lqCGWwmsIi6j70bc/Ovv/OrxHNzR5fP+l5meD9nyT59tPS/S/l3MLUtSe/kRVQQ20I2wwL0Qf1J7mqVXdS02TTp1BYSwSDdDOn3ZF9R7+oqlW9Pl5VybHJW5+d+03/r+kFdx8Oemo/9sv8A2euHruPhz01H/tl/7PXHmP8Ausvl+aPRyb/fofP8mdvRRRXyJ+hBRRRQB558d/8Akiuu/wC7D/6OSvmb4R/8le8Nf9fo/wDQWr6Z+O//ACRXXf8Adh/9HJXzN8I/+SveGv8Ar9H/AKC1erhf93n8/wAhHp37VH/IR8N/9cp/5pUf7LH/ACGfEf8A1wh/9CarP7UNpc3OoeHTbW80wWOfd5cZbHK+gqP9l60ubbWPEJubaaENBDgyRlc/M3qKLr6l/XcCt420fUpvHOsyRabdyRtduVdYGIIz1BxXoOpwy2/7MN/FPG8Ui6VMGR1KkfM3UGq/iH9onw94d8Saho1zo+qSzWM7QPJEI9rFT1GXBxWv4q8RQeMf2fNX1vT7eaKG+02Vo4pAN4wSuDjPpWMpVGoc0bK6Pdx+cSxuGhh3C3LbW/ZWPlPwT/yP3h//ALCVv/6MFfeVfCXgq1uR480AtbzADUYCSY2GP3g9q+7avMPiieGFZ3iH/kWNU/685v8A0A1o1neIf+RY1T/rzm/9ANectwPhbwpon/CS+J9M0UT/AGc38ywCUru2Ejg47816dL4q+Lvwmtjo96kklhbjbBPPbfaIlXtslHb0DHj0riPhV/yVXwv/ANhCKvuOvXxVbkmk1dCPiQ23jz4ta+lw8N7q9y3yLM0eyCFc9M4CIPpX1N8Lfh5B8O/Ca2JkWfULlvNvbhRw79lX/ZUcD15PfFdrRXDWxLqR5UrIZ5b8afhU/j/TIdQ0fy01uxUrGHOBcR9fLJ7EHkH3PrXzvpHiDx38J9Tlit1vNJaRsS211ATFKR3wRgn/AGlP419tUU6WKcI8kldAfLdtH8VPjZcQWWrNNYaDvDTSfZ/s8JHqAeZD6DkA+lcfpXgbxDpnxIsok0HV3tbXV41FwbGTaY1mHzltuMYGc9K+1KKtYxxuoxSQrHln7Qum32q/DJbfS7K5vZ/t0TeVbQtI2BnJwoJxXGfs06Fq+ka7rz6tpN9YJJbQqjXVs8QYhmyBuAzX0NRWKrtUnStuAV8T+NfCHia48da7Nb+HNXlikv5mSSOwlZXBY4IIXBFfbFFFCu6LbSGc34v8H2fjfwRNoWo5jEsatFKB80Mij5WH0Pb0yK+S9V8K+N/hV4kF4sF3Zy2zHytStFLQuv8AvAYwe6t+VfbFFOjiJUrq10+gHyjZfEv4vePrZdK0QSyCX93Jc2dmI+O+6X7qfhiue8a/CXxD4V1Gys7ew1DV5ZbRZrme0tJJY0lLNlAyqc4AHXk5zX2fRWqxnK/cikhHG/DLTnT4Q6Hp2q2jxt9hEU9vPGVYZyCrKeRXzn8R/gvr/gzWJbzQbW51DRy/mQT2ylpLfnIVwvIx2YcfSvr6isqeIlTm5LqB8iaJ8afihJbDSNMmk1K4UbEY2HnTr+Q5+rA0niv4VeNv+EZHirxHHf6jrmoXqxtZwxmeSOPYx3vtBxyqgAcD8a+vKK1+t8rvCKQHiH7NGj6no+j+IF1fTbywaW5iMYurd4i4CnJG4DNcx44uPiz4L+IWr63pK3zaZeXJkjECfaYPLHChkwdp2jrgfWvpaisvrH7xzcU7gfKE/wC0h48urdrOG10uGdxsEsNpIZQenALkZ/CtL4J/CfW77xfbeKvE9nPZ2dnIbiFbpSstzNztbaeQAfmyepAxX05tXdu2jPrilq5YlKLjTja4BRRRXGMKxPGALeE70KMn5P8A0Na26jngjubd4Z1DxyKVZT3BrSlP2dSM+zTMcRTdWjOmuqa+9HilFdVrPgi7sy02nE3MPXZ/Go+nf8PyrlmVkYq4KkHBBHSvtKNenWjzQdz81xGGrYaXLVjYnF5MuntZAjyWlEpGOdwGOtV6KK1SS2MHJvcvf2vdHVI9QJQ3EYAUlOBgYHH0qkzFmLMcknJJ70lFJRjHZFSnKXxO/UsW17NaJOkRXbcRmORWGQR/j71PZazd2EDQRNHJAxyYZow6Z9cHpVCilKnCW6HGrUhZxdrF681R7yHyza2kK5zmCAIT+NQ3V5NeeT55B8mJYkwMfKOlV6KFCMdkEqs5Xu9y0uoTrpzWJKvAzbwrrnY3qp7VVoopqKWxMpSla72Cu5+HIIXUTjgmPB/76rB0fwtqGr4dU8iA/wDLWQcH6DvXouj6TBo1iLa2yedzuerH1ryMyxVP2TpJ3bPoclwVb28cRJWir/O6sX6KKK+aPtQooooA88+O/wDyRXXf92H/ANHJXzN8I/8Akr3hr/r9H/oLV9M/Hf8A5Irrv+7D/wCjkr5m+Ef/ACV7w1/1+j/0Fq9XC/7vP5/kI+2yoPUA/UUBQOgA+gpaK8oZ8N/FD/kq/if/ALCUv86+qPgoA3wX8OgjI+zvwf8Aro9eCfED4W+N9U+I2v3+n+HLu4tbm+kkhlQph1J4Iy1fQ/wo0m+0P4WaHpurWz2t5bwsssL4yh3se3sRXp4qcXRik/6sI60Qxg5EaZ/3RT6KK8wYVXv7QX+m3NozFFuImiLAcgMCM/rViigDxnwz+znpnhrxNp2sw+ILyd7CdZlieBAGK9iRXs1FFaTqTqO8ncAooorMAooooAKKKKACiiigAooooAKKKKACiiigAooooAKKKKACiiigAooooAKKKKACiiigArK1bw7p+sKTcRbJscTR8N+Pr+NatFXCpKnLmg7MzqUoVY8lRXR5frHhG/0rdIi/abcf8tIxyB7jtWBXt9YGseELDVN0kS/Zbg/xxjgn3Fe5h81+zWXzPl8ZkP2sM/k/0f8An955fRWrq3h3UNHc/aIt0WeJU5U/4fjWVXuQnGpHmi7o+XqU50pck1ZhRRRVmYUVasNNu9SnEVlA0rd8DgfU9q7fR/Atvb7ZdVYTydfKX7g+p71yYjF0qC9969up3YTAV8W/3a07vY5DS9Cv9XkxaQnYD80jcKv413Wj+DLHTtsl0BdzjnLj5V+g/wAa6GONIo1jiRURRgKowBTq+exGY1a2kdEfYYPJ6GH96fvS89vkgHHSiiivNPaCiiigAooooAxPGHhe18Z+FLzQb+eaC3uwoeSDG8bWDDGQR1X0rgfDX7PXh/wx4msNbtNX1Saexl81I5THtY4I5wgPevWaK0jVnGPKnoAUUUVmAUUUUAFFFFABRRRQAUUUUAFFFFABRRRQAUUUUAFFFFABRRRQAUUUUAFFFFABRRRQAUUUUAFFFFABRRRQAUUUUAFFFFABRRRQAUUUUAIyq6lXUMpGCCMg1y2seB7S83S6aRay9dn8B/wrqqK2o16lGXNB2ObEYWjiY8tWNzyWfw1q8Fx5JsJnOcBkQsv5jiuh0fwGW2y6w+0dfIjPP4n/AAruaK76maV5x5Vp6HlUciwtOfNK8vJ/1qQ2tpb2UAhtIUijH8KjFTUUV5bbbuz3YxUVZbBRRRSGFFFFABRRRQAUUUUAFFFFABRRRQAUUUUAFFFFABRRRQAUUUUAFFFFABRRRQAUUUUAFFFFABRRRQAUUUUAFFFFABRRRQAUUUUAFFFFABRRRQAUUUUAFFFFABRRRQAUUUUAFFFFABRRRQAUUUUAFFFFABRRRQAUUUUAFFFFABRRRQAUUUUAFFFFABRRRQAUUUUAFFFFABRRRQAUUUUAFFFFABRRRQAUUUUAFFFFABRRRQAUUUUAFFFFABRRRQAUUUUAFFFFAH//2Q==)\n",
    "\n",
    "Bienvenidos a esta introducción a **DataFrames** usando **Pandas**. A lo largo de este notebook, exploraremos juntos el poder y versatilidad que **Pandas** nos ofrece, especialmente cuando trabajamos con **DataFrames**.\n",
    "\n",
    "Pandas es una de las bibliotecas más populares y esenciales en Python para el análisis y manipulación de datos. Si te estás preguntando qué es un **DataFrame**, ¡has venido al lugar correcto! Básicamente, un **DataFrame** es una estructura de datos bidimensional, similar a una hoja de cálculo o una tabla SQL, pero con capacidades que facilitan el análisis y transformación de los datos.\n",
    "\n",
    "En el mundo del análisis de datos y la ciencia de datos, es esencial manejar grandes cantidades de información de manera efectiva y eficiente. Y aquí es donde Pandas realmente brilla.\n",
    "\n",
    "Durante esta clase, veremos ejemplos prácticos que te ayudarán a comprender:\n",
    "\n",
    "1. ¿Por qué Pandas es una herramienta fundamental en el análisis de datos?\n",
    "2. La diferencia entre trabajar con Python puro y Pandas para operaciones de datos.\n",
    "3. Cómo crear, modificar y analizar DataFrames.\n",
    "\n",
    "¡Empecemos nuestro viaje por el mundo de los **DataFrames con Pandas en IronHack**!\n",
    "\n",
    "Documentación Pandas:https://pandas.pydata.org/docs/user_guide/index.html#user-guide"
   ]
  },
  {
   "cell_type": "markdown",
   "metadata": {
    "id": "vyekHAVOZd9g"
   },
   "source": [
    "### **1. Python puro vs. Pandas**\n",
    "\n",
    "Supongamos que tenemos datos de ventas de un pequeño negocio, y nos gustaría calcular el total de ventas.\n",
    "\n",
    "### *1.1. Ventas con Python Puro*\n",
    "\n",
    "Vamos a representar nuestras ventas con una lista de diccionarios, donde cada diccionario contiene información sobre una venta individual.\n"
   ]
  },
  {
   "cell_type": "code",
   "execution_count": null,
   "metadata": {
    "colab": {
     "base_uri": "https://localhost:8080/"
    },
    "executionInfo": {
     "elapsed": 329,
     "status": "ok",
     "timestamp": 1692796556944,
     "user": {
      "displayName": "Alfons MARQUES",
      "userId": "16283189020001385059"
     },
     "user_tz": -120
    },
    "id": "10gAkmd_ZdDJ",
    "outputId": "63f52649-b238-440e-df8e-996f753d1135"
   },
   "outputs": [
    {
     "name": "stdout",
     "output_type": "stream",
     "text": [
      "El total de ventas es: $355\n"
     ]
    }
   ],
   "source": [
    "ventas = [\n",
    "    {\"producto\": \"camiseta\", \"cantidad\": 5, \"precio\": 15},\n",
    "    {\"producto\": \"pantalones\", \"cantidad\": 3, \"precio\": 40},\n",
    "    {\"producto\": \"zapatos\", \"cantidad\": 2, \"precio\": 80}\n",
    "]\n",
    "\n",
    "total_ventas = sum([venta[\"cantidad\"] * venta[\"precio\"] for venta in ventas])\n",
    "print(f\"El total de ventas es: ${total_ventas}\")"
   ]
  },
  {
   "cell_type": "markdown",
   "metadata": {
    "id": "-qEiHB9Ka0d_"
   },
   "source": [
    "### *1.2. Ventas con Pandas*\n",
    "\n",
    "Ahora, vamos a representar las mismas ventas usando un DataFrame de Pandas. Verás cómo este enfoque simplifica y acelera el proceso de cálculo y análisis."
   ]
  },
  {
   "cell_type": "code",
   "execution_count": null,
   "metadata": {
    "colab": {
     "base_uri": "https://localhost:8080/"
    },
    "executionInfo": {
     "elapsed": 1862,
     "status": "ok",
     "timestamp": 1692796559301,
     "user": {
      "displayName": "Alfons MARQUES",
      "userId": "16283189020001385059"
     },
     "user_tz": -120
    },
    "id": "09Q7ZScybEIT",
    "outputId": "5964c00d-289f-47c7-a18e-671918639c80"
   },
   "outputs": [
    {
     "name": "stdout",
     "output_type": "stream",
     "text": [
      "El total de ventas usando Pandas es: $355\n"
     ]
    }
   ],
   "source": [
    "import pandas as pd\n",
    "\n",
    "# Crear un DataFrame\n",
    "df_ventas = pd.DataFrame(ventas)\n",
    "\n",
    "# Calcular el total de ventas\n",
    "df_ventas['total_por_producto'] = df_ventas['cantidad'] * df_ventas['precio']\n",
    "total_ventas_pandas = df_ventas['total_por_producto'].sum()\n",
    "\n",
    "print(f\"El total de ventas usando Pandas es: ${total_ventas_pandas}\")"
   ]
  },
  {
   "cell_type": "markdown",
   "metadata": {
    "id": "77JKp0IVqa5G"
   },
   "source": [
    "Al observar los dos enfoques, se puede notar que mientras Python puro requiere una estructura de comprensión de listas y manipulación manual de listas de diccionarios, Pandas nos ofrece una forma más directa y legible de realizar la misma operación. Esto se vuelve aún más evidente y beneficioso a medida que trabajamos con conjuntos de datos más grandes y realizamos operaciones más complejas."
   ]
  },
  {
   "cell_type": "markdown",
   "metadata": {
    "id": "dnOe-f2ZqeCy"
   },
   "source": [
    "### **2. Librerías a Utilizar**\n",
    "\n",
    "Antes de sumergirnos en el análisis, es esencial entender las herramientas con las que estamos trabajando. Estas son las librerías que vamos a usar, a parte de Pandas,m y una breve descripción de cada una:\n",
    "\n",
    "- **Seaborn**: Esta librería nos facilita la creación de gráficos estadísticos atractivos. Se integra perfectamente con DataFrames de Pandas, lo que nos permite visualizar patrones y tendencias en nuestros datos de manera rápida.\n",
    "\n",
    "- **Matplotlib**: Es la base sobre la que se construye Seaborn. Matplotlib es una poderosa librería de visualización en Python que nos permite generar una amplia variedad de gráficos y personalizarlos a nuestro gusto. Aunque Seaborn simplifica muchas tareas, a veces necesitaremos recurrir directamente a Matplotlib para ciertas personalizaciones.\n",
    "\n",
    "Ahora, procedamos a importar estas librerías para comenzar con nuestro análisis:"
   ]
  },
  {
   "cell_type": "code",
   "execution_count": null,
   "metadata": {
    "id": "2z9d7xWMqukO"
   },
   "outputs": [],
   "source": [
    "import seaborn as sns\n",
    "import matplotlib.pyplot as plt"
   ]
  },
  {
   "cell_type": "markdown",
   "metadata": {
    "id": "MpUZf9cmqxcA"
   },
   "source": [
    "Con estas librerías listas, podemos iniciar nuestro viaje exploratorio en el mundo de los datos."
   ]
  },
  {
   "cell_type": "markdown",
   "metadata": {
    "id": "QCJnYW4PbICZ"
   },
   "source": [
    "### **3. Caso de uso: Análisis TIPS dataset**\n",
    "\n",
    "*Google Colab* proporciona algunas bibliotecas preinstaladas y facilidades para cargar datasets. Una de las bibliotecas más conocidas que viene con datasets de ejemplo es seaborn. En este caso utilizaremos TIPS.\n",
    "\n",
    "TIPS un conjunto de datos que registra propinas dejadas por clientes en un restaurante. Utilizando Pandas y DataFrames, aprenderemos a extraer insights de este conjunto para entender mejor el comportamiento de los clientes."
   ]
  },
  {
   "cell_type": "code",
   "execution_count": null,
   "metadata": {
    "id": "HyBNiCtVibBi"
   },
   "outputs": [],
   "source": [
    "# Cargar el dataset de propinas\n",
    "df_tips = sns.load_dataset('tips')"
   ]
  },
  {
   "cell_type": "markdown",
   "metadata": {
    "id": "KoaavCqVjoTf"
   },
   "source": [
    "### **3.1. Exploración Básica con DataFrames (TIPS)**\n",
    "\n",
    "**Contexto**: El DataFrame `tips` contiene registros de propinas dejadas por diferentes clientes en un restaurante. Fue diseñado para examinar la relación entre la cuenta total de una comida y la propina dejada, además de explorar otras posibles relaciones como el día, el momento (almuerzo o cena) y el tamaño del grupo.\n",
    "\n",
    "**Columnas**:\n",
    "\n",
    "- **total_bill**: El coste total de la comida en dólares (USD).\n",
    "- **tip**: La propina dejada por el cliente en dólares (USD).\n",
    "- **sex**: El género del cliente (Hombre -male- o Mujer -Female-).\n",
    "- **smoker**: Si el cliente es fumador (Sí -Yes- o No -No-).\n",
    "- **day**: El día de la semana en que se registró la comida (Jue, Vie, Sáb, Dom).\n",
    "- **time**: Si la comida fue almuerzo o cena (Almuerzo o Cena).\n",
    "- **size**: El número total de personas en el grupo del cliente.\n",
    "\n",
    "Lo primero que debemos hacer con un dataset es entender que datos tenemos en él. Por eso, hay varias funciones que nos permiten entender rápidamente la estructura y contenido de un DataFrame a través de Pandas. Algunas de las más útiles son:\n",
    "\n",
    "- `head()`: Muestra las primeras filas del DataFrame.\n",
    "- `info()`: Proporciona un resumen del DataFrame, incluidos el número de entradas, los tipos de datos y las columnas no nulas.\n",
    "- `describe()`: Genera estadísticas descriptivas de las columnas."
   ]
  },
  {
   "cell_type": "code",
   "execution_count": null,
   "metadata": {
    "colab": {
     "base_uri": "https://localhost:8080/",
     "height": 206
    },
    "executionInfo": {
     "elapsed": 14,
     "status": "ok",
     "timestamp": 1692796561943,
     "user": {
      "displayName": "Alfons MARQUES",
      "userId": "16283189020001385059"
     },
     "user_tz": -120
    },
    "id": "-Y1x_DxTkK-0",
    "outputId": "97b8d75b-1032-40b0-d44d-3ca5d2cc7ed7"
   },
   "outputs": [],
   "source": [
    "# Muestra las primeras 5 lineas del dataset\n",
    "df_tips.head()"
   ]
  },
  {
   "cell_type": "code",
   "execution_count": null,
   "metadata": {
    "colab": {
     "base_uri": "https://localhost:8080/"
    },
    "executionInfo": {
     "elapsed": 13,
     "status": "ok",
     "timestamp": 1692796561943,
     "user": {
      "displayName": "Alfons MARQUES",
      "userId": "16283189020001385059"
     },
     "user_tz": -120
    },
    "id": "EYMJKaf7kThY",
    "outputId": "dcad710a-4ebd-42e0-92ac-d21eabaa1c69"
   },
   "outputs": [],
   "source": [
    "# Información general\n",
    "df_tips.info()"
   ]
  },
  {
   "cell_type": "code",
   "execution_count": null,
   "metadata": {
    "colab": {
     "base_uri": "https://localhost:8080/",
     "height": 300
    },
    "executionInfo": {
     "elapsed": 8,
     "status": "ok",
     "timestamp": 1692796561943,
     "user": {
      "displayName": "Alfons MARQUES",
      "userId": "16283189020001385059"
     },
     "user_tz": -120
    },
    "id": "ZjD2t1RbkayZ",
    "outputId": "38ed9534-95ee-49fc-d6bd-23caa32d8ad7"
   },
   "outputs": [],
   "source": [
    "# Descripción estadística\n",
    "df_tips.describe()"
   ]
  },
  {
   "cell_type": "markdown",
   "metadata": {
    "id": "4LARAbZUiv_Z"
   },
   "source": [
    "Para entender mejor como usar **DataFrames** de Pandas, vamos a plantear un análisis básico (preguntas). Estas preguntas nos ayudarán a estructurar nuestra exploración y comprender mejor las funcionalidades que ofrece Pandas para trabajar con DataFrames.\n",
    "\n",
    "Nuestras preguntas serán:\n",
    "\n",
    "1. **¿Cuál es la relación entre el total de la factura y la propina?**\n",
    "   - Aquí aprenderemos a correlacionar dos columnas.\n",
    "   \n",
    "2. **¿Cuál es el promedio de propina que dejan hombres y mujeres?**\n",
    "   - Esta pregunta nos llevará a utilizar la función `groupby` y aprenderemos sobre agregaciones.\n",
    "   \n",
    "3. **¿Cómo se distribuyen las propinas entre los días de la semana?**\n",
    "   - Usaremos `groupby` nuevamente, pero de forma más compleja.\n",
    "   \n",
    "4. **¿Cuál es la factura total por día de la semana?**\n",
    "   - Introduciremos las funciones de ventana (*windows functions*) para obtener acumulativos.\n",
    "   \n",
    "5. **¿Hay alguna tendencia observable en la propina basada en el tamaño del grupo que cena?**\n",
    "   - Aquí aprenderemos sobre `pivot_table` y cómo nos ayuda a reestructurar y resumir datos.\n",
    "\n",
    "No obstante, antes de analizar nuestros datos, es esencial entender y dominar las operaciones básicas con Pandas.\n",
    "\n"
   ]
  },
  {
   "cell_type": "markdown",
   "metadata": {
    "id": "yePzD7rZ_-Mp"
   },
   "source": [
    "- **Copiar un DataFrame**: Es común querer trabajar en una copia de un DataFrame para mantener el original intacto. Sin embargo, simplemente asignar un DataFrame a una nueva variable no crea una nueva copia, sino una referencia al mismo objeto. Es decir, cualquier cambio en la \"copia\" afectará al original. Para evitar esto, usamos el método `.copy()`."
   ]
  },
  {
   "cell_type": "code",
   "execution_count": null,
   "metadata": {
    "id": "Be1Yq-Rt_8EO"
   },
   "outputs": [],
   "source": [
    "# Hacer una copia del DataFrame original\n",
    "df_tips_copy = df_tips.copy()"
   ]
  },
  {
   "cell_type": "markdown",
   "metadata": {
    "id": "8YdsPJt2AWHr"
   },
   "source": [
    "**Nota:** Es vital entender que simplemente hacer `df_tips_copy = df_tips` no copiará el DataFrame. Ambas variables apuntarían al mismo objeto en memoria, y cualquier cambio en uno afectará al otro."
   ]
  },
  {
   "cell_type": "markdown",
   "metadata": {
    "id": "h2lxz6vb_4TG"
   },
   "source": [
    "- **Renombrar columnas:** En muchos conjuntos de datos, los nombres de las columnas pueden no ser descriptivos o pueden ser confusos. Renombrar las columnas puede hacer que el DataFrame sea más legible y más fácil de trabajar."
   ]
  },
  {
   "cell_type": "code",
   "execution_count": null,
   "metadata": {
    "colab": {
     "base_uri": "https://localhost:8080/",
     "height": 206
    },
    "executionInfo": {
     "elapsed": 8,
     "status": "ok",
     "timestamp": 1692796561944,
     "user": {
      "displayName": "Alfons MARQUES",
      "userId": "16283189020001385059"
     },
     "user_tz": -120
    },
    "id": "k_10i_wv_k1S",
    "outputId": "e487b7c6-f069-4ffe-f701-74cf16088ace"
   },
   "outputs": [],
   "source": [
    "# Renombrar algunas columnas para hacerlas más descriptivas\n",
    "df_tips_copy.rename(columns={'sex': 'gender', 'size': 'party_size'}, inplace=True)\n",
    "df_tips_copy.head()"
   ]
  },
  {
   "cell_type": "markdown",
   "metadata": {
    "id": "IwtA6rL9AkyG"
   },
   "source": [
    "**Tip**: Usar `inplace=True` significa que el DataFrame original se modificará directamente y no se creará una copia."
   ]
  },
  {
   "cell_type": "markdown",
   "metadata": {
    "id": "d0PQnsxjAt4A"
   },
   "source": [
    "- **Seleccionar datos específicos con `.iloc[]` y `.loc[]`**:  `.iloc[]` y `.loc[]` son dos de los métodos más importantes para seleccionar datos desde un DataFrame. Aunque pueden parecer similares, tienen diferencias fundamentales en su uso:\n",
    " - `.iloc[]`: Selecciona datos basado en la posición numérica. Se refiere a la ubicación del índice. Es similar a tratar el DataFrame como si fuera una matriz.\n",
    " - `.loc[]`: Selecciona datos basado en las etiquetas/nombres. Es necesario proporcionar el nombre de la columna (o fila) para acceder a los datos."
   ]
  },
  {
   "cell_type": "code",
   "execution_count": null,
   "metadata": {
    "colab": {
     "base_uri": "https://localhost:8080/"
    },
    "executionInfo": {
     "elapsed": 34,
     "status": "ok",
     "timestamp": 1692796562406,
     "user": {
      "displayName": "Alfons MARQUES",
      "userId": "16283189020001385059"
     },
     "user_tz": -120
    },
    "id": "KFsV9b6RBINs",
    "outputId": "b0b2a1f5-ed47-4c88-c90e-c831dd339adb"
   },
   "outputs": [],
   "source": [
    "# Uso de iloc\n",
    "# Para seleccionar la primera fila del DataFrame.\n",
    "first_row = df_tips.iloc[0]\n",
    "print(first_row)"
   ]
  },
  {
   "cell_type": "code",
   "execution_count": null,
   "metadata": {
    "colab": {
     "base_uri": "https://localhost:8080/"
    },
    "executionInfo": {
     "elapsed": 31,
     "status": "ok",
     "timestamp": 1692796562407,
     "user": {
      "displayName": "Alfons MARQUES",
      "userId": "16283189020001385059"
     },
     "user_tz": -120
    },
    "id": "yF5Le61uBMsj",
    "outputId": "6042da94-e799-4606-cbac-abec75be732d"
   },
   "outputs": [],
   "source": [
    "# Para seleccionar las primeras tres filas y las primeras dos columnas.\n",
    "subset_data = df_tips.iloc[:3, :2]\n",
    "print(subset_data)"
   ]
  },
  {
   "cell_type": "markdown",
   "metadata": {
    "id": "Set1S4D4DAWS"
   },
   "source": [
    "En el ejemplo de `.iloc[]` anterior, usamos números enteros para seleccionar las filas y columnas. El resultado es similar al \"slicing\" en listas de Python."
   ]
  },
  {
   "cell_type": "code",
   "execution_count": null,
   "metadata": {
    "colab": {
     "base_uri": "https://localhost:8080/"
    },
    "executionInfo": {
     "elapsed": 28,
     "status": "ok",
     "timestamp": 1692796562407,
     "user": {
      "displayName": "Alfons MARQUES",
      "userId": "16283189020001385059"
     },
     "user_tz": -120
    },
    "id": "65OhTlDoDLFV",
    "outputId": "5ff995f8-0a08-43d9-a6df-f553a572cb11"
   },
   "outputs": [],
   "source": [
    "# Uso de loc\n",
    "# Para seleccionar datos de la columna 'gender' para las primeras cinco filas.\n",
    "gender_data = df_tips.loc[:4, 'sex']\n",
    "print(gender_data)"
   ]
  },
  {
   "cell_type": "code",
   "execution_count": null,
   "metadata": {
    "colab": {
     "base_uri": "https://localhost:8080/"
    },
    "executionInfo": {
     "elapsed": 25,
     "status": "ok",
     "timestamp": 1692796562408,
     "user": {
      "displayName": "Alfons MARQUES",
      "userId": "16283189020001385059"
     },
     "user_tz": -120
    },
    "id": "YiOlKl4LDP-2",
    "outputId": "0439ad49-f468-4c42-d31d-d75b554e2d81"
   },
   "outputs": [],
   "source": [
    "# Para seleccionar datos de las columnas 'gender' y 'tip' para las primeras cinco filas.\n",
    "subset_data = df_tips.loc[:4, ['sex', 'tip']]\n",
    "print(subset_data)"
   ]
  },
  {
   "cell_type": "markdown",
   "metadata": {
    "id": "QrzJfWegDZ_w"
   },
   "source": [
    "Con loc, se usan etiquetas/nombres para seleccionar. Si te fijas, se proporciona el nombre de la columna para acceder a los datos.\n",
    "\n",
    "Aunque iloc y loc puedan parecer intercambiables, es fundamental entender sus diferencias para usarlos eficientemente. Mientras iloc se centra en la posición, loc se basa en las etiquetas. Elegir uno sobre el otro depende de la tarea específica que estés realizando."
   ]
  },
  {
   "cell_type": "markdown",
   "metadata": {
    "id": "PKIGNv90CMyD"
   },
   "source": [
    "- **Filtrar el DataFrame**: Es común que queramos trabajar solo con una parte de nuestros datos. Por ejemplo, podemos estar interesados en registros donde las propinas son superiores a $5."
   ]
  },
  {
   "cell_type": "code",
   "execution_count": null,
   "metadata": {
    "colab": {
     "base_uri": "https://localhost:8080/"
    },
    "executionInfo": {
     "elapsed": 21,
     "status": "ok",
     "timestamp": 1692796562408,
     "user": {
      "displayName": "Alfons MARQUES",
      "userId": "16283189020001385059"
     },
     "user_tz": -120
    },
    "id": "y8T0dAuyCNTZ",
    "outputId": "9f2c273c-decc-4430-8f07-a672613a2597"
   },
   "outputs": [],
   "source": [
    "# Filtrar el DataFrame para obtener registros donde la propina es mayor que $5\n",
    "high_tips = df_tips[df_tips['tip'] > 5]\n",
    "print(high_tips)"
   ]
  },
  {
   "cell_type": "markdown",
   "metadata": {
    "id": "xO_9v2-PDv_C"
   },
   "source": [
    "Podriamos añadir más complejidad con filtros extra:"
   ]
  },
  {
   "cell_type": "code",
   "execution_count": null,
   "metadata": {
    "colab": {
     "base_uri": "https://localhost:8080/"
    },
    "executionInfo": {
     "elapsed": 18,
     "status": "ok",
     "timestamp": 1692796562409,
     "user": {
      "displayName": "Alfons MARQUES",
      "userId": "16283189020001385059"
     },
     "user_tz": -120
    },
    "id": "VUUJK9FjDu0S",
    "outputId": "b4c962d2-c347-41d0-c8f0-63522f969f8a"
   },
   "outputs": [],
   "source": [
    "high_tips_female = df_tips[(df_tips['tip'] > 5) & (df_tips['sex']=='Female')]\n",
    "print(high_tips_female)"
   ]
  },
  {
   "cell_type": "markdown",
   "metadata": {
    "id": "IhW7Tp4F_OcP"
   },
   "source": [
    "#### **3.1.1 ¿Cuál es la relación entre el total de la factura y la propina?**\n",
    "\n",
    "Para entender la relación entre dos variables, una función útil es `.corr()`, que nos da el coeficiente de correlación. Valores cercanos a 1 indican una fuerte correlación positiva, mientras que valores cercanos a -1 indican una fuerte correlación negativa."
   ]
  },
  {
   "cell_type": "code",
   "execution_count": null,
   "metadata": {
    "colab": {
     "base_uri": "https://localhost:8080/"
    },
    "executionInfo": {
     "elapsed": 14,
     "status": "ok",
     "timestamp": 1692796562409,
     "user": {
      "displayName": "Alfons MARQUES",
      "userId": "16283189020001385059"
     },
     "user_tz": -120
    },
    "id": "PDjqWnE_trTQ",
    "outputId": "f3cd9a2d-d702-4bff-dfca-326746a59f1a"
   },
   "outputs": [],
   "source": [
    "correlation = df_tips['total_bill'].corr(df_tips['tip'])\n",
    "correlation"
   ]
  },
  {
   "cell_type": "markdown",
   "metadata": {
    "id": "0A45ByJzt17L"
   },
   "source": [
    "También podemos visualizar esta relación con un gráfico de dispersión."
   ]
  },
  {
   "cell_type": "code",
   "execution_count": null,
   "metadata": {
    "colab": {
     "base_uri": "https://localhost:8080/",
     "height": 472
    },
    "executionInfo": {
     "elapsed": 1026,
     "status": "ok",
     "timestamp": 1692796563425,
     "user": {
      "displayName": "Alfons MARQUES",
      "userId": "16283189020001385059"
     },
     "user_tz": -120
    },
    "id": "KLx6V4lnoFCL",
    "outputId": "49659ec0-738e-4da6-bbe7-c05f3e1f3d6e"
   },
   "outputs": [],
   "source": [
    "sns.scatterplot(data=df_tips, x='total_bill', y='tip')\n",
    "plt.title('Relación entre Total de Factura y Propina')\n",
    "plt.show()"
   ]
  },
  {
   "cell_type": "markdown",
   "metadata": {
    "id": "Yc1HrGd8rRyw"
   },
   "source": [
    "En el gráfico, cada punto representa una factura individual, con su total en el eje X y la propina correspondiente en el eje Y. Parece que hay una tendencia: a medida que la factura aumenta, también lo hace la propina."
   ]
  },
  {
   "cell_type": "markdown",
   "metadata": {
    "id": "tQB7to6vuPPg"
   },
   "source": [
    "#### **3.1.2 ¿Cuál es el promedio de propina que dejan hombres y mujeres?**\n",
    "\n",
    "Para realizar esta tarea, utilizaremos la función `.groupby()`de Pandas. Esta función nos permite agrupar un DataFrame en base a alguna columna (en este caso, el género) y aplicar funciones de agregación (como calcular el promedio) a las columnas de interés."
   ]
  },
  {
   "cell_type": "code",
   "execution_count": null,
   "metadata": {
    "colab": {
     "base_uri": "https://localhost:8080/"
    },
    "executionInfo": {
     "elapsed": 9,
     "status": "ok",
     "timestamp": 1692796563425,
     "user": {
      "displayName": "Alfons MARQUES",
      "userId": "16283189020001385059"
     },
     "user_tz": -120
    },
    "id": "_MGUFZ2zugzQ",
    "outputId": "956c6e33-8349-4800-aee3-482feba7e793"
   },
   "outputs": [],
   "source": [
    "avg_tip_gender = df_tips.groupby('sex')['tip'].mean()\n",
    "avg_tip_gender"
   ]
  },
  {
   "cell_type": "markdown",
   "metadata": {
    "id": "H3PQ-RJ9vJcd"
   },
   "source": [
    "La salida muestra el promedio de propinas para hombres y mujeres. Esta es una de las ventajas de Pandas: con una sola línea de código, podemos obtener resúmenes potentes de los datos.\n",
    "\n",
    "Para visualizar de forma clara las diferencias en los promedios, usaremos un gráfico de barras:"
   ]
  },
  {
   "cell_type": "code",
   "execution_count": null,
   "metadata": {
    "colab": {
     "base_uri": "https://localhost:8080/",
     "height": 472
    },
    "executionInfo": {
     "elapsed": 497,
     "status": "ok",
     "timestamp": 1692796563917,
     "user": {
      "displayName": "Alfons MARQUES",
      "userId": "16283189020001385059"
     },
     "user_tz": -120
    },
    "id": "WGGS1MyGvIfc",
    "outputId": "098780fa-b938-4428-b4b6-1953f5eb9c2e"
   },
   "outputs": [],
   "source": [
    "avg_tip_gender.plot(kind='bar', color=['lightblue', 'pink'])\n",
    "plt.title('Promedio de Propina por Género')\n",
    "plt.xlabel('Género')\n",
    "plt.ylabel('Promedio de Propina')\n",
    "plt.grid(axis='y')\n",
    "plt.xticks(rotation=0)\n",
    "plt.show()"
   ]
  },
  {
   "cell_type": "markdown",
   "metadata": {
    "id": "IGEJ7-wjxXy8"
   },
   "source": [
    "A partir de los resultados obtenidos, podríamos observar **[si hay / no hay]** una diferencia significativa entre el promedio de propinas dejadas por hombres y mujeres. Es importante recordar que, aunque podemos identificar diferencias en el promedio, esto no necesariamente implica causalidad. Siempre es bueno considerar otros factores o variables que podrían estar influenciando estas observaciones."
   ]
  },
  {
   "cell_type": "markdown",
   "metadata": {
    "id": "Egq8fERsy71t"
   },
   "source": [
    "#### **Extra Tip: Potencial del `groupby`**\n",
    "\n",
    "La función `groupby` es una herramienta poderosa y versátil en Pandas que te permite agrupar tus datos de acuerdo a alguna categoría y luego aplicar una operación a esos grupos. A continuación, presento algunas operaciones que puedes hacer con `groupby`:\n",
    "\n",
    "- **`.mean()`**: Calcula el promedio de los grupos. Por ejemplo, `tips.groupby('sex')['total_bill'].mean()` te daría el promedio de la factura por género.\n",
    "  \n",
    "- **`.sum()`**: Retorna la suma de los grupos. Así, `tips.groupby('sex')['total_bill'].sum()` nos da la suma total de las facturas según el género.\n",
    "  \n",
    "- **`.max()` y `.min()`**: Obtiene el valor máximo o mínimo de cada grupo, respectivamente.\n",
    "  \n",
    "- **`.agg()`**: Esta es una función de agregación que te permite especificar múltiples estadísticas para cada grupo en una sola operación. Por ejemplo:"
   ]
  },
  {
   "cell_type": "code",
   "execution_count": null,
   "metadata": {
    "colab": {
     "base_uri": "https://localhost:8080/",
     "height": 174
    },
    "executionInfo": {
     "elapsed": 20,
     "status": "ok",
     "timestamp": 1692796563917,
     "user": {
      "displayName": "Alfons MARQUES",
      "userId": "16283189020001385059"
     },
     "user_tz": -120
    },
    "id": "VhalbstszArb",
    "outputId": "ffabe2d4-51ad-41c1-bf8f-353ff469969e"
   },
   "outputs": [],
   "source": [
    "df_tips.groupby('sex').agg({'total_bill': ['mean', 'sum'], 'tip': ['max', 'min']})"
   ]
  },
  {
   "cell_type": "markdown",
   "metadata": {
    "id": "XfN2JM-EzVGM"
   },
   "source": [
    "- **`.transform()`**: Te permite realizar una operación específica en cada grupo y devolver un DataFrame con el índice original. Un ejemplo podría ser estandarizar datos dentro de grupos:"
   ]
  },
  {
   "cell_type": "code",
   "execution_count": null,
   "metadata": {
    "colab": {
     "base_uri": "https://localhost:8080/"
    },
    "executionInfo": {
     "elapsed": 17,
     "status": "ok",
     "timestamp": 1692796563918,
     "user": {
      "displayName": "Alfons MARQUES",
      "userId": "16283189020001385059"
     },
     "user_tz": -120
    },
    "id": "4gSN3aq2zgZm",
    "outputId": "b9172b9c-5ee2-4731-ea6f-96305556ce06"
   },
   "outputs": [],
   "source": [
    "# Podriamos crear una columna extra, añadiencdo df_tips['zscore'] = df_tips.groupby('sex')['tip'].transform(zscore)\n",
    "zscore = lambda x: (x - x.mean()) / x.std()\n",
    "df_tips.groupby('sex')['tip'].transform(zscore)"
   ]
  },
  {
   "cell_type": "markdown",
   "metadata": {
    "id": "XPg2260cz8f3"
   },
   "source": [
    "- **`.filter()`:** Esta operación permite filtrar datos basados en propiedades del grupo. Por ejemplo, si quisieras mantener solo los días donde la factura promedio supera un cierto valor:"
   ]
  },
  {
   "cell_type": "code",
   "execution_count": null,
   "metadata": {
    "colab": {
     "base_uri": "https://localhost:8080/",
     "height": 423
    },
    "executionInfo": {
     "elapsed": 15,
     "status": "ok",
     "timestamp": 1692796563919,
     "user": {
      "displayName": "Alfons MARQUES",
      "userId": "16283189020001385059"
     },
     "user_tz": -120
    },
    "id": "hi2JxIv10Jaw",
    "outputId": "870e23a8-37f3-465d-a18d-21e43e1a48e8"
   },
   "outputs": [],
   "source": [
    "df_tips.groupby('day').filter(lambda x: x['total_bill'].mean() > 20)"
   ]
  },
  {
   "cell_type": "markdown",
   "metadata": {
    "id": "2vSVH4M9uRVy"
   },
   "source": [
    "#### **3.1.3 ¿Cómo se distribuyen las propinas entre los días de la semana?**\n",
    "\n",
    "En muchos restaurantes, los días de la semana pueden influir en la cantidad y el total de las propinas que los camareros reciben. Esto puede estar relacionado con el tráfico de clientes, la naturaleza de las reservas (por ejemplo, eventos especiales o cenas de fin de semana) u otros factores. Aquí, vamos a crear una nueva columna que represente el porcentaje de propina con respecto a la factura total. Luego, utilizaremos esta nueva columna para analizar cómo se distribuyen las propinas en relación con el total de la factura a lo largo de la semana."
   ]
  },
  {
   "cell_type": "code",
   "execution_count": null,
   "metadata": {
    "colab": {
     "base_uri": "https://localhost:8080/",
     "height": 206
    },
    "executionInfo": {
     "elapsed": 13,
     "status": "ok",
     "timestamp": 1692796563919,
     "user": {
      "displayName": "Alfons MARQUES",
      "userId": "16283189020001385059"
     },
     "user_tz": -120
    },
    "id": "c0UKXbvg1c7N",
    "outputId": "72c243c5-f08a-4d5d-b0cf-296feaea9a10"
   },
   "outputs": [],
   "source": [
    "df_tips['tip_percentage'] = (df_tips['tip'] / df_tips['total_bill']) * 100\n",
    "df_tips.head()"
   ]
  },
  {
   "cell_type": "markdown",
   "metadata": {
    "id": "pQxpf-Si1taz"
   },
   "source": [
    "Una vez que hemos creado la nueva columna, podemos agrupar los datos por día y sexo del cliente y luego obtener estadísticas descriptivas usando `.agg()`."
   ]
  },
  {
   "cell_type": "code",
   "execution_count": null,
   "metadata": {
    "colab": {
     "base_uri": "https://localhost:8080/",
     "height": 331
    },
    "executionInfo": {
     "elapsed": 397,
     "status": "ok",
     "timestamp": 1692796564303,
     "user": {
      "displayName": "Alfons MARQUES",
      "userId": "16283189020001385059"
     },
     "user_tz": -120
    },
    "id": "wWUEEzDZ10rW",
    "outputId": "e5f095c4-5100-455d-f4d3-394705610409"
   },
   "outputs": [],
   "source": [
    "grouped_data = df_tips.groupby(['day', 'sex']).agg({'tip_percentage': ['mean', 'std', 'min', 'max']}).reset_index()\n",
    "grouped_data"
   ]
  },
  {
   "cell_type": "markdown",
   "metadata": {
    "id": "tpLEJ0fG5G-D"
   },
   "source": [
    "No obstante, las columnas se están generando como un MultiIndex debido a la función `.agg`. Podemos aplanar este MultiIndex y nombrar las columnas de manera más accesible. Para evitar esto, podemos realizar la agrupación de la siguiente forma:"
   ]
  },
  {
   "cell_type": "code",
   "execution_count": null,
   "metadata": {
    "colab": {
     "base_uri": "https://localhost:8080/",
     "height": 206
    },
    "executionInfo": {
     "elapsed": 9,
     "status": "ok",
     "timestamp": 1692796564304,
     "user": {
      "displayName": "Alfons MARQUES",
      "userId": "16283189020001385059"
     },
     "user_tz": -120
    },
    "id": "AsT5VU2-4MGL",
    "outputId": "8cc32cee-a6de-4d8a-c8f6-17f222668518"
   },
   "outputs": [],
   "source": [
    "# Definimos las funciones de agregación\n",
    "agg_funcs = {\n",
    "    'tip_percentage': ['mean', 'std', 'min', 'max']\n",
    "}\n",
    "\n",
    "grouped_data = df_tips.groupby(['day', 'sex']).agg(agg_funcs).reset_index()\n",
    "\n",
    "# Renombramos las columnas después de la agregación para evitar MultiIndex\n",
    "grouped_data.columns = ['_'.join(col).strip() if col[1] else col[0] for col in grouped_data.columns.values]\n",
    "\n",
    "grouped_data.head()"
   ]
  },
  {
   "cell_type": "markdown",
   "metadata": {
    "id": "g6NCFLkw8x29"
   },
   "source": [
    "Este código primero realiza las operaciones de agregación. Luego, renombra las columnas después de la agregación utilizando una list comprehension para formatear los nombres de las columnas. Hay otras formas de hacerlo, pero por ahora esta te va a servir."
   ]
  },
  {
   "cell_type": "code",
   "execution_count": null,
   "metadata": {
    "colab": {
     "base_uri": "https://localhost:8080/",
     "height": 487
    },
    "executionInfo": {
     "elapsed": 1026,
     "status": "ok",
     "timestamp": 1692796565324,
     "user": {
      "displayName": "Alfons MARQUES",
      "userId": "16283189020001385059"
     },
     "user_tz": -120
    },
    "id": "DCWQl0OQ2N3L",
    "outputId": "c1ea18f4-7d04-4b4c-dd74-d69b36a59b53"
   },
   "outputs": [],
   "source": [
    "grouped_data.reset_index(inplace=True)  # Reseteamos el índice para facilitar el gráfico\n",
    "grouped_data.plot(x='day', y='tip_percentage_mean', kind='bar', legend=False, color='teal')\n",
    "plt.title('Distribución del porcentaje medio de propina durante la semana')\n",
    "plt.ylabel('Porcentaje de propina (%)')\n",
    "plt.xlabel('Día de la semana')\n",
    "plt.xticks(rotation=45)\n",
    "plt.tight_layout()\n",
    "plt.show()"
   ]
  },
  {
   "cell_type": "markdown",
   "metadata": {
    "id": "HASPsQC72axb"
   },
   "source": [
    "Después de haber agrupado nuestros datos por día y sexo, y haber calculado el porcentaje medio de propina, ahora vamos a visualizar estos resultados. Para ello, vamos a utilizar un gráfico de barras, que es una herramienta eficaz para comparar cantidades de diferentes categorías.\n",
    "\n",
    "El eje X de nuestro gráfico representa los días de la semana, mientras que el eje Y muestra el porcentaje medio de propina dado en ese día. Así, podemos tener una vista rápida y clara de cómo se distribuye el comportamiento de propinas a lo largo de la semana.\n",
    "\n",
    "En el gráfico, podemos observar:\n",
    "\n",
    "- La altura de cada barra muestra el porcentaje medio de propina para ese día específico.\n",
    "- La elección del color \"teal\" (verde azulado) es meramente estética y para proporcionar una visualización clara.\n",
    "\n",
    "Estudiar este tipo de gráficos nos ayuda a identificar tendencias, patrones o cualquier anomalía en los datos. Por ejemplo, podríamos descubrir si hay un día específico en el que los clientes tienden a ser más generosos con las propinas, lo que podría indicar una mayor afluencia de clientes o tal vez alguna promoción especial que incite a los clientes a dar mayores propinas."
   ]
  },
  {
   "cell_type": "markdown",
   "metadata": {
    "id": "DwF6cuLtuS08"
   },
   "source": [
    "#### **3.1.4 ¿Cuál es la factura total por día de la semana?**\n",
    "\n",
    "En muchas situaciones, nos interesa no solo agrupar y sumar datos, sino también entender cómo se acumulan o se distribuyen a lo largo de una variable específica. Las funciones de ventana en Pandas nos permiten hacer precisamente eso. Por ejemplo, podemos querer saber cómo se acumulan las ventas a lo largo de la semana o cómo se distribuyen las propinas durante los días. En este ejercicio, vamos a investigar cómo se acumula la factura total por día de la semana.\n",
    "\n",
    "Comenzaremos agrupando nuestros datos por día de la semana y sumando las facturas para cada día. Después, utilizaremos la función `.cumsum()` para obtener un acumulado."
   ]
  },
  {
   "cell_type": "code",
   "execution_count": null,
   "metadata": {
    "colab": {
     "base_uri": "https://localhost:8080/"
    },
    "executionInfo": {
     "elapsed": 13,
     "status": "ok",
     "timestamp": 1692796565325,
     "user": {
      "displayName": "Alfons MARQUES",
      "userId": "16283189020001385059"
     },
     "user_tz": -120
    },
    "id": "xClztpIKFHyy",
    "outputId": "a4c21d29-05b5-4001-bfcb-ad741ebcc915"
   },
   "outputs": [],
   "source": [
    "# Agrupamos por día y sumamos las facturas\n",
    "total_bill_per_day = df_tips.groupby('day')['total_bill'].sum().sort_values()\n",
    "\n",
    "# Usamos cumsum() para obtener el acumulado\n",
    "total_bill_cumsum = total_bill_per_day.cumsum()\n",
    "\n",
    "total_bill_cumsum"
   ]
  },
  {
   "cell_type": "markdown",
   "metadata": {
    "id": "vVhZZLgPFQew"
   },
   "source": [
    "La función `.cumsum()` es una función de ventana que proporciona la suma acumulada de una serie o DataFrame. Así, después de agrupar y sumar nuestras facturas por día, utilizamos `.cumsum()` para obtener un valor acumulativo a lo largo de los días de la semana. Para visualizar estos datos, un gráfico de barras es apropiado, ya que queremos ver tanto la factura total por día como el acumulado."
   ]
  },
  {
   "cell_type": "code",
   "execution_count": null,
   "metadata": {
    "colab": {
     "base_uri": "https://localhost:8080/",
     "height": 607
    },
    "executionInfo": {
     "elapsed": 1684,
     "status": "ok",
     "timestamp": 1692796567004,
     "user": {
      "displayName": "Alfons MARQUES",
      "userId": "16283189020001385059"
     },
     "user_tz": -120
    },
    "id": "cZuXZI51FNnf",
    "outputId": "5ac1bda6-83b6-4abf-ae47-b2ea64603f8c"
   },
   "outputs": [],
   "source": [
    "# Plot de los datos\n",
    "fig, ax1 = plt.subplots(figsize=(10,6))\n",
    "\n",
    "# Eje principal con las facturas por día\n",
    "ax1.bar(total_bill_per_day.index, total_bill_per_day.values, color='blue', alpha=0.6, label='Factura por día')\n",
    "ax1.set_title('Factura total y acumulado por día de la semana')\n",
    "ax1.set_xlabel('Día de la semana')\n",
    "ax1.set_ylabel('Factura total', color='blue')\n",
    "ax1.tick_params(axis='y', labelcolor='blue')\n",
    "\n",
    "# Eje secundario con el acumulado\n",
    "ax2 = ax1.twinx()\n",
    "ax2.plot(total_bill_cumsum.index, total_bill_cumsum.values, color='red', marker='o', label='Factura acumulada')\n",
    "ax2.set_ylabel('Factura acumulada', color='red')\n",
    "ax2.tick_params(axis='y', labelcolor='red')\n",
    "\n",
    "fig.tight_layout()\n",
    "plt.show()\n"
   ]
  },
  {
   "cell_type": "markdown",
   "metadata": {
    "id": "5HY6xXoaFZ-g"
   },
   "source": [
    "En este gráfico, las barras azules representan la factura total por día, mientras que la línea roja muestra cómo se acumula esta factura a lo largo de la semana.\n",
    "\n",
    "Las funciones de ventana, como `.cumsum()`, son herramientas poderosas cuando se desea comprender la distribución o acumulación de datos a lo largo de una variable. En nuestro caso, observamos cómo se acumulan las facturas a lo largo de los días de la semana. Estas técnicas son esenciales, especialmente en análisis financieros o de ventas, donde los acumulados son cruciales para la toma de decisiones."
   ]
  },
  {
   "cell_type": "markdown",
   "metadata": {
    "id": "JMjubLSkFnIz"
   },
   "source": [
    "\n",
    "\n",
    "**Extra tips** funciones de ventana (windows functions) más comunes disponibles en Pandas:\n",
    "- `.cumsum()`: Calcula la suma acumulada de elementos a lo largo de una ventana.- `.cumprod()`: Proporciona el producto acumulado de los elementos.\n",
    "- `.cummax()`: Devuelve el máximo acumulado de los elementos.\n",
    "- `.cummin()`: Ofrece el mínimo acumulado de los elementos.\n",
    "- `.rolling(window=)`: Crea una vista móvil, que es útil para operaciones como la media móvil."
   ]
  },
  {
   "cell_type": "code",
   "execution_count": null,
   "metadata": {
    "colab": {
     "base_uri": "https://localhost:8080/"
    },
    "executionInfo": {
     "elapsed": 22,
     "status": "ok",
     "timestamp": 1692796567005,
     "user": {
      "displayName": "Alfons MARQUES",
      "userId": "16283189020001385059"
     },
     "user_tz": -120
    },
    "id": "vGbJubozFobi",
    "outputId": "954b2fb4-663a-49c2-c6e0-44a88be29e4e"
   },
   "outputs": [],
   "source": [
    "df_tips['tip'].rolling(window=3).mean()"
   ]
  },
  {
   "cell_type": "markdown",
   "metadata": {
    "id": "VS7K7iDCFn1L"
   },
   "source": [
    "Esto calculará la media móvil de 3 periodos para column_name.\n",
    "\n",
    "- `.expanding(min_periods=)`: Crea una vista en expansión, es decir, el tamaño de la ventana aumenta a lo largo del tiempo."
   ]
  },
  {
   "cell_type": "code",
   "execution_count": null,
   "metadata": {
    "colab": {
     "base_uri": "https://localhost:8080/"
    },
    "executionInfo": {
     "elapsed": 20,
     "status": "ok",
     "timestamp": 1692796567005,
     "user": {
      "displayName": "Alfons MARQUES",
      "userId": "16283189020001385059"
     },
     "user_tz": -120
    },
    "id": "vCWuYRdjJoeY",
    "outputId": "ed2d7c31-7f4a-4ddc-ab47-cce71713bec4"
   },
   "outputs": [],
   "source": [
    "df_tips['total_bill'].expanding(min_periods=2).mean()"
   ]
  },
  {
   "cell_type": "markdown",
   "metadata": {
    "id": "2LTUhAfcJqUU"
   },
   "source": [
    "Esto calculará la suma acumulativa de total_bill, comenzando desde el segundo periodo.\n",
    "\n",
    "- `.shift(periods=)`: Desplaza los datos en una cantidad específica de periodos. Es útil para calcular diferencias con periodos anteriores."
   ]
  },
  {
   "cell_type": "code",
   "execution_count": null,
   "metadata": {
    "colab": {
     "base_uri": "https://localhost:8080/"
    },
    "executionInfo": {
     "elapsed": 16,
     "status": "ok",
     "timestamp": 1692796567006,
     "user": {
      "displayName": "Alfons MARQUES",
      "userId": "16283189020001385059"
     },
     "user_tz": -120
    },
    "id": "8ITDjRLjJs5Z",
    "outputId": "c5f5ec2d-4de5-45e1-9827-1b42953187bf"
   },
   "outputs": [],
   "source": [
    "df_tips['total_bill'].shift(1)"
   ]
  },
  {
   "cell_type": "markdown",
   "metadata": {
    "id": "G8sfZv3hJuzD"
   },
   "source": [
    "Esto desplazará los datos de total_bill un periodo hacia adelante.\n",
    "\n",
    "- `.diff(periods=)`: Calcula la diferencia entre un elemento y un elemento previo en una serie o DataFrame."
   ]
  },
  {
   "cell_type": "code",
   "execution_count": null,
   "metadata": {
    "colab": {
     "base_uri": "https://localhost:8080/"
    },
    "executionInfo": {
     "elapsed": 13,
     "status": "ok",
     "timestamp": 1692796567006,
     "user": {
      "displayName": "Alfons MARQUES",
      "userId": "16283189020001385059"
     },
     "user_tz": -120
    },
    "id": "ctc4fWObJwc_",
    "outputId": "baf52f73-d736-43c9-ea30-a5ad6c72134e"
   },
   "outputs": [],
   "source": [
    "df_tips['total_bill'].diff(1)"
   ]
  },
  {
   "cell_type": "markdown",
   "metadata": {
    "id": "0Tl4GmP5JyGZ"
   },
   "source": [
    "Esto calculará la diferencia con el periodo anterior para total_bill.\n",
    "\n",
    "Estas son solo algunas de las funciones de ventana disponibles en Pandas. Se pueden utilizar de manera efectiva para realizar análisis temporales, financieros o para cualquier conjunto de datos donde los cálculos acumulativos o móviles sean relevantes. Al combinarlas con operaciones de agrupación, puedes obtener insights detallados sobre la estructura y tendencias de tus datos."
   ]
  },
  {
   "cell_type": "markdown",
   "metadata": {
    "id": "CbuKD19UuULU"
   },
   "source": [
    "  #### **3.1.5 ¿Hay alguna tendencia observable en la propina basada en el tamaño del grupo que cena?**\n",
    "\n",
    "  Cuando comemos en grupo, la dinámica de dar propina puede cambiar. Ya sea por la naturaleza social de comer en grupo o por la percepción de un servicio más intensivo para grupos más grandes, podríamos esperar que el tamaño del grupo influya en la propina. Para entender esto, usaremos la función `pivot_table` que nos ayuda a resumir y reestructurar nuestros datos de una manera que podamos visualizar y analizar de forma más clara.\n",
    "\n",
    "  Una `pivot_table` es esencialmente una tabla de resumen, que toma datos simples en columnas y los convierte en una tabla de dos dimensiones. Esto nos permite observar la relación entre dos columnas y cómo una tercera columna podría variar con respecto a esas dos."
   ]
  },
  {
   "cell_type": "code",
   "execution_count": null,
   "metadata": {
    "colab": {
     "base_uri": "https://localhost:8080/",
     "height": 269
    },
    "executionInfo": {
     "elapsed": 12,
     "status": "ok",
     "timestamp": 1692796567007,
     "user": {
      "displayName": "Alfons MARQUES",
      "userId": "16283189020001385059"
     },
     "user_tz": -120
    },
    "id": "RRapMCjaOzJW",
    "outputId": "9ca89bfc-a5d9-4ae8-b754-2d264738933a"
   },
   "outputs": [],
   "source": [
    "pivot_data = df_tips.pivot_table(values='tip', index='size', aggfunc='mean')\n",
    "pivot_data"
   ]
  },
  {
   "cell_type": "markdown",
   "metadata": {
    "id": "W_nXvd84O5WX"
   },
   "source": [
    "Para visualizar la relación, podemos usar un gráfico de barras:"
   ]
  },
  {
   "cell_type": "code",
   "execution_count": null,
   "metadata": {
    "colab": {
     "base_uri": "https://localhost:8080/",
     "height": 487
    },
    "executionInfo": {
     "elapsed": 460,
     "status": "ok",
     "timestamp": 1692796567456,
     "user": {
      "displayName": "Alfons MARQUES",
      "userId": "16283189020001385059"
     },
     "user_tz": -120
    },
    "id": "_ghGWiYAO8Sz",
    "outputId": "021e0d01-57d9-4d5b-89bb-573ce3fbd452"
   },
   "outputs": [],
   "source": [
    "pivot_data.plot(kind='bar', color='purple', legend=False)\n",
    "plt.title('Promedio de propina basado en el tamaño del grupo')\n",
    "plt.ylabel('Propina promedio ($)')\n",
    "plt.xlabel('Tamaño del grupo')\n",
    "plt.xticks(rotation=0)\n",
    "plt.tight_layout()\n",
    "plt.show()\n"
   ]
  },
  {
   "cell_type": "markdown",
   "metadata": {
    "id": "D3737m-4O_-y"
   },
   "source": [
    "Después de observar el gráfico, es posible que veamos una tendencia creciente en la propina a medida que aumenta el tamaño del grupo, lo que podría indicar que los grupos más grandes tienden a dejar propinas más generosas. Sin embargo, es esencial considerar que la propina también puede estar influenciada por factores como el total de la factura, el servicio recibido y otras variables que no estamos considerando directamente en este análisis.\n"
   ]
  },
  {
   "cell_type": "markdown",
   "metadata": {
    "id": "HNuiiX8LPCKv"
   },
   "source": [
    "**Extra tips** `pivot_table` en detalle:\n",
    "\n",
    "- `values`: Es la columna que queremos resumir o analizar. En nuestro caso, nos interesa el valor de la \"propina\".\n",
    "\n",
    "- `index`: Es la columna contra la que queremos analizar nuestros valores. Estamos interesados en el \"tamaño\" del grupo.\n",
    "\n",
    "- `aggfunc`: Es la función de agregación que aplicamos a nuestros valores. En este caso, estamos interesados en la \"media\", pero podríamos haber usado `.sum`, `.min`, `.max`, entre otros.\n",
    "\n",
    "La función `pivot_table` es potentemente flexible y se puede utilizar para analizar datos de muchas formas diferentes. Es una herramienta fundamental para el análisis de datos en Pandas."
   ]
  },
  {
   "cell_type": "markdown",
   "metadata": {
    "id": "CKyQVIIQfqUT"
   },
   "source": [
    "### **4. Viajando a través del tiempo con el auge de la aviación**\n",
    "\n",
    "Imagínate estar en los años 40 y 50, una época en la que la aviación comercial estaba comenzando a despegar (literalmente). El mundo estaba viendo un aumento sin precedentes en el número de personas que viajaban en avión, ya fuera por negocios, placer o para volver a casa después de la Segunda Guerra Mundial.\n",
    "\n",
    "Pero, ¿cómo fue realmente este aumento en el tráfico aéreo? ¿Fue constante año tras año o hubo altibajos? ¿Había meses en los que más personas volaban en comparación con otros? ¿Puedes imaginar a las personas prefiriendo volar en diciembre por las vacaciones o en verano para escapar del calor?\n",
    "\n",
    "**Tu misión**, si decides aceptarla, es sumergirte en un dataset que captura el número de pasajeros que volaron en aviones comerciales desde 1949 hasta 1960. A través de este análisis, no solo perfeccionarás tus habilidades en pandas y visualización, sino que también te embarcarás en un viaje a través del tiempo para descubrir las tendencias y patrones en la historia de la aviación.\n",
    "\n",
    "**¡Buena suerte y que tengas un vuelo agradable a través de los datos!**"
   ]
  },
  {
   "cell_type": "code",
   "execution_count": null,
   "metadata": {
    "colab": {
     "base_uri": "https://localhost:8080/",
     "height": 206
    },
    "executionInfo": {
     "elapsed": 433,
     "status": "ok",
     "timestamp": 1692796567884,
     "user": {
      "displayName": "Alfons MARQUES",
      "userId": "16283189020001385059"
     },
     "user_tz": -120
    },
    "id": "DevD6vsyiB8x",
    "outputId": "4f2d18f8-eb7f-414b-a179-28cc9c88e801"
   },
   "outputs": [],
   "source": [
    "# Cargar el dataset 'flights'\n",
    "df_flights = sns.load_dataset('flights')\n",
    "\n",
    "# Verificar las primeras filas del dataframe (esto viene de regalo :) )\n",
    "df_flights.head()"
   ]
  }
 ],
 "metadata": {
  "colab": {
   "authorship_tag": "ABX9TyMa0XgpZwTIVybSRNQdafRL",
   "provenance": []
  },
  "kernelspec": {
   "display_name": "Python 3 (ipykernel)",
   "language": "python",
   "name": "python3"
  },
  "language_info": {
   "codemirror_mode": {
    "name": "ipython",
    "version": 3
   },
   "file_extension": ".py",
   "mimetype": "text/x-python",
   "name": "python",
   "nbconvert_exporter": "python",
   "pygments_lexer": "ipython3",
   "version": "3.9.13"
  }
 },
 "nbformat": 4,
 "nbformat_minor": 1
}
