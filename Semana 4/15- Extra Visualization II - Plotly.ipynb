{
 "cells": [
  {
   "cell_type": "markdown",
   "id": "a5952c42",
   "metadata": {
    "lang": "en"
   },
   "source": [
    "# Interactive Visualization with Plotly"
   ]
  },
  {
   "cell_type": "markdown",
   "id": "inside-estonia",
   "metadata": {},
   "source": [
    "![elgif](https://media.giphy.com/media/jR8EDxMbqi1QQ/giphy.gif)\n",
    "\n",
    "In this notebook, we will explore the world of interactive data visualization using Plotly, a powerful Python library that allows you to create interactive and visually appealing charts and graphs. Plotly enables you to build interactive dashboards, explore complex datasets, and convey your data-driven insights more effectively.\n",
    "\n",
    "**A Brief History of Plotly**\n",
    "\n",
    "Plotly was founded in 2012 by Alex Johnson, Chris Parmer, Jack Parmer, and Matthew Sundquist. It emerged as an open-source data visualization library that aimed to provide a simple and elegant solution for creating interactive visualizations. Initially, Plotly started as a JavaScript library for creating web-based charts and graphs.\n",
    "\n",
    "As the popularity of Plotly grew, the team expanded its offerings to include Python and R libraries, making it accessible to a broader audience of data scientists, engineers, and analysts. Plotly's Python library, Plotly.py, has become one of the most widely used tools for creating interactive data visualizations in the Python ecosystem.\n",
    "\n",
    "Today, Plotly is known for its versatility and ease of use in creating a wide range of interactive visualizations, including scatter plots, line charts, bar charts, 3D plots, and complex dashboards. It has found applications in various industries, from finance and healthcare to education and research.\n",
    "\n",
    "In this notebook, we'll dive into the fundamentals of Plotly, explore its capabilities, and learn how to create stunning interactive visualizations to better understand and present data. Let's embark on this journey of data exploration and storytelling with Plotly!\n",
    "\n",
    "## Comparing Plotly with Seaborn and Matplotlib\n",
    "\n",
    "When it comes to data visualization in Python, there are several libraries to choose from. Among the most popular ones are Plotly, Seaborn, and Matplotlib. Each of these libraries has its strengths and use cases, making them suitable for different scenarios.\n",
    "\n",
    "### Matplotlib\n",
    "\n",
    "Matplotlib is one of the oldest and most widely used data visualization libraries in Python. It provides a high degree of customization and fine-grained control over every aspect of a plot or chart. Matplotlib is excellent for creating static visualizations for publications, reports, or basic data exploration.\n",
    "\n",
    "**Pros:**\n",
    "- Highly customizable.\n",
    "- Supports a wide range of plot types.\n",
    "- Suitable for creating publication-quality plots.\n",
    "\n",
    "**Cons:**\n",
    "- Limited support for interactivity.\n",
    "- Steeper learning curve for complex visualizations.\n",
    "\n",
    "### Seaborn\n",
    "\n",
    "Seaborn is built on top of Matplotlib and offers a higher-level interface for creating aesthetically pleasing statistical graphics. It simplifies the process of creating complex visualizations, especially those involving statistical analysis. Seaborn is an excellent choice for quickly exploring and visualizing data.\n",
    "\n",
    "**Pros:**\n",
    "- Simplified syntax for common plot types.\n",
    "- Built-in support for statistical visualizations.\n",
    "- Works seamlessly with Pandas DataFrames.\n",
    "\n",
    "**Cons:**\n",
    "- Less customizable compared to Matplotlib.\n",
    "- Limited support for highly interactive visualizations.\n",
    "\n",
    "### Plotly\n",
    "\n",
    "Plotly, on the other hand, specializes in creating interactive and web-based visualizations. It provides an extensive set of tools and features for building dynamic dashboards, interactive charts, and complex data applications. Plotly is ideal for scenarios where you want to engage users with your data interactively.\n",
    "\n",
    "**Pros:**\n",
    "- Interactive and web-friendly.\n",
    "- Supports a wide range of chart types.\n",
    "- Suitable for creating dashboards and web applications.\n",
    "- Easy sharing of interactive visualizations.\n",
    "\n",
    "**Cons:**\n",
    "- May have a steeper learning curve for beginners.\n",
    "- Best suited for web-based applications and online presentations.\n",
    "\n",
    "In summary, the choice between Plotly, Seaborn, and Matplotlib depends on your specific needs and goals. Matplotlib offers fine-grained control and customization, Seaborn simplifies statistical visualizations, while Plotly excels in creating interactive and web-based data experiences. Understanding the strengths and weaknesses of each library can help you make informed decisions when selecting the right tool for your data visualization tasks."
   ]
  },
  {
   "cell_type": "markdown",
   "id": "ranging-premiere",
   "metadata": {
    "toc": true
   },
   "source": [
    "<h1>Table of Contents<span class=\"tocSkip\"></span></h1>\n",
    "<div class=\"toc\"><ul class=\"toc-item\"><li><span><a href=\"#Importing-libraries\" data-toc-modified-id=\"Importing-libraries-1\"><span class=\"toc-item-num\">1&nbsp;&nbsp;</span>Importing libraries</a></span></li><li><span><a href=\"#We-load-data\" data-toc-modified-id=\"We-load-data-2\"><span class=\"toc-item-num\">2&nbsp;&nbsp;</span>We load data</a></span></li><li><span><a href=\"#Bar-Charts\" data-toc-modified-id=\"Bar-Charts-3\"><span class=\"toc-item-num\">3&nbsp;&nbsp;</span>Bar Charts</a></span></li><li><span><a href=\"#Clustered-Bar-Chart\" data-toc-modified-id=\"Clustered-Bar-Chart-4\"><span class=\"toc-item-num\">4&nbsp;&nbsp;</span>Clustered Bar Chart</a></span></li><li><span><a href=\"#Histograms\" data-toc-modified-id=\"Histograms-5\"><span class=\"toc-item-num\">5&nbsp;&nbsp;</span>Histograms</a></span></li><li><span><a href=\"#Distplot\" data-toc-modified-id=\"Distplot-6\"><span class=\"toc-item-num\">6&nbsp;&nbsp;</span>Distplot</a></span></li><li><span><a href=\"#ScatterPlot\" data-toc-modified-id=\"ScatterPlot-7\"><span class=\"toc-item-num\">7&nbsp;&nbsp;</span>ScatterPlot</a></span></li><li><span><a href=\"#LineChart\" data-toc-modified-id=\"LineChart-8\"><span class=\"toc-item-num\">8&nbsp;&nbsp;</span>LineChart</a></span></li><li><span><a href=\"#Boxplot\" data-toc-modified-id=\"Boxplot-9\"><span class=\"toc-item-num\">9&nbsp;&nbsp;</span>Boxplot</a></span></li></ul></div>"
   ]
  },
  {
   "cell_type": "markdown",
   "id": "f854e0b6",
   "metadata": {
    "lang": "en"
   },
   "source": [
    "## Importing libraries"
   ]
  },
  {
   "cell_type": "markdown",
   "id": "5471d959",
   "metadata": {
    "lang": "en"
   },
   "source": [
    "First things first: installation --> [documentation here](https://plotly.com/python/getting-started/)"
   ]
  },
  {
   "cell_type": "code",
   "execution_count": null,
   "id": "handmade-czech",
   "metadata": {},
   "outputs": [],
   "source": [
    "# Importing the pandas library for data manipulation and analysis\n",
    "import pandas as pd\n",
    "\n",
    "# Importing Plotly Express for high-level, easy-to-use interactive visualizations\n",
    "import plotly.express as px\n",
    "\n",
    "# Importing Plotly Graph Objects for more fine-grained control over visualizations\n",
    "import plotly.graph_objects as go\n",
    "\n",
    "# Importing NumPy for numerical operations and array manipulation\n",
    "import numpy as np\n",
    "\n",
    "# Importing Seaborn for statistical data visualization (optional but can complement Plotly)\n",
    "import seaborn as sns"
   ]
  },
  {
   "cell_type": "markdown",
   "id": "a84c2c4d",
   "metadata": {},
   "source": [
    "⚠️ Potential error. `pip install --upgrade nbformat`?"
   ]
  },
  {
   "cell_type": "markdown",
   "id": "87f3da54",
   "metadata": {
    "lang": "en"
   },
   "source": [
    "## We load data"
   ]
  },
  {
   "cell_type": "code",
   "execution_count": null,
   "id": "baking-saturday",
   "metadata": {},
   "outputs": [],
   "source": [
    "# Loading the penguins dataset using Seaborn\n",
    "penguins = sns.load_dataset(\"penguins\")\n",
    "\n",
    "# Loading the tips dataset using Seaborn\n",
    "tips = sns.load_dataset(\"tips\")\n",
    "\n",
    "# Loading the titanic dataset using Seaborn\n",
    "titanic = sns.load_dataset(\"titanic\")"
   ]
  },
  {
   "cell_type": "code",
   "execution_count": null,
   "id": "external-porter",
   "metadata": {
    "lang": "es"
   },
   "outputs": [],
   "source": [
    "# Downloading gapminder data for the 'Canada' country from Plotly's data source\n",
    "# The query method is used to filter the data for the 'Canada' country\n",
    "df = px.data.gapminder().query(\"country == 'Canada'\")"
   ]
  },
  {
   "cell_type": "markdown",
   "id": "bbc7818c",
   "metadata": {},
   "source": [
    "Before diving into interactive visualizations with Plotly, it's essential to perform an Exploratory Data Analysis (EDA) on your dataset to gain a comprehensive understanding of its characteristics and relationships. This will help you make informed decisions about what and how to visualize. Let's analyse df dataframe together:\n",
    "\n",
    "Here are some general steps to follow for performing an EDA using Pandas:\n",
    "\n",
    "1. **Load the Dataset**: Load your dataset using Pandas. You've already done this in your previous code cells.\n",
    "\n",
    "2. **Data Summary**: Start by getting an overview of your data. Use functions like `df.head()`, `df.info()`, and `df.describe()` to understand the structure, data types, and summary statistics of your dataset.\n",
    "\n",
    "3. **Handling Missing Data**: Identify and handle missing data if any. You can use functions like `df.isnull()`, `df.dropna()`, or `df.fillna()` to address missing values.\n",
    "\n",
    "4. **Data Visualization with Seaborn and Matplotlib**: Before diving into interactive visualizations with Plotly, it's a good practice to create static visualizations using libraries like Seaborn and Matplotlib. Visualize relationships between variables, distributions, and trends. This will give you insights into what aspects of your data you want to explore further.\n",
    "\n",
    "5. **Ask Questions**: Formulate questions about your data. What relationships do you want to investigate? What insights are you looking to gain?\n",
    "\n",
    "6. **Interactive Visualization with Plotly**: Once you have a good grasp of your data, you can proceed to create interactive visualizations with Plotly. Plotly provides powerful tools for creating interactive charts and dashboards, making it easier to explore your data from different angles.\n",
    "\n",
    "Remember that EDA is an iterative process. You may need to revisit earlier steps as you discover new patterns or insights. EDA is not just about creating visualizations; it's about understanding your data thoroughly.\n",
    "\n",
    "Feel free to ask questions and seek guidance as you proceed with your EDA and visualization journey. We can provide assistance and explanations along the way. Happy exploring!"
   ]
  },
  {
   "cell_type": "code",
   "execution_count": null,
   "id": "8731ecd6",
   "metadata": {
    "scrolled": true
   },
   "outputs": [],
   "source": [
    "# Let's perform an EDA to df together :)\n",
    "df.info()"
   ]
  },
  {
   "cell_type": "code",
   "execution_count": null,
   "id": "b8294b95",
   "metadata": {},
   "outputs": [],
   "source": [
    "df.head()"
   ]
  },
  {
   "cell_type": "code",
   "execution_count": null,
   "id": "523934f4",
   "metadata": {
    "scrolled": true
   },
   "outputs": [],
   "source": [
    "sns.pairplot(df)"
   ]
  },
  {
   "cell_type": "code",
   "execution_count": null,
   "id": "3ed6cc38",
   "metadata": {},
   "outputs": [],
   "source": [
    "df.describe()"
   ]
  },
  {
   "cell_type": "markdown",
   "id": "8b68030c",
   "metadata": {
    "lang": "en"
   },
   "source": [
    "## Bar Charts\n",
    "Bar charts are a fundamental visualization technique for displaying the counts or values of observations in different categories using bars. They are particularly effective when visualizing categorical data or comparing data points across different categories.\n",
    "\n",
    "In this section, we'll explore how to create interactive bar charts using Plotly, a powerful library for interactive data visualization. We'll use a sample dataset from Gapminder, focusing on data related to Canada, to demonstrate the creation of bar charts.\n",
    "\n",
    "Let's get started by visualizing the population data for Canada over the years using an interactive bar chart."
   ]
  },
  {
   "cell_type": "code",
   "execution_count": null,
   "id": "parental-clear",
   "metadata": {
    "scrolled": true
   },
   "outputs": [],
   "source": [
    "# Create a bar chart showing population over the years\n",
    "fig = px.bar(df, x=\"year\", y=\"pop\")\n",
    "fig.show()"
   ]
  },
  {
   "cell_type": "code",
   "execution_count": null,
   "id": "df96d808",
   "metadata": {
    "scrolled": true
   },
   "outputs": [],
   "source": [
    "penguins.head()"
   ]
  },
  {
   "cell_type": "code",
   "execution_count": null,
   "id": "1acffe61",
   "metadata": {},
   "outputs": [],
   "source": [
    "species_counts = penguins.species.value_counts()\n",
    "species_counts"
   ]
  },
  {
   "cell_type": "code",
   "execution_count": null,
   "id": "agricultural-messaging",
   "metadata": {},
   "outputs": [],
   "source": [
    "# Create a bar chart with Plotly Express\n",
    "\n",
    "# Using the penguins dataframe\n",
    "# Count the occurrences of each species in the 'species' column,\n",
    "# and get the unique species names as the index and their respective counts as values\n",
    "species_counts = penguins.species.value_counts()\n",
    "\n",
    "# Create a bar chart using px.bar\n",
    "# x: Set the x-axis values to the unique species names\n",
    "# y: Set the y-axis values to the counts of each species\n",
    "fig = px.bar(penguins, x=species_counts.index, y=species_counts.values)\n",
    "\n",
    "# Show the interactive bar chart\n",
    "fig.show()"
   ]
  },
  {
   "cell_type": "markdown",
   "id": "3ad2bc5d",
   "metadata": {
    "lang": "en"
   },
   "source": [
    "## Clustered Bar Chart\n",
    "\n",
    "Clustered bar charts are a powerful visualization tool used to compare multiple categories across different groups or factors. In Plotly, you can easily create clustered bar charts to display data with distinct clusters of bars for each category, allowing for clear visual comparisons.\n",
    "\n",
    "Each cluster represents a group or a factor, and within each cluster, there are multiple bars corresponding to different categories. Clustered bar charts are particularly useful when you want to showcase the relationship between two categorical variables while highlighting variations within each group.\n",
    "\n",
    "With Plotly, you can create interactive clustered bar charts that provide a dynamic and engaging way to explore your data. These charts are highly customizable, making it easy to tailor the visualization to your specific needs.\n",
    "\n",
    "In this section, we'll explore how to create clustered bar charts using Plotly, step by step. Whether you're analyzing demographic data, survey responses, or any other categorical data, clustered bar charts can help you gain valuable insights into your dataset.\n"
   ]
  },
  {
   "cell_type": "code",
   "execution_count": null,
   "id": "introductory-scene",
   "metadata": {},
   "outputs": [],
   "source": [
    "#I group the dataframe\n",
    "agrupado = penguins.groupby([\"species\"])[\"sex\"].value_counts().unstack()\n",
    "agrupado"
   ]
  },
  {
   "cell_type": "code",
   "execution_count": null,
   "id": "professional-equipment",
   "metadata": {},
   "outputs": [],
   "source": [
    "# Get unique penguin species names\n",
    "animals = penguins.species.unique()\n",
    "animals"
   ]
  },
  {
   "cell_type": "code",
   "execution_count": null,
   "id": "processed-modeling",
   "metadata": {},
   "outputs": [],
   "source": [
    "# Create a Clustered Bar Chart with Plotly\n",
    "\n",
    "# Create a Figure object to hold our bar chart\n",
    "fig = go.Figure(data=[\n",
    "    # Create the first set of bars for \"Female\" data\n",
    "    go.Bar(name=\"Female\", x=animals, y=agrupado.Female),\n",
    "    \n",
    "    # Create the second set of bars for \"Male\" data\n",
    "    go.Bar(name=\"Male\", x=animals, y=agrupado.Male)\n",
    "])\n",
    "\n",
    "# Show the clustered bar chart\n",
    "fig.show()"
   ]
  },
  {
   "cell_type": "code",
   "execution_count": null,
   "id": "cubic-majority",
   "metadata": {},
   "outputs": [],
   "source": [
    "# Get the unique penguin species names from the \"species\" column\n",
    "animals = penguins.species.unique()\n",
    "\n",
    "# Create a Figure object to hold the clustered bar chart\n",
    "fig = go.Figure(data=[\n",
    "    # Create the first set of bars for \"Female\" data\n",
    "    go.Bar(name=\"Female\", x=animals, y=agrupado.Female),\n",
    "    \n",
    "    # Create the second set of bars for \"Male\" data\n",
    "    go.Bar(name=\"Male\", x=animals, y=agrupado.Male)\n",
    "])\n",
    "\n",
    "# Change the type of the bars to \"stacked\" using update_layout\n",
    "fig.update_layout(barmode=\"stack\")\n",
    "\n",
    "# Show the clustered and stacked bar chart\n",
    "fig.show()"
   ]
  },
  {
   "cell_type": "markdown",
   "id": "28b52eda",
   "metadata": {
    "lang": "en"
   },
   "source": [
    "When multiple rows share the same x value (in this case Female or Male), the rectangles are stacked by default."
   ]
  },
  {
   "cell_type": "markdown",
   "id": "a4b9ee38",
   "metadata": {
    "lang": "en"
   },
   "source": [
    "## Histograms\n",
    "\n",
    "Histograms are a fundamental tool for visualizing the distribution of data. They allow you to see the frequency or count of data points that fall into specific intervals or bins. Plotly provides versatile tools for creating interactive histograms that enable you to explore the underlying patterns and characteristics of your data. Whether you're analyzing the distribution of numerical variables, comparing different datasets, or examining the shape of your data, Plotly's histogram capabilities offer a powerful way to gain insights from your data.\n",
    "\n",
    "You can learn more about creating histograms in Plotly by referring to the [official documentation](https://plotly.com/python/histograms/)."
   ]
  },
  {
   "cell_type": "code",
   "execution_count": null,
   "id": "powered-equilibrium",
   "metadata": {},
   "outputs": [],
   "source": [
    "# Let's work with tips dataset\n",
    "tips.head()"
   ]
  },
  {
   "cell_type": "code",
   "execution_count": null,
   "id": "weird-reply",
   "metadata": {
    "scrolled": true
   },
   "outputs": [],
   "source": [
    "# Create a histogram using Plotly Express for the \"total_bill\" column from the \"tips\" DataFrame\n",
    "fig = px.histogram(tips, x=\"total_bill\", nbins=15)\n",
    "\n",
    "# Customize the layout by reducing the gap between adjacent bars in the histogram\n",
    "fig.update_layout(bargap=0.5)  # Set the gap between bars to 0.1 (adjust this value as needed)\n",
    "\n",
    "# Display the histogram\n",
    "fig.show()"
   ]
  },
  {
   "cell_type": "code",
   "execution_count": null,
   "id": "0fea9f59",
   "metadata": {},
   "outputs": [],
   "source": [
    "titanic.head()"
   ]
  },
  {
   "cell_type": "code",
   "execution_count": null,
   "id": "disciplinary-projection",
   "metadata": {},
   "outputs": [],
   "source": [
    "# Create a histogram using Plotly Express for the \"age\" column from the \"titanic\" DataFrame\n",
    "fig = px.histogram(titanic, x=\"age\")\n",
    "\n",
    "# Add vertical lines to the histogram to indicate the median and mean age\n",
    "# Median age is represented by a green dashed line\n",
    "fig.add_vline(titanic.age.median(), line_width=3, line_dash=\"dash\", line_color=\"green\")\n",
    "\n",
    "# Mean age is represented by a red dashed line\n",
    "fig.add_vline(titanic.age.mean(), line_width=3, line_dash=\"dash\", line_color=\"red\")\n",
    "\n",
    "# Add a horizontal line at the age of 20 (line_width=3, dashed line, red color)\n",
    "fig.add_hline(20, line_width=3, line_dash=\"dash\", line_color=\"red\")\n",
    "\n",
    "# Display the customized histogram with vertical and horizontal lines\n",
    "fig.show()"
   ]
  },
  {
   "cell_type": "markdown",
   "id": "fleet-fraction",
   "metadata": {},
   "source": [
    "## Distplot\n",
    "\n",
    "The `Distplot`, short for distribution plot, is a versatile visualization in Plotly that combines elements of histograms and kernel density estimation (KDE) plots. It is designed to provide a comprehensive view of the distribution of a single numerical variable, enabling you to explore its shape, central tendency, and spread. The `Distplot` is particularly useful for understanding the underlying distribution of data and identifying potential patterns or deviations.\n",
    "\n",
    "With the `Distplot`, you can visualize the frequency distribution of a dataset and gain insights into its skewness, kurtosis, and multimodality. This visualization tool also allows you to overlay a KDE curve, providing a smooth estimate of the data's probability density function. Whether you're analyzing data from a statistical or exploratory perspective, the `Distplot` can be a valuable asset in your data analysis toolkit.\n",
    "\n",
    "To create `Distplot` visualizations in Plotly, you can customize various aspects, such as the number of bins, the appearance of the histogram, and the style of the KDE curve. This flexibility makes it suitable for a wide range of data analysis tasks, from understanding the distribution of exam scores to exploring the age distribution of passengers on the Titanic.\n",
    "\n",
    "By using the `Distplot`, you can gain deeper insights into the distribution of your data and make informed decisions during your data analysis journey.\n",
    "\n",
    "For more detailed information and examples, you can refer to the [Plotly documentation on Distplots](https://plotly.com/python/distplot/)."
   ]
  },
  {
   "cell_type": "code",
   "execution_count": null,
   "id": "pursuant-relative",
   "metadata": {},
   "outputs": [],
   "source": [
    "# Creating a copy of the 'titanic' DataFrame to avoid modifying the original data\n",
    "tit = titanic.copy()\n",
    "\n",
    "# Dropping rows with missing values (NaN) in the DataFrame 'tit'\n",
    "# This step removes rows with any NaN values, effectively cleaning the data\n",
    "tit.dropna(inplace=True)\n",
    "\n",
    "# Check the dataset\n",
    "tit.head()"
   ]
  },
  {
   "cell_type": "code",
   "execution_count": null,
   "id": "complete-jewel",
   "metadata": {},
   "outputs": [],
   "source": [
    "# Importing the 'figure_factory' module from Plotly\n",
    "import plotly.figure_factory as ff\n",
    "\n",
    "# Creating a list 'hist_data' containing age data from the 'tit' DataFrame\n",
    "hist_data = [tit.age]\n",
    "\n",
    "# Creating a list 'labels' with a single label \"Edad\"\n",
    "labels = [\"Edad\"]"
   ]
  },
  {
   "cell_type": "code",
   "execution_count": null,
   "id": "spare-progress",
   "metadata": {},
   "outputs": [],
   "source": [
    "# Creating a distribution plot using Plotly's 'create_distplot' function\n",
    "fig = ff.create_distplot(hist_data, labels)\n",
    "\n",
    "# Displaying the created distribution plot\n",
    "fig.show()"
   ]
  },
  {
   "cell_type": "code",
   "execution_count": null,
   "id": "superb-target",
   "metadata": {},
   "outputs": [],
   "source": [
    "# Dropping rows with missing values in the penguins dataframe\n",
    "penguins.dropna(inplace=True)\n",
    "\n",
    "# Displaying the first few rows of the cleaned penguins dataframe\n",
    "penguins.head()\n",
    "\n",
    "# Creating a list 'hist_data' containing two columns for the distplot\n",
    "hist_data = [penguins.bill_length_mm, penguins.bill_depth_mm]\n",
    "\n",
    "# Creating a list 'group_labels' to label the two datasets in the distplot\n",
    "group_labels = [\"bill_length_mm\", \"bill_depth_mm\"]\n",
    "\n",
    "# Creating a distribution plot using Plotly's 'create_distplot' function\n",
    "fig = ff.create_distplot(hist_data, group_labels)\n",
    "\n",
    "# Displaying the created distribution plot\n",
    "fig.show()"
   ]
  },
  {
   "cell_type": "markdown",
   "id": "gothic-internet",
   "metadata": {},
   "source": [
    "## ScatterPlot\n",
    "\n",
    "A Scatter Plot is a popular data visualization tool used to display individual data points on a two-dimensional plane. It is particularly useful for visualizing the relationships or correlations between two numerical variables. Each data point on the plot represents a single observation or data record.\n",
    "\n",
    "In a Scatter Plot, one variable is plotted on the x-axis (horizontal axis), and another variable is plotted on the y-axis (vertical axis). The position of each data point on the plot is determined by the values of these two variables. Scatter Plots are effective for identifying patterns, trends, clusters, or outliers within a dataset and are commonly used in exploratory data analysis (EDA).\n",
    "\n",
    "Scatter Plots are versatile and can be customized with various features like colors, markers, and labels to convey additional information. They are especially valuable when examining relationships between continuous data points and can help answer questions about correlation, distribution, and dispersion within the data.\n",
    "\n",
    "Scatter Plots are an essential tool in data analysis and are widely used in fields such as statistics, data science, and machine learning to gain insights into data patterns and make informed decisions.\n"
   ]
  },
  {
   "cell_type": "code",
   "execution_count": null,
   "id": "saved-professional",
   "metadata": {},
   "outputs": [],
   "source": [
    "# Let's work with penguin dataset\n",
    "penguins.head()"
   ]
  },
  {
   "cell_type": "code",
   "execution_count": null,
   "id": "outdoor-boutique",
   "metadata": {},
   "outputs": [],
   "source": [
    "# Importing the necessary library for creating a scatter plot\n",
    "import plotly.express as px\n",
    "\n",
    "# Creating a scatter plot using the penguins dataset\n",
    "# The 'x' and 'y' arguments specify which columns from the dataset to use for the x-axis and y-axis.\n",
    "fig = px.scatter(penguins, x=\"flipper_length_mm\", y=\"body_mass_g\")\n",
    "\n",
    "# Displaying the scatter plot\n",
    "fig.show()"
   ]
  },
  {
   "cell_type": "code",
   "execution_count": null,
   "id": "foster-session",
   "metadata": {},
   "outputs": [],
   "source": [
    "# Scatter plot with color encoding based on 'bill_length_mm'\n",
    "fig = px.scatter(penguins, x=\"flipper_length_mm\", y=\"body_mass_g\", color=\"bill_length_mm\")\n",
    "fig.show()"
   ]
  },
  {
   "cell_type": "code",
   "execution_count": null,
   "id": "intellectual-bonus",
   "metadata": {},
   "outputs": [],
   "source": [
    "# Scatter plot with color encoding based on 'species'\n",
    "fig = px.scatter(penguins, x=\"flipper_length_mm\", y=\"body_mass_g\", color=\"species\")\n",
    "fig.show()"
   ]
  },
  {
   "cell_type": "code",
   "execution_count": null,
   "id": "surface-wednesday",
   "metadata": {},
   "outputs": [],
   "source": [
    "# Scatter plot with color and size encoding based on 'species' and 'bill_depth_mm' columns\n",
    "fig = px.scatter(penguins, x=\"body_mass_g\", y=\"flipper_length_mm\", color=\"species\", size=\"bill_depth_mm\")\n",
    "fig.show()"
   ]
  },
  {
   "cell_type": "code",
   "execution_count": null,
   "id": "latest-lincoln",
   "metadata": {},
   "outputs": [],
   "source": [
    "# Scatter matrix plot with specified dimensions and color encoding based on 'species'\n",
    "fig = px.scatter_matrix(penguins, dimensions=['bill_length_mm','bill_depth_mm','flipper_length_mm','body_mass_g', \"species\"],\n",
    "                        width=1000, height=800)\n",
    "fig.show()"
   ]
  },
  {
   "cell_type": "code",
   "execution_count": null,
   "id": "public-northeast",
   "metadata": {},
   "outputs": [],
   "source": [
    "# Scatter matrix plot with specified dimensions and color encoding based on 'species'\n",
    "fig = px.scatter_matrix(penguins, dimensions=['bill_length_mm','bill_depth_mm','flipper_length_mm','body_mass_g'],\n",
    "                        color=\"species\",\n",
    "                        width=1000, height=800)\n",
    "fig.show()"
   ]
  },
  {
   "cell_type": "code",
   "execution_count": null,
   "id": "e50e937c",
   "metadata": {
    "scrolled": false
   },
   "outputs": [],
   "source": [
    "# Scatter matrix plot with specified dimensions, color encoding, and diagonal elements hidden\n",
    "fig = px.scatter_matrix(penguins, dimensions=['bill_length_mm','bill_depth_mm','flipper_length_mm','body_mass_g'],\n",
    "                        color=\"species\")\n",
    "fig.update_traces(diagonal_visible=False)\n",
    "fig.show()"
   ]
  },
  {
   "cell_type": "code",
   "execution_count": null,
   "id": "4168f4e7",
   "metadata": {},
   "outputs": [],
   "source": [
    "# Define indices corresponding to species categories, using pandas label encoding\n",
    "index_vals = penguins['species'].astype('category').cat.codes\n",
    "\n",
    "# Create a Plotly Figure for the Scatterplot Matrix (SPLOM)\n",
    "fig = go.Figure(data=go.Splom(\n",
    "\n",
    "    # Define Dimensions for the SPLOM\n",
    "    dimensions=[dict(label='bill length',    # Dimension 1: Bill Length\n",
    "                     values=penguins['bill_length_mm']),\n",
    "                dict(label='bill depth',     # Dimension 2: Bill Depth\n",
    "                     values=penguins['bill_depth_mm']),\n",
    "                dict(label='flipper length', # Dimension 3: Flipper Length\n",
    "                     values=penguins['flipper_length_mm']),\n",
    "                dict(label='body mass',      # Dimension 4: Body Mass\n",
    "                     values=penguins['body_mass_g'])],\n",
    "\n",
    "    # Add Text Labels for Species\n",
    "    text=penguins['species'],\n",
    "    \n",
    "    # Control Display of Upper Half (Set to False for symmetry)\n",
    "    showupperhalf=False,\n",
    "    \n",
    "    # Customize Marker Properties\n",
    "    marker=dict(color=index_vals,    # Assign colors based on species indices\n",
    "                showscale=True,       # Display a color scale legend\n",
    "                line_color='white',   # Marker outline color\n",
    "                line_width=0.5)       # Marker outline width\n",
    "))\n",
    "\n",
    "# Update Layout and Styling\n",
    "fig.update_layout(\n",
    "    title='Penguins',          # Set the title of the figure\n",
    "    dragmode='select',        # Enable drag selection\n",
    "    width=600,                # Set the width of the figure\n",
    "    height=600,               # Set the height of the figure\n",
    "    hovermode='closest'       # Define hover behavior\n",
    ")\n",
    "\n",
    "# Show the Scatterplot Matrix (SPLOM)\n",
    "fig.show()"
   ]
  },
  {
   "cell_type": "markdown",
   "id": "regulation-familiar",
   "metadata": {},
   "source": [
    "## LineChart\n",
    "\n",
    "A Line Chart, also known as a Line Plot, is a popular type of data visualization used to represent data points over a continuous interval or time period. In a Line Chart, data is displayed as a series of data points connected by straight lines, creating a visual representation of how a variable changes over a specific domain. Line Charts are particularly useful for showing trends, patterns, and variations in data.\n",
    "\n",
    "Each data point in a Line Chart is typically represented by a marker or dot, and these markers are connected by lines to emphasize the continuity of data. Line Charts are commonly used to visualize time-series data, such as stock prices, temperature trends, or sales figures over months or years. They are also effective for showing the relationship between two variables, such as comparing sales and advertising expenses over time.\n",
    "\n",
    "Line Charts are highly versatile and can be customized to display various aspects of data, including multiple data series, markers, labels, and more. They are a valuable tool in data analysis and decision-making, allowing viewers to quickly interpret data trends and make informed conclusions.\n",
    "\n",
    "In this guide, we'll explore how to create Line Charts using different data visualization libraries, such as Matplotlib, Seaborn, and Plotly. We'll learn how to customize Line Charts, add labels and legends, and effectively communicate data insights through this visual representation.\n"
   ]
  },
  {
   "cell_type": "code",
   "execution_count": null,
   "id": "classified-vegetation",
   "metadata": {},
   "outputs": [],
   "source": [
    "# Load the 'flights' dataset from Seaborn, which contains information about monthly airline passenger numbers.\n",
    "flights = sns.load_dataset(\"flights\")\n",
    "\n",
    "# Display the first few rows of the 'flights' dataset to get a sense of its structure.\n",
    "flights.head()"
   ]
  },
  {
   "cell_type": "code",
   "execution_count": null,
   "id": "revolutionary-update",
   "metadata": {},
   "outputs": [],
   "source": [
    "# Select data for the month of February and store it in the 'feb' DataFrame.\n",
    "feb = flights[flights.month == \"Feb\"]"
   ]
  },
  {
   "cell_type": "code",
   "execution_count": null,
   "id": "proud-clark",
   "metadata": {},
   "outputs": [],
   "source": [
    "# Create a Line Chart (Line Plot) using Plotly Express to visualize the passenger numbers in February over the years.\n",
    "# The 'year' column is used as the x-axis, and the 'passengers' column is used as the y-axis.\n",
    "fig = px.line(feb, x=\"year\", y=\"passengers\")\n",
    "\n",
    "# Display the Line Chart.\n",
    "fig.show()"
   ]
  },
  {
   "cell_type": "code",
   "execution_count": null,
   "id": "geographic-surge",
   "metadata": {},
   "outputs": [],
   "source": [
    "# Create another Line Chart using Plotly Express to visualize passenger numbers over the years, with different lines for each month.\n",
    "# The 'year' column is still used as the x-axis, and the 'passengers' column is used as the y-axis.\n",
    "# The 'color' parameter is set to 'month' to differentiate lines by month.\n",
    "fig = px.line(flights, x=\"year\", y=\"passengers\", color=\"month\")\n",
    "\n",
    "# Display the Line Chart.\n",
    "fig.show()"
   ]
  },
  {
   "cell_type": "markdown",
   "id": "recreational-plumbing",
   "metadata": {},
   "source": [
    "## Boxplot\n",
    "\n",
    "A boxplot, also known as a box-and-whisker plot, is a statistical visualization that provides a graphical summary of the distribution of a dataset. It displays key statistical measures, such as the median, quartiles, and potential outliers, making it a powerful tool for understanding the central tendency and spread of data. Boxplots are particularly useful for comparing distributions across different categories or groups within your dataset. They consist of a rectangular \"box\" and \"whiskers\" that extend from it, representing various data points and their spread.\n",
    "\n",
    "Boxplots are a valuable addition to exploratory data analysis (EDA) and help in identifying the presence of outliers, skewness, and the overall shape of the data distribution. Understanding how to interpret boxplots is essential for data analysts and scientists when exploring and communicating insights from data.\n",
    "\n",
    "In this section, we will explore how to create and interpret boxplots using Plotly, a powerful Python library for interactive data visualization. We'll cover various aspects of boxplots, including their components and how to create them for different datasets and scenarios."
   ]
  },
  {
   "cell_type": "code",
   "execution_count": null,
   "id": "maritime-stable",
   "metadata": {},
   "outputs": [],
   "source": [
    "# Creating a boxplot of the 'age' column from the Titanic dataset\n",
    "fig = px.box(titanic, x=\"age\")\n",
    "fig.show()"
   ]
  },
  {
   "cell_type": "code",
   "execution_count": null,
   "id": "colonial-admission",
   "metadata": {},
   "outputs": [],
   "source": [
    "# Creating a grouped boxplot of 'age' by 'pclass' from the Titanic dataset\n",
    "fig = px.box(titanic, x=\"pclass\", y=\"age\")\n",
    "fig.show()"
   ]
  },
  {
   "cell_type": "code",
   "execution_count": null,
   "id": "empirical-symphony",
   "metadata": {
    "lang": "es"
   },
   "outputs": [],
   "source": [
    "# Creating a grouped boxplot of 'age' by 'pclass' from the Titanic dataset\n",
    "# With 'points=\"all\"', it adds individual data points to the left of each box\n",
    "fig = px.box(titanic, x=\"pclass\", y=\"age\", points=\"all\")\n",
    "fig.show()"
   ]
  },
  {
   "cell_type": "code",
   "execution_count": null,
   "id": "official-tissue",
   "metadata": {},
   "outputs": [],
   "source": [
    "# Creating a grouped boxplot of 'age' by 'pclass' from the Titanic dataset\n",
    "# With 'points=\"all\"', it adds individual data points to the left of each box\n",
    "# 'color=\"survived\"' adds color differentiation based on the 'survived' column\n",
    "# 'width' and 'height' adjust the dimensions of the plot\n",
    "fig = px.box(titanic, x=\"pclass\", y=\"age\", color=\"survived\", points=\"all\", width=1100, height=600)\n",
    "fig.show()"
   ]
  },
  {
   "cell_type": "markdown",
   "id": "d10beefe",
   "metadata": {
    "lang": "en"
   },
   "source": [
    "We change the colors by putting the value of the column in the key"
   ]
  },
  {
   "cell_type": "code",
   "execution_count": null,
   "id": "innocent-intellectual",
   "metadata": {
    "scrolled": false
   },
   "outputs": [],
   "source": [
    "# Creating a grouped boxplot of 'age' by 'pclass' from the Titanic dataset\n",
    "# 'color=\"survived\"' adds color differentiation based on the 'survived' column\n",
    "# 'color_discrete_map' specifies custom colors for the 'survived' categories\n",
    "# 1 represents survivors, shown in light blue (#19D3F3)\n",
    "# 0 represents non-survivors, shown in red\n",
    "fig = px.box(titanic, x=\"pclass\", y=\"age\", color=\"survived\", color_discrete_map={1: '#19D3F3', 0: 'red'})\n",
    "fig.show()"
   ]
  },
  {
   "cell_type": "markdown",
   "id": "aa0e16a8",
   "metadata": {},
   "source": [
    "# Sliders\n",
    "Sliders are interactive components in Plotly that allow you to create animated visualizations, providing a dynamic view of data changes over time or other variables. Sliders can be used to animate various chart types, providing an engaging way to explore data trends and patterns."
   ]
  },
  {
   "cell_type": "code",
   "execution_count": null,
   "id": "0ae8f6ad",
   "metadata": {},
   "outputs": [],
   "source": [
    "# Let's recap\n",
    "df.head()"
   ]
  },
  {
   "cell_type": "code",
   "execution_count": null,
   "id": "2a91e7d3",
   "metadata": {},
   "outputs": [],
   "source": [
    "# Load data from the 'gapminder' dataset\n",
    "df = px.data.gapminder()\n",
    "\n",
    "# Create a scatter plot using Plotly, where 'gdpPercap' is on the x-axis, 'lifeExp' is on the y-axis\n",
    "# 'animation_frame' enables animation over the 'year' variable\n",
    "# 'size' determines the size of data points based on 'pop'\n",
    "# 'color' assigns colors to data points based on 'continent'\n",
    "# 'hover_name' adds country names to hover over data points\n",
    "# 'log_x=True' sets a logarithmic scale for the x-axis\n",
    "# 'size_max=55' defines the maximum size for data points\n",
    "# 'range_x' and 'range_y' specify the initial visible ranges for the x and y axes\n",
    "fig = px.scatter(df, x=\"gdpPercap\", y=\"lifeExp\", animation_frame=\"year\",\n",
    "                 size=\"pop\", color=\"continent\", hover_name=\"country\",\n",
    "                 log_x=True, size_max=55, range_x=[100, 100000], range_y=[25, 90])\n",
    "\n",
    "# Optional: Remove the default animation buttons from the figure layout\n",
    "# fig[\"layout\"].pop(\"updatemenus\")\n",
    "\n",
    "# Display the interactive plot\n",
    "fig.show()"
   ]
  }
 ],
 "metadata": {
  "kernelspec": {
   "display_name": "Python 3 (ipykernel)",
   "language": "python",
   "name": "python3"
  },
  "language_info": {
   "codemirror_mode": {
    "name": "ipython",
    "version": 3
   },
   "file_extension": ".py",
   "mimetype": "text/x-python",
   "name": "python",
   "nbconvert_exporter": "python",
   "pygments_lexer": "ipython3",
   "version": "3.9.13"
  },
  "nbTranslate": {
   "displayLangs": [
    "en",
    "es"
   ],
   "hotkey": "alt-a",
   "langInMainMenu": true,
   "sourceLang": "es",
   "targetLang": "en",
   "useGoogleTranslate": true
  },
  "toc": {
   "base_numbering": 1,
   "nav_menu": {},
   "number_sections": true,
   "sideBar": true,
   "skip_h1_title": true,
   "title_cell": "Table of Contents",
   "title_sidebar": "Contents",
   "toc_cell": true,
   "toc_position": {
    "height": "calc(100% - 180px)",
    "left": "10px",
    "top": "150px",
    "width": "165px"
   },
   "toc_section_display": true,
   "toc_window_display": true
  }
 },
 "nbformat": 4,
 "nbformat_minor": 5
}
