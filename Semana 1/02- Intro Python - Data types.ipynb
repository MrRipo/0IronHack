{
 "cells": [
  {
   "cell_type": "markdown",
   "metadata": {},
   "source": [
    "# Intro Python"
   ]
  },
  {
   "cell_type": "markdown",
   "metadata": {},
   "source": [
    "![elgif](https://media.giphy.com/media/coxQHKASG60HrHtvkt/giphy.gif)"
   ]
  },
  {
   "cell_type": "markdown",
   "metadata": {},
   "source": [
    "In this course, we will use Jupyter notebooks to write and execute Python code, so the first step will be to learn how to use them.\n",
    "Notebook documents (or \"notebooks\", all in lowercase) are documents created by the Jupyter Notebook application, which contain both computer code (for example, Python) and rich text elements (paragraphs, equations, figures, links, etc...).\n",
    "Notebooks are made up of cells, which are blocks of code or rich text. Each of these is editable, although you will primarily be modifying code cells to answer questions.\n",
    "\n",
    "### Technical Description of a Jupyter Notebook\n",
    "\n",
    "The Jupyter Notebook application is a server-client application that allows editing and executing notebook documents through a web browser. The IBM version of the Jupyter Notebook application is installed on a remote server and is accessed through the internet.\n",
    "\n",
    "A notebook kernel is a \"computational engine\" that executes the code contained in a notebook document. The ipython kernel, mentioned in this guide, runs Python code. There are kernels for many other languages (see the Kernels menu above).\n",
    "\n",
    "When you open a notebook document, the associated kernel starts automatically. By running the notebook (either cell by cell or through the Cell -> Run All menu), the kernel performs the calculations and produces the results. Depending on the type of calculations, the kernel can consume a significant amount of CPU and RAM. Keep in mind that the RAM is not released until the kernel is closed."
   ]
  },
  {
   "cell_type": "markdown",
   "metadata": {},
   "source": [
    "### Introduction to PEP-8 and `import this`\n",
    "\n",
    "#### PEP-8\n",
    "\n",
    "[PEP-8](https://peps.python.org/pep-0008/), also known as \"Python Enhancement Proposal 8\", is the style guide for writing code in Python. It was conceived to facilitate the reading and understanding of code, promoting consistency in the way Python programmers write their code. Some of the key principles of PEP-8 include using indents of four spaces, lines that do not exceed 79 characters, and the definition of functions and variables in lowercase names separated by underscores. It is highly recommended to adhere to PEP-8 to maintain clean and readable Python code.\n",
    "\n",
    "#### `import this`\n",
    "\n",
    "The command `import this` or [PEP-20](https://peps.python.org/pep-0020/) in Python is a little \"easter egg\" included in the language, which when executed, displays the **\"Zen of Python\"**. The \"Zen of Python\" is a collection of 19 aphorisms that express the design philosophy of the Python language. Some of these aphorisms emphasize the importance of code readability and simplicity over complexity. You can see these aphorisms at any time while programming in Python by executing the command `import this` in your Python console or script.\n",
    "\n",
    "To use it, simply type the following command in your Python interpreter:"
   ]
  },
  {
   "cell_type": "code",
   "execution_count": null,
   "metadata": {},
   "outputs": [],
   "source": [
    "import this"
   ]
  },
  {
   "cell_type": "markdown",
   "metadata": {},
   "source": [
    "![otrogif](https://media.giphy.com/media/MT5UUV1d4CXE2A37Dg/giphy.gif)"
   ]
  },
  {
   "cell_type": "markdown",
   "metadata": {
    "toc": true
   },
   "source": [
    "<h1>Table of Contents<span class=\"tocSkip\"></span></h1>\n",
    "<div class=\"toc\"><ul class=\"toc-item\"><li><span><a href=\"#Cell-types-in-Jupyter-Notebook\" data-toc-modified-id=\"Cell-types-in-Jupyter-Notebook-1\"><span class=\"toc-item-num\">1&nbsp;&nbsp;</span>Cell types in Jupyter Notebook</a></span></li><li><span><a href=\"#Sub-título\" data-toc-modified-id=\"Sub-título-2\"><span class=\"toc-item-num\">2&nbsp;&nbsp;</span>Sub-título</a></span><ul class=\"toc-item\"><li><span><a href=\"#Sub-título\" data-toc-modified-id=\"Sub-título-2.1\"><span class=\"toc-item-num\">2.1&nbsp;&nbsp;</span>Sub título</a></span></li><li><span><a href=\"#Code\" data-toc-modified-id=\"Code-2.2\"><span class=\"toc-item-num\">2.2&nbsp;&nbsp;</span>Code</a></span></li><li><span><a href=\"#Shortcuts\" data-toc-modified-id=\"Shortcuts-2.3\"><span class=\"toc-item-num\">2.3&nbsp;&nbsp;</span>Shortcuts</a></span></li></ul></li><li><span><a href=\"#Integer-numbers\" data-toc-modified-id=\"Integer-numbers-3\"><span class=\"toc-item-num\">3&nbsp;&nbsp;</span>Integer numbers</a></span></li><li><span><a href=\"#Real-numbers-(floats)\" data-toc-modified-id=\"Real-numbers-(floats)-4\"><span class=\"toc-item-num\">4&nbsp;&nbsp;</span>Real numbers (floats)</a></span></li><li><span><a href=\"#Basic-operations\" data-toc-modified-id=\"Basic-operations-5\"><span class=\"toc-item-num\">5&nbsp;&nbsp;</span>Basic operations</a></span><ul class=\"toc-item\"><li><span><a href=\"#built-in-and-imported-things\" data-toc-modified-id=\"built-in-and-imported-things-5.1\"><span class=\"toc-item-num\">5.1&nbsp;&nbsp;</span>built-in and imported things</a></span></li></ul></li><li><span><a href=\"#Strings-(character-strings)\" data-toc-modified-id=\"Strings-(character-strings)-6\"><span class=\"toc-item-num\">6&nbsp;&nbsp;</span>Strings (character strings)</a></span><ul class=\"toc-item\"><li><ul class=\"toc-item\"><li><span><a href=\"#icons\" data-toc-modified-id=\"icons-6.0.1\"><span class=\"toc-item-num\">6.0.1&nbsp;&nbsp;</span>icons</a></span></li></ul></li></ul></li><li><span><a href=\"#Casting-in-Python\" data-toc-modified-id=\"Casting-in-Python-7\"><span class=\"toc-item-num\">7&nbsp;&nbsp;</span>Casting in Python</a></span><ul class=\"toc-item\"><li><span><a href=\"#Implicit-conversion\" data-toc-modified-id=\"Implicit-conversion-7.1\"><span class=\"toc-item-num\">7.1&nbsp;&nbsp;</span>Implicit conversion</a></span></li><li><span><a href=\"#explicit-conversion\" data-toc-modified-id=\"explicit-conversion-7.2\"><span class=\"toc-item-num\">7.2&nbsp;&nbsp;</span>explicit conversion</a></span><ul class=\"toc-item\"><li><span><a href=\"#Convert-float-to-int\" data-toc-modified-id=\"Convert-float-to-int-7.2.1\"><span class=\"toc-item-num\">7.2.1&nbsp;&nbsp;</span>Convert float to int</a></span></li><li><span><a href=\"#Convert-a-float-to-a-string\" data-toc-modified-id=\"Convert-a-float-to-a-string-7.2.2\"><span class=\"toc-item-num\">7.2.2&nbsp;&nbsp;</span>Convert a float to a string</a></span></li><li><span><a href=\"#Convert-int-to-str\" data-toc-modified-id=\"Convert-int-to-str-7.2.3\"><span class=\"toc-item-num\">7.2.3&nbsp;&nbsp;</span>Convert int to str</a></span></li></ul></li></ul></li><li><span><a href=\"#Input-and-output-data\" data-toc-modified-id=\"Input-and-output-data-8\"><span class=\"toc-item-num\">8&nbsp;&nbsp;</span>Input and output data</a></span><ul class=\"toc-item\"><li><span><a href=\"#Input\" data-toc-modified-id=\"Input-8.1\"><span class=\"toc-item-num\">8.1&nbsp;&nbsp;</span>Input</a></span></li><li><span><a href=\"#Print\" data-toc-modified-id=\"Print-8.2\"><span class=\"toc-item-num\">8.2&nbsp;&nbsp;</span>Print</a></span></li></ul></li><li><span><a href=\"#Format\" data-toc-modified-id=\"Format-9\"><span class=\"toc-item-num\">9&nbsp;&nbsp;</span>Format</a></span><ul class=\"toc-item\"><li><span><a href=\"#Format---1\" data-toc-modified-id=\"Format---1-9.1\"><span class=\"toc-item-num\">9.1&nbsp;&nbsp;</span>Format - 1</a></span></li><li><span><a href=\"#Format---2\" data-toc-modified-id=\"Format---2-9.2\"><span class=\"toc-item-num\">9.2&nbsp;&nbsp;</span>Format - 2</a></span></li></ul></li><li><span><a href=\"#Strings\" data-toc-modified-id=\"Strings-10\"><span class=\"toc-item-num\">10&nbsp;&nbsp;</span>Strings</a></span><ul class=\"toc-item\"><li><span><a href=\"#String-methods\" data-toc-modified-id=\"String-methods-10.1\"><span class=\"toc-item-num\">10.1&nbsp;&nbsp;</span>String methods</a></span></li></ul></li><li><span><a href=\"#Data-structures\" data-toc-modified-id=\"Data-structures-11\"><span class=\"toc-item-num\">11&nbsp;&nbsp;</span>Data structures</a></span><ul class=\"toc-item\"><li><span><a href=\"#Lists\" data-toc-modified-id=\"Lists-11.1\"><span class=\"toc-item-num\">11.1&nbsp;&nbsp;</span>Lists</a></span><ul class=\"toc-item\"><li><span><a href=\"#list-methods\" data-toc-modified-id=\"list-methods-11.1.1\"><span class=\"toc-item-num\">11.1.1&nbsp;&nbsp;</span>list methods</a></span></li></ul></li><li><span><a href=\"#Tuples\" data-toc-modified-id=\"Tuples-11.2\"><span class=\"toc-item-num\">11.2&nbsp;&nbsp;</span>Tuples</a></span></li><li><span><a href=\"#sets\" data-toc-modified-id=\"sets-11.3\"><span class=\"toc-item-num\">11.3&nbsp;&nbsp;</span>sets</a></span></li><li><span><a href=\"#Dictionaries\" data-toc-modified-id=\"Dictionaries-11.4\"><span class=\"toc-item-num\">11.4&nbsp;&nbsp;</span>Dictionaries</a></span></li></ul></li><li><span><a href=\"#Summary\" data-toc-modified-id=\"Summary-12\"><span class=\"toc-item-num\">12&nbsp;&nbsp;</span>Summary</a></span></li></ul></div>"
   ]
  },
  {
   "cell_type": "markdown",
   "metadata": {
    "lang": "en"
   },
   "source": [
    "## 1. Cell types in Jupyter Notebook"
   ]
  },
  {
   "cell_type": "markdown",
   "metadata": {},
   "source": [
    "`ctrl-enter`: executes the active cell and stays in that cell\n",
    "\n",
    "`shift-enter`: executes the active cell and moves to the next cell\n",
    "\n",
    "*Try it* Execute the following cells:"
   ]
  },
  {
   "cell_type": "code",
   "execution_count": null,
   "metadata": {},
   "outputs": [],
   "source": [
    "print (\"Hello World\")"
   ]
  },
  {
   "cell_type": "code",
   "execution_count": null,
   "metadata": {
    "scrolled": true
   },
   "outputs": [],
   "source": [
    "print (\"Second line\")"
   ]
  },
  {
   "cell_type": "markdown",
   "metadata": {},
   "source": [
    "**Inserting New Cells:**\n",
    "When a cell is selected in blue (click on the left margin of the cell) or, if you are editing the cell, press the escape key, a blue box appears around it.\n",
    "\n",
    "Type:\n",
    "- `a` (above) to create a new empty cell above the active cell at that time\n",
    "- `b` (below) to create a new empty cell below the active cell at that time\n",
    "\n",
    "*Try it: Add a cell below and then a cell above*\n",
    "\n",
    "**Markdown Code:**\n",
    "The `m` shortcut (with the selection in blue) changes the computing cell to markdown. This allows creating rich text elements to document the code.\n",
    "Conversely, you can convert a cell into a code cell using the `y` shortcut.\n",
    "\n",
    "*Try it: Convert the first cell below into a code cell and run it, and the cell below into a markdown cell*\n",
    "\n",
    "#### **Not a code cell right now:**\n",
    "print(\"Now it is a code cell :)\")"
   ]
  },
  {
   "cell_type": "code",
   "execution_count": null,
   "metadata": {},
   "outputs": [],
   "source": [
    "#### **This is a cell for coding**"
   ]
  },
  {
   "cell_type": "markdown",
   "metadata": {},
   "source": [
    "#### **Exercise: Converting Code to Markdown**\n",
    "\n",
    "In this exercise, your task will be to convert the following code cells that contain headings and rich text into markdown cells. This way, instead of appearing as a block of code, they will be displayed as formatted text.\n",
    "\n",
    "1. Select the first cell that contains the headings and the rich text written as code.\n",
    "2. Use the `m` shortcut (making sure the cell is highlighted in blue) to convert the code cell into a markdown cell.\n",
    "3. Press `Shift+Enter` or `Ctrl+Enter` to run the cell and see the result.\n",
    "4. If you've done the step correctly, you should see the headings and rich text (bold, italics, etc.) applied instead of as a block of code.\n",
    "\n",
    "*Try it: Convert the cells with the headings and rich text from code to markdown and run them to see the result.*\n",
    "\n",
    "Remember, the cells should look just like the example cells provided below.\n",
    "\n",
    "Good luck!"
   ]
  },
  {
   "cell_type": "code",
   "execution_count": null,
   "metadata": {
    "scrolled": true
   },
   "outputs": [],
   "source": [
    "# Header 1\n",
    "## Header 2\n",
    "### Header 3\n",
    "#### Header 4\n",
    "\n",
    "**bold**\n",
    "\n",
    "*italic*\n",
    "\n",
    "a blank line is a paragraph\n",
    "\n",
    "this is a new paragraph"
   ]
  },
  {
   "cell_type": "markdown",
   "metadata": {},
   "source": [
    "If you have successfully converted the cell to a markdown cell, it should be displayed just like the cell below."
   ]
  },
  {
   "cell_type": "markdown",
   "metadata": {},
   "source": [
    "# Header 1\n",
    "## Header 2\n",
    "### Header 3\n",
    "#### Header 4\n",
    "\n",
    "**bold**\n",
    "\n",
    "*italic*\n",
    "\n",
    "a blank line is a paragraph\n",
    "\n",
    "this is a new paragraph"
   ]
  },
  {
   "cell_type": "markdown",
   "metadata": {},
   "source": [
    "### Explanation of Markdown Elements\n",
    "\n",
    "In the provided example, there are two very useful and common Markdown elements: links and images.\n",
    "\n",
    "1. **Link**\n",
    "   The first line `[name](url)` is a link. The syntax for creating a link is to place the link text between square brackets `[]` and the URL between parentheses `()`. Clicking on the text \"This is Google\" will take you to the Google Spain web page.\n",
    "\n",
    "2. **Image**\n",
    "   The second line `![name](url image)` is an image. The syntax for inserting an image is very similar to that of a link, but it starts with an exclamation mark `!`. The text between square brackets `[]` serves as an alternative description for the image, which is displayed if the image cannot be rendered for any reason. In this case, when running the cell, you will see the text \"This is an image (which will not render)\" if the image cannot be loaded from the provided URL.\n",
    "\n",
    "You can try these elements for yourself in any markdown cell. Give it a try!"
   ]
  },
  {
   "cell_type": "markdown",
   "metadata": {},
   "source": [
    "**Link**\n",
    "[This is google](https://www.google.es)"
   ]
  },
  {
   "cell_type": "markdown",
   "metadata": {},
   "source": [
    "**Image**:\n",
    "![This image (won't render)](https://m.facebook.com/IronhackSpain/photos/a.644771729221628/1108169482881848/?type=3&source=44&ref=py_c)"
   ]
  },
  {
   "cell_type": "markdown",
   "metadata": {},
   "source": [
    "### Shortcuts"
   ]
  },
  {
   "cell_type": "markdown",
   "metadata": {},
   "source": [
    "**Final Keyboard Shortcut Reminder**\n",
    "\n",
    "To execute the cell:\n",
    "\n",
    "- `ctrl + enter`\n",
    "- `shift + enter` # this executes the cell and moves to the next one\n",
    "\n",
    "To insert new cells:\n",
    "\n",
    "- `a` for a new cell above\n",
    "- `b` for a new cell below\n",
    "- `d + d` for shortcut mode (deletes the selected cell)\n",
    "\n",
    "To toggle between markdown and code:\n",
    "\n",
    "- `m` or `y` to switch between markdown and code\n",
    "\n",
    "# Type of Data\n",
    "In this section, we will explore different types of data you can encounter and use in Python. Understanding the different types of data is fundamental to working effectively with Python.\n",
    "\n",
    "- **Integers**: These are numbers without decimal points, and can be either positive or negative. For example, -3, 0, 42 are all integers.\n",
    "\n",
    "- **Floating-point Numbers (Float)**: These are numbers that contain decimal points or are written in scientific notation. They include values like 3.14, -0.001, or 2.5e2.\n",
    "\n",
    "- **Strings**: Strings are sequences of characters (letters, numbers, symbols, emojis) enclosed in single (`'`) or double (`\"`) quotes. For example, \"Hello, World\" or 'Python3' are strings.\n",
    "\n",
    "- **Booleans (Boolean)**: Boolean values can only be `True` (true) or `False` (false), and represent the outcome of logical operations.\n",
    "\n",
    "Remember, Python is a dynamically typed and strongly typed language, which means you do not need to explicitly declare the data type of a variable; Python will infer it for you.\n",
    "\n",
    "\n",
    "## Integer Numbers\n",
    "Integer numbers, also known as \"integers\" in English, are a type of data that represents whole numbers, that is, without decimals. They can be both positive and negative. In Python, you can assign an integer value to a variable simply by writing the number without any decimal or quotes. For example:"
   ]
  },
  {
   "cell_type": "code",
   "execution_count": null,
   "metadata": {},
   "outputs": [],
   "source": [
    "whole_number = 4"
   ]
  },
  {
   "cell_type": "markdown",
   "metadata": {},
   "source": [
    "In this cell, we are declaring a variable called `an_integer` and assigning it the value 4, which is an integer number."
   ]
  },
  {
   "cell_type": "code",
   "execution_count": null,
   "metadata": {
    "scrolled": true
   },
   "outputs": [],
   "source": [
    "whole_number"
   ]
  },
  {
   "cell_type": "markdown",
   "metadata": {},
   "source": [
    "Here, we are simply writing the name of the variable. This will make the Jupyter notebook print its value, which is 4."
   ]
  },
  {
   "cell_type": "code",
   "execution_count": null,
   "metadata": {
    "scrolled": true
   },
   "outputs": [],
   "source": [
    "print(whole_number)"
   ]
  },
  {
   "cell_type": "markdown",
   "metadata": {},
   "source": [
    "In this cell, we are using the `print()` function to print the value of the variable `an_integer`. You will also see 4 as output here, but unlike the previous cell, you are specifically using a function to print the value."
   ]
  },
  {
   "cell_type": "code",
   "execution_count": null,
   "metadata": {},
   "outputs": [],
   "source": [
    "a = 10\n",
    "b = 20\n",
    "a\n",
    "b # Notebook prints last value"
   ]
  },
  {
   "cell_type": "markdown",
   "metadata": {},
   "source": [
    "In this set of lines, first we assign 10 to `a` and 20 to `b`. Then, we write `a` and `b` on separate lines, but the Jupyter notebook will only print the value of `b`, since it is the last one in the cell. This is indicated with the comment # Notebook prints the last value."
   ]
  },
  {
   "cell_type": "code",
   "execution_count": null,
   "metadata": {
    "scrolled": true
   },
   "outputs": [],
   "source": [
    "a = 10\n",
    "b = 20\n",
    "print(a)\n",
    "b # Notebook prints last value"
   ]
  },
  {
   "cell_type": "markdown",
   "metadata": {},
   "source": [
    "Here, it is similar to the previous cell, but this time we are using the `print()` function to print the value of `a` before simply writing `b`. You will see both 10 (the output of `print(a)`) and 20 (the value of `b`) in the output."
   ]
  },
  {
   "cell_type": "code",
   "execution_count": null,
   "metadata": {},
   "outputs": [],
   "source": [
    "type(a)"
   ]
  },
  {
   "cell_type": "markdown",
   "metadata": {},
   "source": [
    "Finally, we are using the `type()` function to print the data type of the variable `a`, which in this case is `<class 'int'>`, indicating that it is an integer number."
   ]
  },
  {
   "cell_type": "markdown",
   "metadata": {
    "lang": "en"
   },
   "source": [
    "## Real numbers (floats)\n",
    "In this section, we are going to explore another data type in Python: real numbers, also known as \"floats.\" Floats can represent fractional numbers, meaning numbers that have both an integer part and a decimal part. They can be both positive and negative.\n",
    "\n",
    "In Python, you can create a float by simply including a decimal point in the number, or by using scientific notation for very large or very small numbers. Here are some examples:\n",
    "\n",
    "x = 5.67\n",
    "\n",
    "y = -0.23\n",
    "\n",
    "z = 3.0e8\n",
    "\n",
    "In this code:\n",
    "- `x` is a float representing the number 5.67.\n",
    "- `y` is a float representing the number -0.23.\n",
    "- `z` is a float representing the number 300,000,000 (or 3.0 × 10^8, using scientific notation).\n",
    "\n",
    "Just like with integers, you can use the `type()` function to check the data type of a variable. For example, `type(x)` will return `<class 'float'>`, indicating that `x` is a float.\n",
    "\n",
    "Floats are useful when you need to perform calculations that require decimal precision. Now, let's practice working with floats in Python with some exercises."
   ]
  },
  {
   "cell_type": "code",
   "execution_count": null,
   "metadata": {},
   "outputs": [],
   "source": [
    "a = 12.34"
   ]
  },
  {
   "cell_type": "markdown",
   "metadata": {},
   "source": [
    "In the previous cell, we assigned the float number 12.34 to the variable `a`. Now, let's print the value of `a` to verify it."
   ]
  },
  {
   "cell_type": "code",
   "execution_count": null,
   "metadata": {},
   "outputs": [],
   "source": [
    "print(a)"
   ]
  },
  {
   "cell_type": "markdown",
   "metadata": {},
   "source": [
    "Now, let's use the `type()` function to check the data type of the variable `a`. This should confirm that it is a float number."
   ]
  },
  {
   "cell_type": "code",
   "execution_count": null,
   "metadata": {},
   "outputs": [],
   "source": [
    "type(a)"
   ]
  },
  {
   "cell_type": "code",
   "execution_count": null,
   "metadata": {},
   "outputs": [],
   "source": [
    "b = 12.0"
   ]
  },
  {
   "cell_type": "markdown",
   "metadata": {},
   "source": [
    "Now, try to predict the data type of the variable `b` before verifying it with the `type()` function. Do you think it is:\n",
    "- **int?**\n",
    "- **float?**"
   ]
  },
  {
   "cell_type": "code",
   "execution_count": null,
   "metadata": {
    "scrolled": true
   },
   "outputs": [],
   "source": [
    "# type(b)"
   ]
  },
  {
   "cell_type": "markdown",
   "metadata": {},
   "source": [
    "In this last cell, we verify the data type of `b` using the `type()` function. Although `b` has a value that could be an integer, it is considered a float because it includes a decimal point."
   ]
  },
  {
   "cell_type": "markdown",
   "metadata": {
    "lang": "en"
   },
   "source": [
    "## Basic operations\n",
    "In this section, we will explore some basic operations in Python. We will learn how to perform addition, subtraction, division, and how to obtain the modulus and floor division. We will also see how we can use the modulus to determine if a number is even or odd. Let's start with some practical exercises!"
   ]
  },
  {
   "cell_type": "code",
   "execution_count": null,
   "metadata": {},
   "outputs": [],
   "source": [
    "a = 10\n",
    "b = 3"
   ]
  },
  {
   "cell_type": "code",
   "execution_count": null,
   "metadata": {
    "scrolled": true
   },
   "outputs": [],
   "source": [
    "10 + 3"
   ]
  },
  {
   "cell_type": "markdown",
   "metadata": {},
   "source": [
    "In the previous cell, we simply added 10 and 3 directly in a code cell. Now, we will do the same, but using the variables `a` and `b` that we have defined previously."
   ]
  },
  {
   "cell_type": "code",
   "execution_count": null,
   "metadata": {
    "scrolled": true
   },
   "outputs": [],
   "source": [
    "# Sum\n",
    "a + b"
   ]
  },
  {
   "cell_type": "markdown",
   "metadata": {},
   "source": [
    "Now we will proceed to perform a subtraction using the same variables, `a` and `b`."
   ]
  },
  {
   "cell_type": "code",
   "execution_count": null,
   "metadata": {},
   "outputs": [],
   "source": [
    "# difference\n",
    "\n",
    "a - b"
   ]
  },
  {
   "cell_type": "markdown",
   "metadata": {},
   "source": [
    "Next, we will explore how to perform divisions in Python. First, we will perform a regular division and then check the data type of the result."
   ]
  },
  {
   "cell_type": "code",
   "execution_count": null,
   "metadata": {},
   "outputs": [],
   "source": [
    "# division\n",
    "\n",
    "division = a / b"
   ]
  },
  {
   "cell_type": "code",
   "execution_count": null,
   "metadata": {},
   "outputs": [],
   "source": [
    "type(division)"
   ]
  },
  {
   "cell_type": "markdown",
   "metadata": {},
   "source": [
    "Now, let's learn about \"floor division,\" which rounds the result of the division down to the nearest integer. We will also check the data type of the result."
   ]
  },
  {
   "cell_type": "code",
   "execution_count": null,
   "metadata": {},
   "outputs": [],
   "source": [
    "# division: floor division: rounded division\n",
    "\n",
    "floor_division = a // b\n",
    "floor_division"
   ]
  },
  {
   "cell_type": "code",
   "execution_count": null,
   "metadata": {},
   "outputs": [],
   "source": [
    "type(floor_division)"
   ]
  },
  {
   "cell_type": "markdown",
   "metadata": {},
   "source": [
    "Next, we will explore the modulo operator (`%`), which gives us the remainder of a division. First, we will find the modulo of `a` divided by `b`."
   ]
  },
  {
   "cell_type": "code",
   "execution_count": null,
   "metadata": {},
   "outputs": [],
   "source": [
    "# Module: Remainder of the division\n",
    "\n",
    "a % b"
   ]
  },
  {
   "cell_type": "markdown",
   "metadata": {},
   "source": [
    "To better understand how divisions and the modulo operator work, we will print the values of `a` and `b`."
   ]
  },
  {
   "cell_type": "code",
   "execution_count": null,
   "metadata": {},
   "outputs": [],
   "source": [
    "a"
   ]
  },
  {
   "cell_type": "code",
   "execution_count": null,
   "metadata": {},
   "outputs": [],
   "source": [
    "b"
   ]
  },
  {
   "cell_type": "markdown",
   "metadata": {},
   "source": [
    "Next, we will use the modulo operator to determine if the numbers in a list are even or odd. If a number divided by 2 yields a remainder of 0, then it is even. Let's create a loop that iterates over a list of numbers and tells us if each number is even or odd."
   ]
  },
  {
   "cell_type": "code",
   "execution_count": null,
   "metadata": {},
   "outputs": [],
   "source": [
    "# Even / odd -> modulo (remainder)\n",
    "# If the remainder of a division by two is zero: even\n",
    "\n",
    "\n",
    "list_ = [1, 2, 3, 4, 5, 6]\n",
    "\n",
    "for i in list_:\n",
    "    if i % 2 == 0:\n",
    "        print(f\"El numero {i} es par\")\n",
    "    else:\n",
    "        print(f\"El numero {i} NO es par\")"
   ]
  },
  {
   "cell_type": "markdown",
   "metadata": {},
   "source": [
    "### Practical Exercise\n",
    "Now that we have explored some basic operations in Python, it's your turn to give it a try.\n",
    "\n",
    "**Instructions:**\n",
    "1. Create two new variables, `x` and `y`, and assign any integer number to each of them.\n",
    "2. Perform the following operations using these variables:\n",
    "   - Addition\n",
    "   - Subtraction\n",
    "   - Multiplication\n",
    "   - Division and check the type of result\n",
    "   - Floor division and check the type of result\n",
    "   - Find the modulo (remainder of division)\n",
    "3. Use a `for` loop to iterate over a list of numbers from 1 to 10 and print whether each number is even or odd.\n",
    "\n",
    "Don't forget to print the results to verify your solutions."
   ]
  },
  {
   "cell_type": "code",
   "execution_count": null,
   "metadata": {},
   "outputs": [],
   "source": [
    "# your solution here"
   ]
  },
  {
   "cell_type": "markdown",
   "metadata": {},
   "source": [
    "### built-in and imported things\n",
    "\n",
    "In the world of Python, you will often work with different methods and functions to perform specific tasks in your code. \"Methods\" and \"functions\" are essentially things that perform actions (or, as we colloquially say, \"things that do things\"). Below, we'll explore two main categories of these: built-in things and imported things (*summary: methods = functions = things that do things*).\n",
    "\n",
    "- **Built-in methods:**\n",
    "These are functions or things that are already included in Python when you install it. You don't need to install anything extra to use them. Some examples are the `print` and `sum` methods.\n",
    "\n",
    "- **Imported things:**\n",
    "Sometimes, you might need to use functions or things that are not directly built into Python. In these cases, you'll need to import them from an external library. Before you can use these functions, you'll need to install the corresponding library with a `pip install` or `conda install` command, and then import it into your script.\n",
    "\n",
    "Below, we'll explore some examples of both types of \"things\":"
   ]
  },
  {
   "cell_type": "code",
   "execution_count": null,
   "metadata": {},
   "outputs": [],
   "source": [
    "# First, let's explore a built-in method: print\n",
    "# The print method allows us to print messages to the console.\n",
    "print(\"This is built-in\")"
   ]
  },
  {
   "cell_type": "code",
   "execution_count": null,
   "metadata": {},
   "outputs": [],
   "source": [
    "# Another example of a built-in method is upper.\n",
    "# This method converts a string of text to uppercase.\n",
    "\"This is a string\".upper()"
   ]
  },
  {
   "cell_type": "code",
   "execution_count": null,
   "metadata": {},
   "outputs": [],
   "source": [
    "# Now, let's explore how to import and use things from an external library.\n",
    "# First, we need to import the library. In this case, we're importing the math library.\n",
    "import math"
   ]
  },
  {
   "cell_type": "code",
   "execution_count": null,
   "metadata": {},
   "outputs": [],
   "source": [
    "# Next, we use a function from the math library: floor.\n",
    "# The floor function rounds a number down to the nearest integer.\n",
    "math.floor(8789.098767)"
   ]
  },
  {
   "cell_type": "markdown",
   "metadata": {
    "lang": "en"
   },
   "source": [
    "## Strings (character strings)\n",
    "\n",
    "Character strings, also known as \"strings,\" are a sequence of characters, which can include letters, numbers, symbols, and even emojis. Strings can be enclosed in double or single quotes, and we can even define multi-line strings using triple quotes. Below, we'll explore various examples and features of strings in Python.\n",
    "\n",
    "Examples of defining a string with different types of quotes:"
   ]
  },
  {
   "cell_type": "code",
   "execution_count": null,
   "metadata": {
    "scrolled": true
   },
   "outputs": [],
   "source": [
    "\"This is a string\""
   ]
  },
  {
   "cell_type": "code",
   "execution_count": null,
   "metadata": {},
   "outputs": [],
   "source": [
    "'This is a string with simple quotes'"
   ]
  },
  {
   "cell_type": "code",
   "execution_count": null,
   "metadata": {
    "scrolled": true
   },
   "outputs": [],
   "source": [
    "\"This is a string with simple quotes\" #End Of Line"
   ]
  },
  {
   "cell_type": "markdown",
   "metadata": {},
   "source": [
    "We can assign a string to a variable, as shown here:"
   ]
  },
  {
   "cell_type": "code",
   "execution_count": null,
   "metadata": {},
   "outputs": [],
   "source": [
    "this_is_also_a_string = \"4\"\n",
    "this_is_also_a_string"
   ]
  },
  {
   "cell_type": "markdown",
   "metadata": {},
   "source": [
    "We can check the type of a variable using the `type` function:"
   ]
  },
  {
   "cell_type": "code",
   "execution_count": null,
   "metadata": {},
   "outputs": [],
   "source": [
    "type(this_is_also_a_string)"
   ]
  },
  {
   "cell_type": "markdown",
   "metadata": {},
   "source": [
    "Attempting to create a multi-line string without triple quotes will result in an error:"
   ]
  },
  {
   "cell_type": "code",
   "execution_count": null,
   "metadata": {},
   "outputs": [],
   "source": [
    "\"This is a string\n",
    "with multiple lines\""
   ]
  },
  {
   "cell_type": "markdown",
   "metadata": {},
   "source": [
    "To create a multi-line `string` correctly, we should use triple quotes:"
   ]
  },
  {
   "cell_type": "code",
   "execution_count": null,
   "metadata": {},
   "outputs": [],
   "source": [
    "\"\"\"\n",
    "This is a string\n",
    "with multiple liness\"\"\""
   ]
  },
  {
   "cell_type": "markdown",
   "metadata": {},
   "source": [
    "We can also print a multi-line `string` using the print function and triple quotes:"
   ]
  },
  {
   "cell_type": "code",
   "execution_count": null,
   "metadata": {},
   "outputs": [],
   "source": [
    "print(\"\"\"\n",
    "This is a string\n",
    "with multiple liness\"\"\")"
   ]
  },
  {
   "cell_type": "markdown",
   "metadata": {},
   "source": [
    "#### icons\n",
    "Strings can contain emojis, as shown here:"
   ]
  },
  {
   "cell_type": "code",
   "execution_count": null,
   "metadata": {},
   "outputs": [],
   "source": [
    "\"😍\" #emojis -> They are strings"
   ]
  },
  {
   "cell_type": "code",
   "execution_count": null,
   "metadata": {},
   "outputs": [],
   "source": [
    "heart_face = \"😍\""
   ]
  },
  {
   "cell_type": "code",
   "execution_count": null,
   "metadata": {},
   "outputs": [],
   "source": [
    "heart_face"
   ]
  },
  {
   "cell_type": "code",
   "execution_count": null,
   "metadata": {},
   "outputs": [],
   "source": [
    "type(heart_face)"
   ]
  },
  {
   "cell_type": "markdown",
   "metadata": {
    "lang": "en"
   },
   "source": [
    "## Casting in Python\n",
    "\n",
    "Type conversion, also known as \"casting,\" refers to the process of converting one data type to another. Previously, we have seen data types such as `int`, `string`, or `float`. Well, it turns out that it's possible to convert from one type to another. But first, let's look at the different types of conversions or type transformations that can be performed. There are two:\n",
    "\n",
    "**Implicit conversion:** This is done automatically by Python. It occurs when we perform certain operations with two different types, Python converts it in the background without the need for the programmer to explicitly indicate it.\n",
    "\n",
    "**Explicit conversion:** We do this explicitly, such as converting a `str` to `int` with `int()` or to `float` with `float()`. This type of conversion is done using predefined Python functions.\n",
    "\n",
    "It's important to note that not all data types can be safely converted between each other. For example, trying to convert a text string containing letters to an integer will result in an error. Therefore, it's always a good practice to handle potential errors using exception control structures, which we'll see later in the course.\n",
    "\n",
    "Let's see some examples of each to better understand how they work!\n",
    "\n",
    "### Implicit conversion\n",
    "This type of conversion is done automatically by Python, practically without us noticing. However, it's important to know what's happening under the hood to avoid future problems.\n",
    "\n",
    "The simplest example where we can see this behavior is as follows:\n",
    "- `a` is an `int`\n",
    "- `b` is a `float`\n",
    "\n",
    "But if we add `a` and `b` and store the result in `a`, we can see how Python has internally converted the `int` to `float` to perform the operation, and the resulting variable is a `float`. However, there are other cases where Python is not as smart and is unable to perform the conversion. If we try to add an `int` to a `string`, we'll get a `TypeError`."
   ]
  },
  {
   "cell_type": "code",
   "execution_count": null,
   "metadata": {},
   "outputs": [],
   "source": [
    "a = 5       # This is a int\n",
    "b = 4.5     # This is a float"
   ]
  },
  {
   "cell_type": "code",
   "execution_count": null,
   "metadata": {},
   "outputs": [],
   "source": [
    "c = a + b   # Python automatically converts a to float to perform the operation\n",
    "print(c)    # The result, 9.5, is a float"
   ]
  },
  {
   "cell_type": "code",
   "execution_count": null,
   "metadata": {},
   "outputs": [],
   "source": [
    "# Pero, si intentamos hacer una operación entre un string y un entero:\n",
    "d = \"Hola\" + a  # Esto provocará un TypeError"
   ]
  },
  {
   "cell_type": "markdown",
   "metadata": {
    "lang": "en"
   },
   "source": [
    "### explicit conversion\n",
    "\n",
    "On the other hand, we can perform explicit conversions between types or castings using different functions provided by Python. The most commonly used ones are:\n",
    "\n",
    "`float()`, `str()`, `int()`, `list()`, `set()`\n",
    "\n",
    "#### Convert float to int\n",
    "\n",
    "To convert from float to int we should use `int()`. But be careful, because the integer type cannot store decimals, so we'll lose whatever comes after the decimal point."
   ]
  },
  {
   "cell_type": "code",
   "execution_count": null,
   "metadata": {},
   "outputs": [],
   "source": [
    "# Example of explicit conversion\n",
    "float_number = 5.7\n",
    "int_number = int(float_number)"
   ]
  },
  {
   "cell_type": "code",
   "execution_count": null,
   "metadata": {},
   "outputs": [],
   "source": [
    "print(float_number)  # The result will be 5, losing the decimal part."
   ]
  },
  {
   "cell_type": "markdown",
   "metadata": {
    "lang": "en"
   },
   "source": [
    "#### Convert a float to a string\n",
    "Podemos convertir un float a un string de texto utilizando `str()`. Podemos ver en el siguiente código cómo cambia el tipo de `a` después de la conversión."
   ]
  },
  {
   "cell_type": "code",
   "execution_count": null,
   "metadata": {},
   "outputs": [],
   "source": [
    "# Ejemplo de convertir un float a un string\n",
    "a = 3.14159\n",
    "print(type(a))  # Esto imprimirá: <class 'float'>"
   ]
  },
  {
   "cell_type": "code",
   "execution_count": null,
   "metadata": {},
   "outputs": [],
   "source": [
    "a = str(a)\n",
    "print(type(a))  # Esto imprimirá: <class 'str'>\n",
    "print(a)        # Esto imprimirá: 3.14159, pero ahora como una cadena de texto."
   ]
  },
  {
   "cell_type": "markdown",
   "metadata": {
    "lang": "en"
   },
   "source": [
    "#### Convert int to str\n",
    "Just like the conversion to float we saw earlier, we can convert from int to str using `str()`. Let's see an example below:"
   ]
  },
  {
   "cell_type": "code",
   "execution_count": null,
   "metadata": {},
   "outputs": [],
   "source": [
    "# Example of converting an integer to a string\n",
    "a = 42\n",
    "print(type(a))  # This will print: <class 'int'>"
   ]
  },
  {
   "cell_type": "code",
   "execution_count": null,
   "metadata": {
    "scrolled": true
   },
   "outputs": [],
   "source": [
    "a = str(a)\n",
    "print(type(a))  # This will print: <class 'str'>\n",
    "print(a)        # This will print: \"42\", but now as a string."
   ]
  },
  {
   "cell_type": "markdown",
   "metadata": {},
   "source": [
    "#### Exercise\n",
    "\n",
    "Now it's your turn to try converting from int to str. Perform the following tasks:\n",
    "\n",
    "1. Create a variable `age` and assign your age as an integer.\n",
    "2. Convert the variable `age` to a string using the `str()` function.\n",
    "3. Concatenate the string \"My age is: \" with the variable `age` (now a string) and store the result in a new variable called `message`.\n",
    "4. Print the variable `message` to the console.\n",
    "\n",
    "Below is a basic outline you can use:"
   ]
  },
  {
   "cell_type": "code",
   "execution_count": null,
   "metadata": {},
   "outputs": [],
   "source": [
    "# Step 1: Create a variable age with your age as an integer\n",
    "age = ...\n",
    "\n",
    "# Step 2: Convert the variable age to a string\n",
    "age = ...\n",
    "\n",
    "# Step 3: Concatenate \"My age is: \" with the variable age and store the result in a new variable called message\n",
    "message = ...\n",
    "\n",
    "# Step 4: Print the variable message\n",
    "print(...)"
   ]
  },
  {
   "cell_type": "markdown",
   "metadata": {
    "lang": "en"
   },
   "source": [
    "## Input and output data\n",
    "\n",
    "In the development of programs, we often need to interact with users by allowing them to input data and displaying results or messages. Python provides simple and straightforward methods to achieve this, making it easy to create interactive and user-friendly scripts. Below, we will explore how we can accomplish this using Python.\n",
    "\n",
    "### Input\n",
    "\n",
    "To assign a variable to a value entered by the user from the console, we use the `input()` function. This function can take an optional argument: the message or prompt that you want to display on the screen to guide the user on what type of information is expected to be entered. It's essential to note that, regardless of the type of data the user enters, the `input()` function will always return a string. Here's the basic outline of how it works:\n",
    "\n",
    "`input(message)`: Displays the message on the terminal and returns a string with the user's input.\n",
    "\n",
    "Often, it may be necessary to convert this string to a different data type, depending on how you plan to use the entered value in your script. This can be done using type conversion techniques, or \"casting,\" which we discussed in earlier sections."
   ]
  },
  {
   "cell_type": "code",
   "execution_count": null,
   "metadata": {},
   "outputs": [],
   "source": [
    "salutation = input()\n",
    "salutation"
   ]
  },
  {
   "cell_type": "markdown",
   "metadata": {},
   "source": [
    "Ahora, vamos a personalizar el mensaje que aparece cuando pedimos una entrada al usuario utilizando el argumento `prompt` de la función `input()`."
   ]
  },
  {
   "cell_type": "code",
   "execution_count": null,
   "metadata": {},
   "outputs": [],
   "source": [
    "salutation = input(prompt = \"This is a prompt\")"
   ]
  },
  {
   "cell_type": "markdown",
   "metadata": {},
   "source": [
    "Let's continue by requesting more information from the user, such as their name and a number. Then, we'll experiment with the operations we can perform with these inputs."
   ]
  },
  {
   "cell_type": "code",
   "execution_count": null,
   "metadata": {},
   "outputs": [],
   "source": [
    "name = input(\"Write here your name: \")\n",
    "name"
   ]
  },
  {
   "cell_type": "code",
   "execution_count": null,
   "metadata": {},
   "outputs": [],
   "source": [
    "number = input(\"Write here your number: \")\n",
    "number"
   ]
  },
  {
   "cell_type": "markdown",
   "metadata": {},
   "source": [
    "When trying to operate with a string representing a number, we'll see that it doesn't behave like a real number. For example, if we try to multiply it by 10 or divide it by 2, we'll get errors or undesired behaviors."
   ]
  },
  {
   "cell_type": "code",
   "execution_count": null,
   "metadata": {},
   "outputs": [],
   "source": [
    "number * 10"
   ]
  },
  {
   "cell_type": "code",
   "execution_count": null,
   "metadata": {},
   "outputs": [],
   "source": [
    "# This will generate an error because we're trying to divide a string.\n",
    "number / 2"
   ]
  },
  {
   "cell_type": "markdown",
   "metadata": {},
   "source": [
    "To avoid these problems, we can convert the input to a number using the `int()` function. Once the input is an integer, we can perform numerical operations with it."
   ]
  },
  {
   "cell_type": "code",
   "execution_count": null,
   "metadata": {},
   "outputs": [],
   "source": [
    "number = int(input(\"Write here your number: \"))\n",
    "number"
   ]
  },
  {
   "cell_type": "code",
   "execution_count": null,
   "metadata": {},
   "outputs": [],
   "source": [
    "type(number)"
   ]
  },
  {
   "cell_type": "code",
   "execution_count": null,
   "metadata": {},
   "outputs": [],
   "source": [
    "int(number / 2)"
   ]
  },
  {
   "cell_type": "markdown",
   "metadata": {},
   "source": [
    "**Final Reflections**\n",
    "\n",
    "It's important to anticipate potential issues in user inputs and manage them properly to avoid errors during execution. One way to do this is through defensive programming, where the validity of inputs is checked before proceeding with operations. Additionally, we can use flow control structures, such as `if/else`, and error handling with `try/except` to handle unexpected situations more elegantly.\n",
    "\n",
    "Considerations:\n",
    "- Anticipate a potential problem -> Defensive programming.\n",
    "- Ensure the number is an integer before performing operations that require integers.\n",
    "- Use conditional logic (`if/else`) to handle different cases.\n",
    "- Proactively handle errors using `try/except` to prevent failures during execution.\n",
    "\n",
    "### Print\n",
    "\n",
    "The `print()` function is used to write the specified message to the screen or another standard output device.\n",
    "\n",
    "The message can be a string or any other object; the object will be converted to a string before being written to the screen. Let's explore some of the functionalities and peculiarities of the `print()` function.\n",
    "\n",
    "**Observations**:\n",
    "\n",
    "- **OUR FRIEND**: The `print()` function is a fundamental tool for debugging code. It allows us to visualize the values of different variables at various points in our code, making it easier to identify errors or \"bugs\".\n",
    "- **Debugging**: It's the process of identifying and fixing errors in the code. Using `print()` is one of the simplest ways to \"debug\", that is, to search for and fix errors in the code.\n",
    "\n",
    "Let's see how it works in the following code snippet:"
   ]
  },
  {
   "cell_type": "code",
   "execution_count": null,
   "metadata": {},
   "outputs": [],
   "source": [
    "greeting = \"Hellooooo\"\n",
    "type(greeting)"
   ]
  },
  {
   "cell_type": "code",
   "execution_count": null,
   "metadata": {},
   "outputs": [],
   "source": [
    "type(print(greeting))"
   ]
  },
  {
   "cell_type": "code",
   "execution_count": null,
   "metadata": {},
   "outputs": [],
   "source": [
    "type(greeting)"
   ]
  },
  {
   "cell_type": "markdown",
   "metadata": {},
   "source": [
    "#### Reflections\n",
    "You'll notice that when we use `print()`, the type it returns is `NoneType`. This is because `print()` is a function that performs an action (printing something to the console) but does not return any value (its return is `None`). This is an important distinction, especially when compared with functions that do return values.\n",
    "\n",
    "#### Warning\n",
    "- It's crucial to remember that `print()` prints to the console but does not return a value that can be used in subsequent operations in the code.\n",
    "\n",
    "## Format\n",
    "In this section, we'll explore different ways to format strings in Python, which can be particularly useful when we want to include variable values within a string. There are several ways to do this in Python, including concatenating strings using `+`, using a comma `,`, using the `.format()` method, or through f-strings. Below, we will see examples of each of these methods and analyze the resulting data types."
   ]
  },
  {
   "cell_type": "markdown",
   "metadata": {},
   "source": [
    "### Format - 1"
   ]
  },
  {
   "cell_type": "code",
   "execution_count": null,
   "metadata": {},
   "outputs": [],
   "source": [
    "# First Case: This Could Be a Use Case for Input and Output Functions\n",
    "name = \"Santi\"\n",
    "age = 24"
   ]
  },
  {
   "cell_type": "code",
   "execution_count": null,
   "metadata": {},
   "outputs": [],
   "source": [
    "# Using Concatenation with '+'\n",
    "greeting = \"Hello my name is \" + name + \" and my age is \" + str(age)\n",
    "greeting"
   ]
  },
  {
   "cell_type": "code",
   "execution_count": null,
   "metadata": {},
   "outputs": [],
   "source": [
    "# Using a Comma to Concatenate\n",
    "greeting = \"Hello my name is \", name, \" and my age is \", str(age)\n",
    "greeting"
   ]
  },
  {
   "cell_type": "code",
   "execution_count": null,
   "metadata": {},
   "outputs": [],
   "source": [
    "# Checking the Type of the Variable `greeting`\n",
    "type(greeting)"
   ]
  },
  {
   "cell_type": "code",
   "execution_count": null,
   "metadata": {},
   "outputs": [],
   "source": [
    "# Adding Some Options to Reflect On What Type of Data We Have Here:\n",
    "# 1. String\n",
    "# 2. List\n",
    "# 3. Tuple\n",
    "# 4. CSV: Comma Separated Values?"
   ]
  },
  {
   "cell_type": "code",
   "execution_count": null,
   "metadata": {},
   "outputs": [],
   "source": [
    "# Utilizando f-strings para una formateación más limpia\n",
    "greeting = f\"Hello my name is {name} and my age is {age}\"\n",
    "greeting"
   ]
  },
  {
   "cell_type": "markdown",
   "metadata": {},
   "source": [
    "### Format - 2"
   ]
  },
  {
   "cell_type": "code",
   "execution_count": null,
   "metadata": {},
   "outputs": [],
   "source": [
    "# Second case: \n",
    "name = \"Laura\"\n",
    "age = 30"
   ]
  },
  {
   "cell_type": "code",
   "execution_count": null,
   "metadata": {},
   "outputs": [],
   "source": [
    "# Using the .format() Method to Insert Values into a String\n",
    "greeting = \"Hello my name is {} and my age is {}\".format(name, age)\n",
    "greeting"
   ]
  },
  {
   "cell_type": "markdown",
   "metadata": {},
   "source": [
    "**Exercise**\n",
    "\n",
    "Now that we've learned several ways to format strings in Python, it's time to put our knowledge into practice. In this exercise, we'll ask you to use the `input()` function to request certain information from the user, and then format that information using at least two of the methods we've discussed previously (concatenation with '+', using commas, f-strings, or the `.format()` method).\n",
    "\n",
    "Instructions:\n",
    "1. Ask the user to enter their name and age using the `input()` function.\n",
    "2. Create a greeting message that includes the user's name and age, using two different string formatting methods.\n",
    "3. Print both messages on the console to verify your work."
   ]
  },
  {
   "cell_type": "code",
   "execution_count": null,
   "metadata": {},
   "outputs": [],
   "source": [
    "# your code here"
   ]
  },
  {
   "cell_type": "markdown",
   "metadata": {
    "lang": "es"
   },
   "source": [
    "## Strings\n",
    "\n",
    "In Python, as we've seen before, a string is a sequence of characters enclosed in single (`'`), double (`\"`), or triple (`'''` or `\"\"\"`) quotes. Strings are immutable, which means that once created, we cannot modify their content directly, although we can create new strings from manipulations of the original through various methods and operations. These can contain letters, numbers, special characters, spaces, or a combination of all of them."
   ]
  },
  {
   "cell_type": "markdown",
   "metadata": {
    "lang": "en"
   },
   "source": [
    "### String Methods\n",
    "\n",
    "Methods are actions or functions that an object can perform. Just as Python offers us a number of \"built-in\" functions, it also provides us with a series of pre-created methods. These methods depend on the type of object we are working with, and in the case of strings, they allow us to perform a variety of operations to manipulate and inspect them.\n",
    "\n",
    "In this section, we will explore some of the most commonly used string methods during the bootcamp, using a `sample_string` to demonstrate their functionality. As we progress through the bootcamp, it is essential to become familiar with these methods, as they can significantly ease your coding process.\n",
    "\n",
    "For a more comprehensive view of string methods, feel free to consult the [Python documentation](https://docs.python.org/3/library/stdtypes.html#string-methods). I always use Google :)"
   ]
  },
  {
   "cell_type": "code",
   "execution_count": null,
   "metadata": {},
   "outputs": [],
   "source": [
    "sample_string = \"this is a string\""
   ]
  },
  {
   "cell_type": "markdown",
   "metadata": {},
   "source": [
    "- `capitalize` Returns a copy of the string with its first character in uppercase and the rest in lowercase. It's ideal for when we want a sentence or title to begin with a more formal touch. Let's try it with the example!"
   ]
  },
  {
   "cell_type": "code",
   "execution_count": null,
   "metadata": {},
   "outputs": [],
   "source": [
    "sample_string.capitalize()"
   ]
  },
  {
   "cell_type": "markdown",
   "metadata": {},
   "source": [
    "- `upper` Returns a copy of the string but with all characters in uppercase. It's perfect for emphasizing something strongly or simply to match the formatting of different texts. Let's put it to the test with a string we have here!"
   ]
  },
  {
   "cell_type": "code",
   "execution_count": null,
   "metadata": {},
   "outputs": [],
   "source": [
    "sample_string.upper()"
   ]
  },
  {
   "cell_type": "code",
   "execution_count": null,
   "metadata": {
    "scrolled": true
   },
   "outputs": [],
   "source": [
    "# We can also check if the string is in upper case format (uppercase letters)\n",
    "sample_string.upper().isupper()"
   ]
  },
  {
   "cell_type": "markdown",
   "metadata": {},
   "source": [
    "- `lower` Returns a copy of the string but with all characters in lowercase. This method is great for when we want to maintain uniformity in our text or simply to avoid \"SHOUTING\" in a digital conversation. Let's see how it works with a practical example!"
   ]
  },
  {
   "cell_type": "code",
   "execution_count": null,
   "metadata": {},
   "outputs": [],
   "source": [
    "sample_string.lower()"
   ]
  },
  {
   "cell_type": "code",
   "execution_count": null,
   "metadata": {
    "scrolled": false
   },
   "outputs": [],
   "source": [
    "sample_string.lower().islower()"
   ]
  },
  {
   "cell_type": "markdown",
   "metadata": {},
   "source": [
    "- `swapcase` This method is like swapping clothes at a costume party: it converts all uppercase characters to lowercase and vice versa in the string. It's especially useful if we want to quickly reverse the capitalization of a text string. Let's try it with an example!"
   ]
  },
  {
   "cell_type": "code",
   "execution_count": null,
   "metadata": {},
   "outputs": [],
   "source": [
    "sample_string.swapcase()"
   ]
  },
  {
   "cell_type": "markdown",
   "metadata": {},
   "source": [
    "- `title` This method returns a version of the string where each word starts with an uppercase character, and the rest of the characters are in lowercase. It's as if it turns the string into a book or movie title, giving it a more formal and polished look. Let's see how it works with a practical example!"
   ]
  },
  {
   "cell_type": "code",
   "execution_count": null,
   "metadata": {},
   "outputs": [],
   "source": [
    "sample_string.title()"
   ]
  },
  {
   "cell_type": "markdown",
   "metadata": {},
   "source": [
    "- `join(iterable)` This method returns a string that is the concatenation of the strings in the iterable. It's worth noting that a TypeError will be raised if there are non-string values in the iterable, including bytes objects. The separator between the elements is the string provided by this method. It's an effective way to join multiple strings into one, using a specific separator that the string itself defines. Let's see how we can use it with some examples!"
   ]
  },
  {
   "cell_type": "code",
   "execution_count": null,
   "metadata": {},
   "outputs": [],
   "source": [
    "# New example\n",
    "list_of_strings = [\"Santi\", \"Clara\", \"Laura\", \"Albert\"]\n",
    "\" 🥸 \".join(list_of_strings)"
   ]
  },
  {
   "cell_type": "markdown",
   "metadata": {},
   "source": [
    "- `startswith` This method returns `True` if the string starts with the specified prefix; otherwise, it returns `False`. It's interesting to note that the prefix can also be a tuple of prefixes to look for. Moreover, it has two optional parameters: `start`, which allows specifying from which position in the string to start checking, and `end`, which indicates where to stop the check. Let's see some examples to better understand how it works:"
   ]
  },
  {
   "cell_type": "code",
   "execution_count": null,
   "metadata": {},
   "outputs": [],
   "source": [
    "number = \"3434567\""
   ]
  },
  {
   "cell_type": "code",
   "execution_count": null,
   "metadata": {},
   "outputs": [],
   "source": [
    "number.startswith(\"+\")"
   ]
  },
  {
   "cell_type": "code",
   "execution_count": null,
   "metadata": {},
   "outputs": [],
   "source": [
    "number.startswith(\"34\")"
   ]
  },
  {
   "cell_type": "markdown",
   "metadata": {},
   "source": [
    "- `endswith` This method works similarly to the `startswith` method, but in this case, it checks if the string ends with the specified suffix. If so, it returns `True`; otherwise, it returns `False`. Like `startswith`, this method allows specifying the optional parameters `start` and `end` to define the range of the string to perform the check. Below, we present some examples to illustrate how it works:"
   ]
  },
  {
   "cell_type": "code",
   "execution_count": null,
   "metadata": {},
   "outputs": [],
   "source": [
    "number.endswith(\"67\")"
   ]
  },
  {
   "cell_type": "markdown",
   "metadata": {},
   "source": [
    "- `str.lstrip([chars])` This method returns a copy of the original string but without the characters specified in the `chars` argument found at the beginning of it. If no argument is specified (that is, it's omitted or none is present), whitespace will be removed by default. It's important to note that the `chars` argument does not act as a prefix; instead, it removes all possible combinations of the values found within it. Here we show you some examples to better understand how this method works:"
   ]
  },
  {
   "cell_type": "code",
   "execution_count": null,
   "metadata": {},
   "outputs": [],
   "source": [
    "# We define a string with some spaces and characters at the beginning\n",
    "original_string = \"   ##This is an example.\"\n",
    "\n",
    "# We use the lstrip method to remove the white spaces at the beginning\n",
    "modified_string = original_string.lstrip()\n",
    "print(modified_string)\n",
    "# Output: \"##This is an example.\""
   ]
  },
  {
   "cell_type": "code",
   "execution_count": null,
   "metadata": {},
   "outputs": [],
   "source": [
    "# We can also use lstrip to remove other characters by specifying an argument\n",
    "modified_string2 = original_string.lstrip(\" #\")\n",
    "print(modified_string2)\n",
    "# Output: \"This is an example.\""
   ]
  },
  {
   "cell_type": "markdown",
   "metadata": {},
   "source": [
    "- `lstrip` The `lstrip` method in Python is used to remove unwanted characters found at the beginning of a string. You can use it in two ways: without arguments, which will remove all white spaces at the beginning of the string; or with a specific set of characters as an argument (indicated in parentheses), which will remove all instances of those characters found at the beginning of the string.\n",
    "\n",
    "- `rstrip` Similarly, the `rstrip` method is used to remove characters at the end of a string. It works in the same way as `lstrip`, but affects the end of the string instead of the beginning. If no set of characters is specified, it will remove all white spaces found at the end of the string.\n",
    "\n",
    "- `replace` The `replace` method is used to replace all occurrences of a specific substring (`old`) with a new substring (`new`). You can use it in two ways: without the optional `count` argument, which will replace all occurrences found in the string; or by specifying the `count` argument, which will limit the number of replacements to the amount indicated. This method returns a copy of the original string with the substitutions made, leaving the original string intact."
   ]
  },
  {
   "cell_type": "code",
   "execution_count": null,
   "metadata": {},
   "outputs": [],
   "source": [
    "original_string.replace(\"#\", \"\")"
   ]
  },
  {
   "cell_type": "markdown",
   "metadata": {},
   "source": [
    "- `split` The `split` method is used to divide a string into a list of words based on a specified delimiter (the `sep` parameter). If no delimiter is specified (or is set to `None`), whitespace (spaces, tabs, new lines, etc.) will be used as the default delimiter. This method is especially useful when you want to break down a string into smaller components to perform additional operations or analysis on each individual fragment."
   ]
  },
  {
   "cell_type": "code",
   "execution_count": null,
   "metadata": {},
   "outputs": [],
   "source": [
    "sentence = \"Hello my name is Santo\"\n",
    "sentence.split(\" \")"
   ]
  },
  {
   "cell_type": "code",
   "execution_count": null,
   "metadata": {},
   "outputs": [],
   "source": [
    "sentence.split(\"e\")"
   ]
  },
  {
   "cell_type": "markdown",
   "metadata": {
    "lang": "en"
   },
   "source": [
    "## Data Structures\n",
    "\n",
    "In Python, we have four main structures for storing collections of data, each with its own characteristics and utilities. These structures make it easier for us to organize and manipulate data more efficiently. Below, we present the four fundamental data structures in Python:\n",
    "\n",
    "- **Lists**: Ordered and modifiable collections that can store a variety of data types, including other lists. **we use -> []**\n",
    "- **Tuples**: Ordered and immutable collections, similar to lists, but cannot be modified once created. **we use -> ()**\n",
    "- **Sets**: Unordered and index-less collections that do not allow duplicate elements, making them ideal for storing unique sets of data. **we use -> {}**\n",
    "- **Dictionaries**: Unordered, modifiable, and indexed collections, where data is stored in key-value pairs, making it easier to organize and retrieve complex information. **we use -> {key:values, key2:value2}**\n",
    "\n",
    "Throughout this section, we will explore each of these data structures in detail, discovering how they can help us work with data more effectively in Python.\n",
    "\n",
    "### Lists\n",
    "Lists in Python are data structures that can contain different types of data, from numbers to strings of text, and even other lists. This makes them extremely versatile and useful tools in programming. The elements in a list are ordered and have a specific index, allowing us to access, modify, add, or remove elements easily. Below, we present several examples of lists along with the syntax for accessing the data within them."
   ]
  },
  {
   "cell_type": "code",
   "execution_count": null,
   "metadata": {},
   "outputs": [],
   "source": [
    "# 1. List of Integers\n",
    "numbers = [1, 2, 3, 4, 5]\n",
    "\n",
    "# 2. List of Text Strings (strings)\n",
    "fruits = [\"apple\", \"banana\", \"cherry\"]\n",
    "\n",
    "# 3. Mixed List (containing different types of data)\n",
    "mixed = [1, \"Hello\", 3.14, True]\n",
    "\n",
    "# 4. Nested List (a list within another list)\n",
    "nested = [[1, 2, 3], [\"a\", \"b\", \"c\"]]"
   ]
  },
  {
   "cell_type": "code",
   "execution_count": null,
   "metadata": {},
   "outputs": [],
   "source": [
    "# Accessing Data Within a List\n",
    "# Accessing the first element of the list of numbers\n",
    "numbers[0]"
   ]
  },
  {
   "cell_type": "code",
   "execution_count": null,
   "metadata": {},
   "outputs": [],
   "source": [
    "# Accessing the Last Element of the Fruit List\n",
    "fruits[-1]"
   ]
  },
  {
   "cell_type": "code",
   "execution_count": null,
   "metadata": {},
   "outputs": [],
   "source": [
    "# Accessing an Element from a List Within Another List (Nested List)\n",
    "nested[1][2]"
   ]
  },
  {
   "cell_type": "code",
   "execution_count": null,
   "metadata": {},
   "outputs": [],
   "source": [
    "# To Find Out the Size of a List\n",
    "len(mixed)"
   ]
  },
  {
   "cell_type": "markdown",
   "metadata": {
    "lang": "en"
   },
   "source": [
    "#### List Methods\n",
    "\n",
    "Below, we describe some of the most common methods you can use to manipulate lists. Additionally, we invite you to consult the [official documentation](https://docs.python.org/3/tutorial/datastructures.html) for a complete guide to all the available methods.\n",
    "\n",
    "There are several methods that facilitate the management of lists; here are some of the most used ones:"
   ]
  },
  {
   "cell_type": "markdown",
   "metadata": {},
   "source": [
    "- `append()`: Adds an element to the end of the list."
   ]
  },
  {
   "cell_type": "code",
   "execution_count": null,
   "metadata": {},
   "outputs": [],
   "source": [
    "# 1. append()\n",
    "list0 = []\n",
    "list0.append('A')\n",
    "print(list0) "
   ]
  },
  {
   "cell_type": "markdown",
   "metadata": {},
   "source": [
    "- `extend()`: Extends the list by adding all elements of the given list."
   ]
  },
  {
   "cell_type": "code",
   "execution_count": null,
   "metadata": {},
   "outputs": [],
   "source": [
    "# 2. extend()\n",
    "list1 = [1, 2, 3]\n",
    "list2 = [4, 5, 6]\n",
    "list1.extend(list2)\n",
    "print(lista1) "
   ]
  },
  {
   "cell_type": "markdown",
   "metadata": {},
   "source": [
    "- `insert()`: Inserts an element into the list at the specified index."
   ]
  },
  {
   "cell_type": "code",
   "execution_count": null,
   "metadata": {},
   "outputs": [],
   "source": [
    "# 3. insert()\n",
    "list0 = [1, 2, 3]\n",
    "list0.insert(1, 'B')\n",
    "print(list0)"
   ]
  },
  {
   "cell_type": "markdown",
   "metadata": {},
   "source": [
    "- `remove()`: Removes the first element from the list whose value is equal to the specified value."
   ]
  },
  {
   "cell_type": "code",
   "execution_count": null,
   "metadata": {},
   "outputs": [],
   "source": [
    "# 4. remove()\n",
    "list0 = [1, 2, 3, 2]\n",
    "list0.remove(2)\n",
    "print(list0) "
   ]
  },
  {
   "cell_type": "markdown",
   "metadata": {},
   "source": [
    "- `pop()`: Removes the element at the given position in the list, and returns it."
   ]
  },
  {
   "cell_type": "code",
   "execution_count": null,
   "metadata": {},
   "outputs": [],
   "source": [
    "# 5. pop()\n",
    "list0 = [1, 2, 3]\n",
    "list0.pop(1)\n",
    "print(list0)"
   ]
  },
  {
   "cell_type": "markdown",
   "metadata": {},
   "source": [
    "- `clear()`: Removes all items from the list."
   ]
  },
  {
   "cell_type": "code",
   "execution_count": null,
   "metadata": {},
   "outputs": [],
   "source": [
    "# 6. clear()\n",
    "list0 = [1, 2, 3]\n",
    "list0.clear()\n",
    "print(list0)"
   ]
  },
  {
   "cell_type": "markdown",
   "metadata": {},
   "source": [
    "- `index()`: Returns the index of the first item with the specified value."
   ]
  },
  {
   "cell_type": "code",
   "execution_count": null,
   "metadata": {},
   "outputs": [],
   "source": [
    "# 7. index()\n",
    "list0 = [1, 2, 3, 2]\n",
    "print(list0.index(2))"
   ]
  },
  {
   "cell_type": "markdown",
   "metadata": {},
   "source": [
    "- `count()`: Returns the number of times the specified value appears in the list."
   ]
  },
  {
   "cell_type": "code",
   "execution_count": null,
   "metadata": {},
   "outputs": [],
   "source": [
    "# 8. count()\n",
    "list0 = [1, 2, 3, 2]\n",
    "print(list0.count(2))"
   ]
  },
  {
   "cell_type": "markdown",
   "metadata": {},
   "source": [
    "- `sort()`: Sorts the items of the list."
   ]
  },
  {
   "cell_type": "code",
   "execution_count": null,
   "metadata": {},
   "outputs": [],
   "source": [
    "# 9. sort()\n",
    "list0 = [3, 1, 2]\n",
    "list0.sort()\n",
    "print(list0)"
   ]
  },
  {
   "cell_type": "markdown",
   "metadata": {},
   "source": [
    "- `reverse()`: Reverses the order of the list items."
   ]
  },
  {
   "cell_type": "code",
   "execution_count": null,
   "metadata": {},
   "outputs": [],
   "source": [
    "# 10. reverse()\n",
    "list0 = [1, 2, 3]\n",
    "list0.reverse()\n",
    "print(list0)"
   ]
  },
  {
   "cell_type": "markdown",
   "metadata": {},
   "source": [
    "- `copy()`: Returns a copy of the list."
   ]
  },
  {
   "cell_type": "code",
   "execution_count": null,
   "metadata": {},
   "outputs": [],
   "source": [
    "# 11. copy()\n",
    "list1 = [1, 2, 3]\n",
    "list2 = list1.copy()\n",
    "print(list2) "
   ]
  },
  {
   "cell_type": "markdown",
   "metadata": {},
   "source": [
    "**Slicing and Start, Stop, Step in Lists**\n",
    "\n",
    "\"Slicing\" is not a method per se, but it allows us to play with the elements of the lists and their positions. Essentially, it enables us to select a \"slice\" of the list using three parameters: start, stop, and step. The syntax for this is `list[start:stop:step]`, where:\n",
    "\n",
    "- **start**: represents the index of the first element we want to include in our selection. It's important to remember that indices in Python start at 0.\n",
    "- **stop**: represents the index of the first element we do NOT want to include in our selection. The selection will include elements up to `stop`-1.\n",
    "- **step**: defines the increment between the selected indices. If omitted, the default value will be 1, meaning that all elements from `start` to `stop`-1 will be selected.\n",
    "\n",
    "Below, we'll see practical examples of how to use these parameters to select different segments of a list in Python."
   ]
  },
  {
   "cell_type": "code",
   "execution_count": null,
   "metadata": {},
   "outputs": [],
   "source": [
    "names = [\"Ana\", \"Beto\", \"Carla\", \"David\", \"Elena\", \"Fernando\"]\n",
    "\n",
    "# Select elements from index 2 to the end\n",
    "print(names[2:])"
   ]
  },
  {
   "cell_type": "code",
   "execution_count": null,
   "metadata": {},
   "outputs": [],
   "source": [
    "# Select elements from index 4 to the end\n",
    "print(names[4:])"
   ]
  },
  {
   "cell_type": "code",
   "execution_count": null,
   "metadata": {},
   "outputs": [],
   "source": [
    "# Reverse the order of the elements in the list\n",
    "print(names[::-1])"
   ]
  },
  {
   "cell_type": "code",
   "execution_count": null,
   "metadata": {
    "scrolled": true
   },
   "outputs": [],
   "source": [
    "number_list = [0, 1, 2, 3, 4, 5, 6, 7, 8, 9, 10]\n",
    "\n",
    "# Select elements from index 0 to 10, skipping 2 elements each time\n",
    "print(number_list[0:10:2])"
   ]
  },
  {
   "cell_type": "markdown",
   "metadata": {},
   "source": [
    "**Exercise: Working with Lists**\n",
    "\n",
    "1. Create a list called `months` that contains the names of all the months of the year.\n",
    "2. Use the `append` method to add an extra element to the list that is \"End of Year\".\n",
    "3. Use the `remove` method to delete this last element you added.\n",
    "4. Using `slicing`, create a new list that contains only the months of the second quarter (April, May, and June).\n",
    "5. Use the `reverse` method to reverse the order of the elements in the original list of months.\n",
    "6. Find the appropriate method to sort the list of months in alphabetical order and apply it.\n",
    "7. Use the `index` method to find the position of your birth month in the list sorted alphabetically.\n",
    "\n",
    "**Extra**:\n",
    "\n",
    "- Create a list of lists, where each sublist contains the months of each quarter.\n",
    "- Use a `for` loop to print each month of each quarter, formatting the output as follows: \"The {month number} month of the year is {month name}\".\n",
    "\n",
    "Remember to check the [Python documentation](https://docs.python.org/3/tutorial/datastructures.html#more-on-lists) or use the `help()` function for details on how to use each of the list methods."
   ]
  },
  {
   "cell_type": "code",
   "execution_count": null,
   "metadata": {},
   "outputs": [],
   "source": [
    "# here your code"
   ]
  },
  {
   "cell_type": "markdown",
   "metadata": {},
   "source": [
    "### Tuples\n",
    "\n",
    "Tuples are a data structure very similar to lists, with the main difference being that they are immutable. This means you cannot change the elements of a tuple once it has been created. Despite this feature, tuples are quite flexible and can store different types of data, including other containers like lists or dictionaries. Like lists, tuples allow indexing and unpacking, thus facilitating access and manipulation of the data contained within them.\n",
    "\n",
    "Tuples are defined using parentheses `()` and the elements are separated by commas. Let's explore some examples and methods associated with tuples."
   ]
  },
  {
   "cell_type": "code",
   "execution_count": null,
   "metadata": {},
   "outputs": [],
   "source": [
    "# Create a tuple\n",
    "mi_tupla = (1, 2, 3, \"Hola\", True)"
   ]
  },
  {
   "cell_type": "code",
   "execution_count": null,
   "metadata": {},
   "outputs": [],
   "source": [
    "# Access the elements of a tuple\n",
    "mi_tupla[0]"
   ]
  },
  {
   "cell_type": "code",
   "execution_count": null,
   "metadata": {},
   "outputs": [],
   "source": [
    "# Acceder last element\n",
    "mi_tupla[-1]"
   ]
  },
  {
   "cell_type": "code",
   "execution_count": null,
   "metadata": {},
   "outputs": [],
   "source": [
    "# Unpacking a Tuple\n",
    "a, b, c, d, e = my_tuple\n",
    "c"
   ]
  },
  {
   "cell_type": "code",
   "execution_count": null,
   "metadata": {},
   "outputs": [],
   "source": [
    "# Methods Available in a Tuple\n",
    "# Count the number of times an element appears\n",
    "my_tuple.count(2)"
   ]
  },
  {
   "cell_type": "code",
   "execution_count": null,
   "metadata": {},
   "outputs": [],
   "source": [
    "# Finding the Index of an Element\n",
    "my_tuple.index(\"Hello\")"
   ]
  },
  {
   "cell_type": "code",
   "execution_count": null,
   "metadata": {},
   "outputs": [],
   "source": [
    "# Trying to Modify an Element of the Tuple (this will generate an error, because tuples are immutable)\n",
    "try:\n",
    "    my_tuple[1] = 10\n",
    "except TypeError as e:\n",
    "    print(f\"Error: {e}\")\n",
    "\n",
    "# Showing that the tuple has not changed\n",
    "print(my_tuple)"
   ]
  },
  {
   "cell_type": "markdown",
   "metadata": {},
   "source": [
    "**Tuple Methods**: Unlike lists, tuples are immutable, meaning we cannot add, modify, or delete elements once the tuple has been defined. However, tuples do come with several methods that can be quite useful. Below are some of them:"
   ]
  },
  {
   "cell_type": "markdown",
   "metadata": {},
   "source": [
    "- `tuple.index(x)`: This method returns the index of the first element equal to x."
   ]
  },
  {
   "cell_type": "code",
   "execution_count": null,
   "metadata": {},
   "outputs": [],
   "source": [
    "# Creating a Tuple\n",
    "my_tuple = (1, 2, 3, 4, 3, 2, 1)\n",
    "\n",
    "# Using the index method\n",
    "index = my_tuple.index(3)\n",
    "print(f\"The index of the first element equal to 3 is: {index}\")"
   ]
  },
  {
   "cell_type": "markdown",
   "metadata": {},
   "source": [
    "- `tuple.count(x)`: This method counts the number of times x appears in the tuple."
   ]
  },
  {
   "cell_type": "code",
   "execution_count": null,
   "metadata": {},
   "outputs": [],
   "source": [
    "# Using the count method\n",
    "count = my_tuple.count(2)\n",
    "print(f\"The number 2 appears {count} times in the tuple\")"
   ]
  },
  {
   "cell_type": "markdown",
   "metadata": {},
   "source": [
    "- `tuple.__len__()`: This method returns the length of the tuple."
   ]
  },
  {
   "cell_type": "code",
   "execution_count": null,
   "metadata": {},
   "outputs": [],
   "source": [
    "# Using the len method to get the length\n",
    "length = len(my_tuple)\n",
    "print(f\"The length of the tuple is: {length}\")"
   ]
  },
  {
   "cell_type": "markdown",
   "metadata": {},
   "source": [
    "- `tuple.__contains__(x)`: This method checks if an element x is present in the tuple."
   ]
  },
  {
   "cell_type": "code",
   "execution_count": null,
   "metadata": {},
   "outputs": [],
   "source": [
    "# Checking if an Element is in the Tuple\n",
    "if 5 in my_tuple:\n",
    "    print(\"The number 5 is in the tuple.\")\n",
    "else:\n",
    "    print(\"The number 5 is not in the tuple.\")"
   ]
  },
  {
   "cell_type": "markdown",
   "metadata": {},
   "source": [
    "- `tuple.__getitem__(i)`: This method allows accessing an item in the tuple by its index i."
   ]
  },
  {
   "cell_type": "code",
   "execution_count": null,
   "metadata": {},
   "outputs": [],
   "source": [
    "# Accessing an Element by Index\n",
    "element = my_tuple[3]\n",
    "print(f\"The element at index 3 is: {element}\")"
   ]
  },
  {
   "cell_type": "markdown",
   "metadata": {},
   "source": [
    "- `tuple.__reversed__()`: This method returns a reversed version of the tuple."
   ]
  },
  {
   "cell_type": "code",
   "execution_count": null,
   "metadata": {},
   "outputs": [],
   "source": [
    "# Getting a Reversed Version of the Tuple\n",
    "reversed_tuple = tuple(reversed(my_tuple))\n",
    "print(f\"Reversed tuple: {reversed_tuple}\")"
   ]
  },
  {
   "cell_type": "markdown",
   "metadata": {},
   "source": [
    "You can learn more about tuple methods in the [official documentation](https://docs.python.org/3/tutorial/datastructures.html#tuples-and-sequences)."
   ]
  },
  {
   "cell_type": "markdown",
   "metadata": {
    "lang": "en"
   },
   "source": [
    "### Sets\n",
    "\n",
    "In Python, a set is an unordered collection of unique elements. Unlike lists and tuples, sets do not allow duplicate elements. Sets are useful when you need to store elements where the order is not important and you want to ensure there are no duplicates.\n",
    "\n",
    "Sets are defined using curly braces `{}` or the `set()` function, and the elements are separated by commas. Throughout this section, we will explore how to work with sets in Python and some of the methods available for them."
   ]
  },
  {
   "cell_type": "code",
   "execution_count": null,
   "metadata": {},
   "outputs": [],
   "source": [
    "# Sets creation\n",
    "mi_set = {1, 2, 3, 4, 5}"
   ]
  },
  {
   "cell_type": "code",
   "execution_count": null,
   "metadata": {},
   "outputs": [],
   "source": [
    "# Print set\n",
    "print(mi_set) "
   ]
  },
  {
   "cell_type": "code",
   "execution_count": null,
   "metadata": {
    "scrolled": true
   },
   "outputs": [],
   "source": [
    "# Sets do not allow duplicates\n",
    "mi_set = {1, 2, 2, 3, 3, 4, 5}\n",
    "print(mi_set)  # output: {1, 2, 3, 4, 5}"
   ]
  },
  {
   "cell_type": "markdown",
   "metadata": {},
   "source": [
    "The `set()` constructor in Python is used to create an empty set or to convert other iterable objects (like lists or tuples) into sets. Here are some examples of how it works:"
   ]
  },
  {
   "cell_type": "code",
   "execution_count": null,
   "metadata": {},
   "outputs": [],
   "source": [
    "# Create empty set with set()\n",
    "conjunto_vacio = set()\n",
    "print(conjunto_vacio)  # output: set()"
   ]
  },
  {
   "cell_type": "code",
   "execution_count": null,
   "metadata": {},
   "outputs": [],
   "source": [
    "# Convert a list to a set\n",
    "mi_lista = [1, 2, 2, 3, 4, 4]\n",
    "mi_conjunto = set(mi_lista)\n",
    "print(mi_conjunto)  # output: {1, 2, 3, 4}"
   ]
  },
  {
   "cell_type": "code",
   "execution_count": null,
   "metadata": {},
   "outputs": [],
   "source": [
    "# Convertir a tuple into set\n",
    "mi_tupla = (1, 2, 3, 3, 4, 5)\n",
    "mi_conjunto = set(mi_tupla)\n",
    "print(mi_conjunto)  # output: {1, 2, 3, 4, 5}"
   ]
  },
  {
   "cell_type": "markdown",
   "metadata": {},
   "source": [
    "**Set Operations in Python**: Sets in Python are not only useful for storing unique elements but also allow for various set operations, such as union, intersection, and difference. These operations are very useful for working with data sets and performing analysis.\n",
    "\n",
    "Below, we will explore three of the most common set operations in Python: union, intersection, and difference. Through practical examples, we will see how to perform these operations and how they can be beneficial in different situations.\n",
    "\n",
    "![sets are venn diagrams](https://mathworld.wolfram.com/images/eps-svg/VennDiagram_900.svg)"
   ]
  },
  {
   "cell_type": "code",
   "execution_count": null,
   "metadata": {},
   "outputs": [],
   "source": [
    "# Set Operations: Union, Intersection, and Difference\n",
    "set1 = {1, 2, 3, 4, 5}\n",
    "set2 = {3, 4, 5, 6, 7}"
   ]
  },
  {
   "cell_type": "code",
   "execution_count": null,
   "metadata": {},
   "outputs": [],
   "source": [
    "# Union\n",
    "union = set1 | set2\n",
    "print(union)"
   ]
  },
  {
   "cell_type": "code",
   "execution_count": null,
   "metadata": {},
   "outputs": [],
   "source": [
    "# intersection\n",
    "intersection = set1 & set2\n",
    "print(intersection)"
   ]
  },
  {
   "cell_type": "code",
   "execution_count": null,
   "metadata": {},
   "outputs": [],
   "source": [
    "# Difference\n",
    "difference = set1 - set2\n",
    "print(diferencia)  # output: {1, 2}"
   ]
  },
  {
   "cell_type": "markdown",
   "metadata": {},
   "source": [
    "**Available Methods for Sets in Python**: In Python, sets are a useful data structure that provides a range of built-in methods for operations and manipulations. Here are some of the most common methods you can use with sets:\n",
    "\n",
    "- `add(element)`: Adds an element to the set."
   ]
  },
  {
   "cell_type": "code",
   "execution_count": null,
   "metadata": {},
   "outputs": [],
   "source": [
    "mi_set = {1, 2, 3}\n",
    "mi_set.add(4)\n",
    "print(mi_set)"
   ]
  },
  {
   "cell_type": "markdown",
   "metadata": {},
   "source": [
    "- `remove(element)`: Removes a specific element from the set. Raises an error if the element is not present."
   ]
  },
  {
   "cell_type": "code",
   "execution_count": null,
   "metadata": {},
   "outputs": [],
   "source": [
    "mi_set = {1, 2, 3}\n",
    "mi_set.remove(2)\n",
    "print(mi_set)"
   ]
  },
  {
   "cell_type": "markdown",
   "metadata": {},
   "source": [
    "- `discard(element)`: Removes an element from the set if it is present, but does not raise an error if the element does not exist."
   ]
  },
  {
   "cell_type": "code",
   "execution_count": null,
   "metadata": {},
   "outputs": [],
   "source": [
    "mi_set = {1, 2, 3}\n",
    "mi_set.discard(4)\n",
    "print(mi_set)"
   ]
  },
  {
   "cell_type": "markdown",
   "metadata": {},
   "source": [
    "- `pop()`: Removes and returns a random element from the set."
   ]
  },
  {
   "cell_type": "code",
   "execution_count": null,
   "metadata": {},
   "outputs": [],
   "source": [
    "mi_set = {1, 2, 3}\n",
    "element = mi_set.pop()\n",
    "print(element)"
   ]
  },
  {
   "cell_type": "markdown",
   "metadata": {},
   "source": [
    "- `clear()`: Removes all elements from the set, leaving it empty."
   ]
  },
  {
   "cell_type": "code",
   "execution_count": null,
   "metadata": {},
   "outputs": [],
   "source": [
    "mi_set = {1, 2, 3}\n",
    "mi_set.clear()\n",
    "print(mi_set)"
   ]
  },
  {
   "cell_type": "markdown",
   "metadata": {},
   "source": [
    "- `union(other_set)`: Returns a new set that is the union of two sets."
   ]
  },
  {
   "cell_type": "code",
   "execution_count": null,
   "metadata": {},
   "outputs": [],
   "source": [
    "set1 = {1, 2, 3}\n",
    "set2 = {3, 4, 5}\n",
    "union = set1.union(set2)\n",
    "print(union)"
   ]
  },
  {
   "cell_type": "markdown",
   "metadata": {},
   "source": [
    "- `intersection(other_set)`: Returns a new set that is the intersection of two sets."
   ]
  },
  {
   "cell_type": "code",
   "execution_count": null,
   "metadata": {},
   "outputs": [],
   "source": [
    "set1 = {1, 2, 3}\n",
    "set2 = {3, 4, 5}\n",
    "interseccion = set1.intersection(set2)\n",
    "print(interseccion)"
   ]
  },
  {
   "cell_type": "markdown",
   "metadata": {},
   "source": [
    "- `difference(other_set)`: Returns a new set that is the difference between two sets."
   ]
  },
  {
   "cell_type": "code",
   "execution_count": null,
   "metadata": {},
   "outputs": [],
   "source": [
    "set1 = {1, 2, 3}\n",
    "set2 = {3, 4, 5}\n",
    "diff = set1.difference(set2)\n",
    "print(diff)"
   ]
  },
  {
   "cell_type": "markdown",
   "metadata": {},
   "source": [
    "- `issubset(other_set)`: Checks if the set is a subset of another set."
   ]
  },
  {
   "cell_type": "code",
   "execution_count": null,
   "metadata": {},
   "outputs": [],
   "source": [
    "set1 = {1, 2}\n",
    "set2 = {1, 2, 3, 4}\n",
    "is_sub = set1.issubset(set2)\n",
    "print(is_sub)"
   ]
  },
  {
   "cell_type": "markdown",
   "metadata": {},
   "source": [
    "- `issuperset(other_set)`: Checks if the set is a superset of another set."
   ]
  },
  {
   "cell_type": "code",
   "execution_count": null,
   "metadata": {},
   "outputs": [],
   "source": [
    "set1 = {1, 2, 3, 4}\n",
    "set2 = {1, 2}\n",
    "is_super = set1.issuperset(set2)\n",
    "print(is_super)  # output: True\n"
   ]
  },
  {
   "cell_type": "markdown",
   "metadata": {},
   "source": [
    "These are just a few of the methods available for working with sets in Python. You can use them to perform a variety of operations and manipulations on your data.\n",
    "### Dictionaries\n",
    "\n",
    "In Python, dictionaries are a data structure that allows storing key-value pairs. Each item in a dictionary consists of a unique key associated with a corresponding value. Dictionaries are extremely flexible and versatile, and are used to represent structured data in the form of a lookup table.\n",
    "\n",
    "In a dictionary:\n",
    "- Keys are unique and cannot be duplicated.\n",
    "- Values can be of any data type, such as integers, strings, lists, or other dictionaries.\n",
    "- Dictionaries are unordered, meaning they do not maintain a specific order of items.\n",
    "\n",
    "Dictionaries are defined using curly braces `{}` and each key-value pair is separated by `:`. For example:"
   ]
  },
  {
   "cell_type": "code",
   "execution_count": null,
   "metadata": {},
   "outputs": [],
   "source": [
    "# Creating a Dictionary\n",
    "student_information = {\n",
    "    \"name\": \"Juan\",\n",
    "    \"age\": 22,\n",
    "    \"subjects\": [\"Math\", \"Science\", \"Language\"],\n",
    "}\n",
    "student_information"
   ]
  },
  {
   "cell_type": "code",
   "execution_count": null,
   "metadata": {},
   "outputs": [],
   "source": [
    "# Accessing Elements in the Dictionary\n",
    "print(student_information[\"name\"])\n",
    "print(student_information[\"subjects\"])"
   ]
  },
  {
   "cell_type": "code",
   "execution_count": null,
   "metadata": {},
   "outputs": [],
   "source": [
    "# Modifying a Value in the Dictionary\n",
    "student_information[\"age\"] = 23\n",
    "student_information"
   ]
  },
  {
   "cell_type": "code",
   "execution_count": null,
   "metadata": {},
   "outputs": [],
   "source": [
    "# Adding a New Key-Value Pair to the Dictionary\n",
    "student_information[\"graduation\"] = 2023\n",
    "student_information"
   ]
  },
  {
   "cell_type": "code",
   "execution_count": null,
   "metadata": {},
   "outputs": [],
   "source": [
    "# Removing a Key-Value Pair from the Dictionary\n",
    "del student_information[\"subjects\"]\n",
    "student_information"
   ]
  },
  {
   "cell_type": "markdown",
   "metadata": {},
   "source": [
    "- The `get()` method is used to obtain the value associated with a specific key in the dictionary. If the key does not exist, it returns an optional default value."
   ]
  },
  {
   "cell_type": "code",
   "execution_count": null,
   "metadata": {
    "scrolled": true
   },
   "outputs": [],
   "source": [
    "dictionary = {'name': 'Ana', 'age': 25}\n",
    "value = dictionary.get('name')\n",
    "print(value)"
   ]
  },
  {
   "cell_type": "markdown",
   "metadata": {},
   "source": [
    "- The `keys()` method returns a view of all the keys present in the dictionary."
   ]
  },
  {
   "cell_type": "code",
   "execution_count": null,
   "metadata": {},
   "outputs": [],
   "source": [
    "diccionario = {'nombre': 'Ana', 'edad': 25}\n",
    "claves = diccionario.keys()\n",
    "print(claves)"
   ]
  },
  {
   "cell_type": "markdown",
   "metadata": {},
   "source": [
    "- The `values()` method returns a view of all the values present in the dictionary."
   ]
  },
  {
   "cell_type": "code",
   "execution_count": null,
   "metadata": {},
   "outputs": [],
   "source": [
    "diccionario = {'nombre': 'Ana', 'edad': 25}\n",
    "valores = diccionario.values()\n",
    "print(valores)"
   ]
  },
  {
   "cell_type": "markdown",
   "metadata": {},
   "source": [
    "- The `items()` method returns a view of all the key-value pairs present in the dictionary."
   ]
  },
  {
   "cell_type": "code",
   "execution_count": null,
   "metadata": {},
   "outputs": [],
   "source": [
    "diccionario = {'nombre': 'Ana', 'edad': 25}\n",
    "items = diccionario.items()\n",
    "print(items)"
   ]
  },
  {
   "cell_type": "markdown",
   "metadata": {},
   "source": [
    "- The `update()` method is used to update the dictionary with the key-value pairs from another dictionary or with specified key-value pairs."
   ]
  },
  {
   "cell_type": "code",
   "execution_count": null,
   "metadata": {},
   "outputs": [],
   "source": [
    "diccionario = {'nombre': 'Ana', 'edad': 25}\n",
    "diccionario.update({'edad': 26})\n",
    "print(diccionario)"
   ]
  },
  {
   "cell_type": "markdown",
   "metadata": {},
   "source": [
    "You can read more about these and other dictionary methods in the [official Python documentation](https://docs.python.org/3/library/stdtypes.html#dict).\n",
    "\n",
    "## Comparison of Data Structures in Python\n",
    "\n",
    "In Python, you have various data structures available for storing and manipulating information. Below, we'll compare lists, tuples, sets, and dictionaries, highlighting their differences and when it's appropriate to use each one:\n",
    "\n",
    "### Lists:\n",
    "- **Usage**: Use a list when you need an ordered and mutable collection of elements.\n",
    "- **Syntax**: They are defined with square brackets `[]`.\n",
    "- **Main Features**:\n",
    "  - Can contain elements of different types.\n",
    "  - Elements can be changed (mutable).\n",
    "  - Elements are accessed by index.\n",
    "  - Can contain duplicates.\n",
    "\n",
    "### Tuples:\n",
    "- **Usage**: Use a tuple when you need an ordered and immutable collection of elements.\n",
    "- **Syntax**: They are defined with parentheses `()`.\n",
    "- **Main Features**:\n",
    "  - Can contain elements of different types.\n",
    "  - Elements cannot be changed (immutable).\n",
    "  - Elements are accessed by index.\n",
    "  - Can contain duplicates.\n",
    "\n",
    "### Sets:\n",
    "- **Usage**: Use a set when you need an unordered collection of unique elements.\n",
    "- **Syntax**: They are defined with curly braces `{}`.\n",
    "- **Main Features**:\n",
    "  - Contain unique elements (no duplicates).\n",
    "  - Not indexable or ordered.\n",
    "  - Useful for performing set operations like union and intersection.\n",
    "\n",
    "### Dictionaries:\n",
    "- **Usage**: Use a dictionary when you need a collection of key-value pairs.\n",
    "- **Syntax**: They are defined with curly braces `{}` and each key-value pair is separated by `:`. Example: `{\"key\": value}`.\n",
    "- **Main Features**:\n",
    "  - Store data in key-value pairs.\n",
    "  - Keys are unique and cannot be duplicated.\n",
    "  - Values can be of any type.\n",
    "  - Efficient for key-based lookups.\n",
    "\n",
    "## Final Exercise\n",
    "\n",
    "You're going to create a program that simulates a simple inventory system for a store. You should use variables, data types, basic operations, lists, tuples, sets, dictionaries, string methods, and set operations to develop this program. Here are the specific tasks you need to"
   ]
  },
  {
   "cell_type": "code",
   "execution_count": null,
   "metadata": {},
   "outputs": [],
   "source": [
    "# Ejemplo\n",
    "inventario = {\n",
    "    \"Product A\": (30, 20.50),\n",
    "    \"Product B\": (20, 30.00)\n",
    "}"
   ]
  },
  {
   "cell_type": "markdown",
   "metadata": {},
   "source": [
    "- **Step 2**: Use the input() function to request the user to enter the name of a product, the quantity of units sold, and the sale price. Use a string method for the input().\n",
    "\n",
    "- **Step 3:** Use basic operations to update the inventory after a sale, and calculate the total revenue generated by the sale.\n",
    "\n",
    "- **Step 4:** Use string methods to format and display a sales receipt that includes the product name, the quantity sold, the unit price, and the total sale.\n",
    "\n",
    "- **Step 5:** Create a list that contains the names of all the products in the inventory and use set operations to identify any new product that was not previously in the inventory.\n",
    "\n",
    "**Additional Instructions**:\n",
    "\n",
    "- Use comments to clearly document your code.\n",
    "- Ensure your program can handle multiple data types (such as strings and numbers) and implements type conversions when necessary.\n",
    "- Try to incorporate at least one example of each of the string methods mentioned in the summary section."
   ]
  },
  {
   "cell_type": "code",
   "execution_count": null,
   "metadata": {},
   "outputs": [],
   "source": [
    "# your code here"
   ]
  },
  {
   "cell_type": "code",
   "execution_count": null,
   "metadata": {},
   "outputs": [],
   "source": [
    "# STEP 1: Create a dictionary representing the initial store inventory\n",
    "# Each key is a product name and each value is a list containing the \n",
    "# number of units available and the price per unit.\n",
    "inventory = {\n",
    "    \"Product A\": [30, 20.50],\n",
    "    \"Product B\": [20, 30.00]\n",
    "}\n",
    "\n",
    "# STEP 2: Ask the user to enter the sale details\n",
    "# We use the title() method to ensure the first letter of each word in the product name is capitalized.\n",
    "product_name = input(\"Please enter the product name: \").title()\n",
    "# We convert the input for the number of units sold to an integer.\n",
    "units_sold = int(input(\"Please enter the number of units sold: \"))\n",
    "\n",
    "\n",
    "# STEP 3: Update the inventory after a sale and calculate the revenue generated by the sale\n",
    "# We obtain the unit price of the product from the inventory.\n",
    "sale_price = inventory[product_name][1]\n",
    "\n",
    "# We adjust the number of units available.\n",
    "inventory[product_name][0] = inventory[product_name][0] - units_sold\n",
    "\n",
    "# We calculate the total revenue generated by the sale.\n",
    "generated_revenue = units_sold * sale_price\n",
    "\n",
    "# STEP 4: Format and display a sale receipt\n",
    "# We create a formatted receipt with the sale details.\n",
    "receipt = f\"\"\"\n",
    "Sales Receipt\n",
    "Product: {product_name}\n",
    "Units Sold: {units_sold}\n",
    "Unit Price: €{sale_price:.2f}\n",
    "Total Sale: €{generated_revenue:.2f}\n",
    "\"\"\"\n",
    "\n",
    "# We display the receipt.\n",
    "print(receipt)\n",
    "\n",
    "# STEP 5: Create a list with the names of all the products in the inventory and identify new products\n",
    "# We create a list with the names of all the products in the inventory.\n",
    "product_list = list(inventory.keys())\n",
    "\n",
    "# We display the updated inventory.\n",
    "print(\"Updated Inventory:\", inventory)"
   ]
  },
  {
   "cell_type": "markdown",
   "metadata": {
    "lang": "en"
   },
   "source": [
    "## Summary\n",
    "\n",
    "In this Jupyter notebook, we have explored fundamental Python concepts for beginners. Here's a summary of what we've learned:\n",
    "\n",
    "#### Variables and Data Types\n",
    "- We learned how to declare variables and explored data types like integers, floats, strings, and booleans.\n",
    "- We understood implicit and explicit type conversions.\n",
    "\n",
    "#### Basic Operations\n",
    "- We performed basic arithmetic operations such as addition, subtraction, multiplication, division, and modulo.\n",
    "- We understood the difference between normal division and integer division.\n",
    "\n",
    "#### Data Input and Output\n",
    "- We used `input()` to receive data from the user and `print()` to display information on the console.\n",
    "\n",
    "#### Lists, Tuples, and Sets\n",
    "- We explored lists, tuples, and sets as data structures to store collections of elements.\n",
    "- We learned to access elements within these structures and to perform common operations.\n",
    "\n",
    "#### Dictionaries\n",
    "- We introduced dictionaries as key-value data structures and how to use them to store and retrieve related information.\n",
    "\n",
    "#### Set Operations\n",
    "- We learned about set operations like union, intersection, and difference.\n",
    "\n",
    "#### String Methods\n",
    "- We explored various methods to manipulate text strings, including `capitalize()`, `upper()`, `lower()`, `swapcase()`, `title()`, `join()`, `startswith()`, `endswith()`, `lstrip()`, `rstrip()`, `replace()`, and `split()`.\n",
    "\n",
    "This notebook provides a solid foundation for Python beginners and will serve as a useful reference as you continue learning and working with the language."
   ]
  }
 ],
 "metadata": {
  "kernelspec": {
   "display_name": "Python 3 (ipykernel)",
   "language": "python",
   "name": "python3"
  },
  "language_info": {
   "codemirror_mode": {
    "name": "ipython",
    "version": 3
   },
   "file_extension": ".py",
   "mimetype": "text/x-python",
   "name": "python",
   "nbconvert_exporter": "python",
   "pygments_lexer": "ipython3",
   "version": "3.9.13"
  },
  "nbTranslate": {
   "displayLangs": [
    "en",
    "es"
   ],
   "hotkey": "alt-a",
   "langInMainMenu": true,
   "sourceLang": "es",
   "targetLang": "en",
   "useGoogleTranslate": true
  },
  "toc": {
   "base_numbering": 1,
   "nav_menu": {},
   "number_sections": true,
   "sideBar": true,
   "skip_h1_title": true,
   "title_cell": "Table of Contents",
   "title_sidebar": "Contents",
   "toc_cell": true,
   "toc_position": {
    "height": "calc(100% - 180px)",
    "left": "10px",
    "top": "150px",
    "width": "222.891px"
   },
   "toc_section_display": true,
   "toc_window_display": false
  },
  "varInspector": {
   "cols": {
    "lenName": 16,
    "lenType": 16,
    "lenVar": 40
   },
   "kernels_config": {
    "python": {
     "delete_cmd_postfix": "",
     "delete_cmd_prefix": "del ",
     "library": "var_list.py",
     "varRefreshCmd": "print(var_dic_list())"
    },
    "r": {
     "delete_cmd_postfix": ") ",
     "delete_cmd_prefix": "rm(",
     "library": "var_list.r",
     "varRefreshCmd": "cat(var_dic_list()) "
    }
   },
   "types_to_exclude": [
    "module",
    "function",
    "builtin_function_or_method",
    "instance",
    "_Feature"
   ],
   "window_display": false
  }
 },
 "nbformat": 4,
 "nbformat_minor": 4
}
