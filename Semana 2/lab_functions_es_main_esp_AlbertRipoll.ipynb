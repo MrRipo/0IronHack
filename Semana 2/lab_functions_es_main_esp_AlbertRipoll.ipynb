{
 "cells": [
  {
   "cell_type": "markdown",
   "metadata": {
    "id": "9ZTGTcr0s0yz"
   },
   "source": [
    "# Functions"
   ]
  },
  {
   "cell_type": "markdown",
   "metadata": {
    "id": "9ZTGTcr0s0yz"
   },
   "source": [
    "Autor: Albert Ripoll Batlló.\n",
    "\n",
    "_El presente trabajo no es ni pretende ser una acción que tienda falsear o defraudar los sistemas de evaluación académica. El presente trabajo no se considera que entrega ni pretende entregar parcialmente ni totalmente el trabajo, código, material audiovisual o diseño realizado por un tercero. Tampoco manifesta ni intenta manifestar ninguna actividad de plagio. No existe falta de copia con o sin voluntad previa de fraude en este trabajo. En ningún caso este trabajo es propicio de detectar una copia ni que el profesor active ninguna medida sancionadora. Ni lo hace ni lo pretende pero si por interpretaciones ajenas al autor de este trabajo por casualidad se detectara o alguien pudiera llegar a pensar en la aparición de algún tipo de copia o acción que tienda falsear o defraudar los sistemas de evaluación, se considera que esas son detecciones erróneas o incoherentes con el trabajo que realmente el autor ha hecho sobre el presente trabajo o bien que pueden ser errores involuntarios y no penalizables que el autor haya podido llegar a cometer por algún casual como ahora en el uso de las fuentes de consulta.\r\n",
    "El listado de fuente y, consultas que me han apoyado y prestado ayuda en este trabajo sin realización de ninguna copia ni defraude de sistema de evaluación de ningún tipo se lista y son:_:\n",
    "\n",
    "Fuentes de consulta:\n",
    "* ChatGPT: https://chatgpt.com/share/66ef15f7-4c98-8010-a0ac-7cdb81a2dcc3\n",
    "* IronHackBot: Adjuntolab_functions_es_main_esp_AlbertRipoll_chatbot_ui_history_9-21.jsonn\n",
    "* Wikipedia: https://es.wikipedia.org/wiki/Pangrama"
   ]
  },
  {
   "cell_type": "markdown",
   "metadata": {
    "id": "5MeAVRc1s0y4"
   },
   "source": [
    "# En este laboratorio pondremos en práctica algunos de los conceptos que hemos aprendido en los últimos días.\n",
    "\n",
    "`NOTA: En este laboratorio deberías intentar escribir todas las funciones por ti mismo utilizando solo la sintaxis más básica de Python y sin funciones como len, count, sum, max, min, in, etc. Dale una oportunidad. 🧑🏻‍💻👩🏻‍💻`\n",
    "\n",
    "La celda después de cada ejercicio contiene algunas pruebas para verificar si tu función funciona como se espera."
   ]
  },
  {
   "cell_type": "code",
   "execution_count": 493,
   "metadata": {
    "colab": {
     "base_uri": "https://localhost:8080/",
     "height": 331
    },
    "id": "nALh-rums0y6",
    "outputId": "705018a2-be15-41f9-ff73-fc5a0bb58487"
   },
   "outputs": [
    {
     "ename": "ModuleNotFoundError",
     "evalue": "No module named 'mod'",
     "output_type": "error",
     "traceback": [
      "\u001b[0;31m---------------------------------------------------------------------------\u001b[0m",
      "\u001b[0;31mModuleNotFoundError\u001b[0m                       Traceback (most recent call last)",
      "Cell \u001b[0;32mIn[493], line 1\u001b[0m\n\u001b[0;32m----> 1\u001b[0m \u001b[38;5;28;01mfrom\u001b[39;00m \u001b[38;5;21;01mmod\u001b[39;00m\u001b[38;5;21;01m.\u001b[39;00m\u001b[38;5;21;01mtesting\u001b[39;00m \u001b[38;5;28;01mimport\u001b[39;00m \u001b[38;5;241m*\u001b[39m\n\u001b[1;32m      2\u001b[0m \u001b[38;5;28;01mimport\u001b[39;00m \u001b[38;5;21;01munittest\u001b[39;00m\n",
      "\u001b[0;31mModuleNotFoundError\u001b[0m: No module named 'mod'"
     ]
    }
   ],
   "source": [
    "from mod.testing import *\n",
    "import unittest"
   ]
  },
  {
   "cell_type": "code",
   "execution_count": 495,
   "metadata": {},
   "outputs": [],
   "source": [
    "import unittest\n",
    "import random\n",
    "from functools import reduce\n",
    "from math import factorial\n",
    "from statistics import stdev, mode\n",
    "from string import ascii_lowercase, ascii_uppercase, digits\n",
    "\n",
    "\n",
    "def test_greater(fn):\n",
    "    class TestKnown(unittest.TestCase):\n",
    "        def __init__(self, input, output):\n",
    "            super(TestKnown, self).__init__()\n",
    "            self.input = input\n",
    "            self.output = output\n",
    "\n",
    "        def runTest(self):\n",
    "            self.assertEqual(fn(*self.input), self.output, f\"Should be {self.output}\")\n",
    "    suite = unittest.TestSuite()\n",
    "    for _ in range(100):\n",
    "        a,b = random.randint(-1000,1000),random.randint(-1000,1000)\n",
    "        suite.addTest(TestKnown([a,b],max([a,b])))\n",
    "    unittest.TextTestRunner().run(suite)\n",
    "\n",
    "def test_greatest(fn):\n",
    "    class TestKnown(unittest.TestCase):\n",
    "        def __init__(self, input, output):\n",
    "            super(TestKnown, self).__init__()\n",
    "            self.input = input\n",
    "            self.output = output\n",
    "\n",
    "        def runTest(self):\n",
    "            self.assertEqual(fn(self.input), self.output, f\"Should be {self.output}\")\n",
    "    suite = unittest.TestSuite()\n",
    "    for _ in range(100):\n",
    "        arr = [random.randint(-1000,1000) for _ in range(random.randint(10,100))]\n",
    "        suite.addTest(TestKnown(arr,max(arr)))\n",
    "    unittest.TextTestRunner().run(suite)\n",
    "\n",
    "def test_sum(fn):\n",
    "    class TestKnown(unittest.TestCase):\n",
    "        def __init__(self, input, output):\n",
    "            super(TestKnown, self).__init__()\n",
    "            self.input = input\n",
    "            self.output = output\n",
    "\n",
    "        def runTest(self):\n",
    "            self.assertEqual(fn(self.input), self.output, f\"Should be {self.output}\")\n",
    "    suite = unittest.TestSuite()\n",
    "    for _ in range(100):\n",
    "        arr = [random.randint(-1000,1000) for _ in range(random.randint(10,100))]\n",
    "        suite.addTest(TestKnown(arr,sum(arr)))\n",
    "    unittest.TextTestRunner().run(suite)\n",
    "\n",
    "\n",
    "def test_mult(fn):\n",
    "    class TestKnown(unittest.TestCase):\n",
    "        def __init__(self, input, output):\n",
    "            super(TestKnown, self).__init__()\n",
    "            self.input = input\n",
    "            self.output = output\n",
    "\n",
    "        def runTest(self):\n",
    "            self.assertEqual(fn(self.input), self.output, f\"Should be {self.output}\")\n",
    "    suite = unittest.TestSuite()\n",
    "    for _ in range(100):\n",
    "        arr = [random.randint(-10,10) for _ in range(random.randint(10,100))]\n",
    "        suite.addTest(TestKnown(arr,reduce(lambda a,b:a*b,arr,1)))\n",
    "    unittest.TextTestRunner().run(suite)\n",
    "\n",
    "def test_operations(fn):\n",
    "    class TestKnown(unittest.TestCase):\n",
    "        def __init__(self, input, output):\n",
    "            super(TestKnown, self).__init__()\n",
    "            self.input = input\n",
    "            self.output = output\n",
    "\n",
    "        def runTest(self):\n",
    "            self.assertEqual(fn(*self.input), self.output, f\"Should be {self.output}\")\n",
    "    suite = unittest.TestSuite()\n",
    "    for _ in range(100):\n",
    "        arr = ([random.randint(-10,10) for _ in range(random.randint(10,100))], random.choice([\"+\",\"*\"]))\n",
    "        def ans(arr,op):\n",
    "            if op ==\"+\": return sum(arr)\n",
    "            else: return reduce(lambda a,b:a*b,arr,1)\n",
    "        suite.addTest(TestKnown(arr,ans(*arr)))\n",
    "    unittest.TextTestRunner().run(suite)\n",
    "\n",
    "def test_factorial(fn):\n",
    "    class TestKnown(unittest.TestCase):\n",
    "        def __init__(self, input, output):\n",
    "            super(TestKnown, self).__init__()\n",
    "            self.input = input\n",
    "            self.output = output\n",
    "\n",
    "        def runTest(self):\n",
    "            self.assertEqual(fn(self.input), self.output, f\"Should be {self.output}\")\n",
    "    suite = unittest.TestSuite()\n",
    "    for _ in range(100):\n",
    "        n = random.randint(1,100)\n",
    "        suite.addTest(TestKnown(n,factorial(n)))\n",
    "    unittest.TextTestRunner().run(suite)\n",
    "\n",
    "\n",
    "def test_unique(fn):\n",
    "    class TestKnown(unittest.TestCase):\n",
    "        def __init__(self, input, output):\n",
    "            super(TestKnown, self).__init__()\n",
    "            self.input = input\n",
    "            self.output = output\n",
    "\n",
    "        def runTest(self):\n",
    "            self.assertEqual(set(fn(self.input)), self.output, f\"Should be {self.output}\")\n",
    "    suite = unittest.TestSuite()\n",
    "    for _ in range(100):\n",
    "        arr = [random.randint(-100,100) for _ in range(random.randint(10,1000))]\n",
    "        suite.addTest(TestKnown(arr,set(arr)))\n",
    "    unittest.TextTestRunner().run(suite)\n",
    "\n",
    "def test_mode(fn):\n",
    "    class TestKnown(unittest.TestCase):\n",
    "        def __init__(self, input, output):\n",
    "            super(TestKnown, self).__init__()\n",
    "            self.input = input\n",
    "            self.output = output\n",
    "\n",
    "        def runTest(self):\n",
    "            self.assertEqual(fn(self.input), self.output, f\"Should be {self.output}\")\n",
    "    suite = unittest.TestSuite()\n",
    "    for _ in range(100):\n",
    "        arr = [random.randint(1,25) for _ in range(random.randint(100,125))] + 50 * [random.randint(1,25)]\n",
    "        suite.addTest(TestKnown(arr,mode(arr)))\n",
    "    unittest.TextTestRunner().run(suite)\n",
    "\n",
    "def test_stdev(fn):\n",
    "    class TestKnown(unittest.TestCase):\n",
    "        def __init__(self, input, output):\n",
    "            super(TestKnown, self).__init__()\n",
    "            self.input = input\n",
    "            self.output = output\n",
    "\n",
    "        def runTest(self):\n",
    "            self.assertAlmostEqual(fn(self.input), self.output, delta=5, msg=f\"Should be {self.output}\")\n",
    "    suite = unittest.TestSuite()\n",
    "    for _ in range(100):\n",
    "        arr = [random.randint(-1000,1000) for _ in range(random.randint(10,100))]\n",
    "        suite.addTest(TestKnown(arr,stdev(arr)))\n",
    "    unittest.TextTestRunner().run(suite)\n",
    "\n",
    "pangrams = [\"Waltz, nymph, for quick jigs vex Bud.\",\n",
    "\"Sphinx of black quartz, judge my vow.\",\n",
    "\"Pack my box with five dozen liquor jugs.\",\n",
    "\"Glib jocks quiz nymph to vex dwarf.\",\n",
    "\"Jackdaws love my big sphinx of quartz.\",\n",
    "\"The five boxing wizards jump quickly.\",\n",
    "\"How vexingly quick daft zebras jump!\",\n",
    "\"Quick zephyrs blow, vexing daft Jim.\",\n",
    "\"Two driven jocks help fax my big quiz.\",\n",
    "\"The jay, pig, fox, zebra and my wolves quack!\",\n",
    "\"Sympathizing would fix Quaker objectives.\",\n",
    "\"A wizard's job is to vex chumps quickly in fog.\",\n",
    "\"Watch 'Jeopardy!', Alex Trebek's fun TV quiz game.\",\n",
    "\"By Jove, my quick study of lexicography won a prize!\",\n",
    "\"Waxy and quivering, jocks fumble the pizza.\"]\n",
    "\n",
    "def test_pangram(fn):\n",
    "    class TestKnown(unittest.TestCase):\n",
    "        def __init__(self, input, output):\n",
    "            super(TestKnown, self).__init__()\n",
    "            self.input = input\n",
    "            self.output = output\n",
    "        def runTest(self):\n",
    "            self.assertEqual(fn(self.input), self.output, f\"Should be {self.output}\")\n",
    "    suite = unittest.TestSuite()\n",
    "    tests = pangrams + [\"\".join([random.choice(ascii_lowercase) for _ in range(random.randint(25,100))]) for _ in range(15)] \n",
    "    for test in tests:\n",
    "        suite.addTest(TestKnown(test,set(ascii_lowercase).issubset(set(test.lower()))))\n",
    "    unittest.TextTestRunner().run(suite)\n",
    "\n",
    "def test_alpha(fn):\n",
    "    class TestKnown(unittest.TestCase):\n",
    "        def __init__(self, input, output):\n",
    "            super(TestKnown, self).__init__()\n",
    "            self.input = input\n",
    "            self.output = output\n",
    "\n",
    "        def runTest(self):\n",
    "            self.assertEqual(fn(self.input), self.output, f\"Should be {self.output}\")\n",
    "    suite = unittest.TestSuite()\n",
    "    tests = [\",\".join([\"\".join([random.choice(ascii_lowercase) for _ in range(random.randint(4,10))]) for _ in range(random.randint(4,25))]) for _ in range(100)] \n",
    "    for test in tests:\n",
    "        suite.addTest(TestKnown(test,\",\".join(sorted(test.split(\",\")))))\n",
    "    unittest.TextTestRunner().run(suite)\n",
    "\n",
    "def test_pass(fn):\n",
    "    class TestKnown(unittest.TestCase):\n",
    "        def __init__(self, input, output):\n",
    "            super(TestKnown, self).__init__()\n",
    "            self.input = input\n",
    "            self.output = output\n",
    "            \n",
    "        def runTest(self):\n",
    "            self.assertEqual(fn(self.input), self.output, f\"Should be {self.output}\")\n",
    "    suite = unittest.TestSuite()\n",
    "    check_p = lambda string: sum([len(set(string)&set(c))>0 for c in [ascii_lowercase, ascii_uppercase, digits, \"#@!$%&()^*[]{}\"]] + [len(string) >= 8]) >= 5\n",
    "    tests = [\"\".join([random.choice(ascii_lowercase*3+ascii_uppercase+digits+\"#@!$%&()^*[]{}\") for _ in range(random.randint(2,16))]) for _ in range(100)] \n",
    "    for test in tests:\n",
    "        suite.addTest(TestKnown(test,check_p(test)))\n",
    "    unittest.TextTestRunner().run(suite)"
   ]
  },
  {
   "cell_type": "markdown",
   "metadata": {
    "id": "g3Cz-dh2s0y8"
   },
   "source": [
    "## 1. Escribe una función que devuelva el mayor de dos números"
   ]
  },
  {
   "cell_type": "code",
   "execution_count": 504,
   "metadata": {
    "id": "3r0YQqkWs0y9"
   },
   "outputs": [],
   "source": [
    "def greater(a, b):\n",
    "    \"\"\"Compara dos valores (a, b) y retorna el mayor de ellos.\n",
    "    \n",
    "    Parameters:\n",
    "    a (any) - Primer valor a comparar. Puede ser cualquier tipo que soporte comparación con '>'.\n",
    "    b (any) - Segundo valor a comparar. Debe ser del mismo tipo que 'a'.\n",
    "    \n",
    "    Returns:\n",
    "    any: El mayor de los dos valores 'a' y 'b'.\n",
    "    \"\"\"\n",
    "    if a > b:\n",
    "        return a\n",
    "    else:\n",
    "        return b"
   ]
  },
  {
   "cell_type": "code",
   "execution_count": 506,
   "metadata": {
    "colab": {
     "base_uri": "https://localhost:8080/"
    },
    "id": "1DO7yezDs0y9",
    "outputId": "9bcc4fb5-37f5-4b39-c40b-21f6e307a65b"
   },
   "outputs": [
    {
     "data": {
      "text/plain": [
       "3.141592653589793"
      ]
     },
     "execution_count": 506,
     "metadata": {},
     "output_type": "execute_result"
    }
   ],
   "source": [
    "\"\"\" Ejemplo de ejecución, comparando que el número pi es mayor que su aproximación 3.1415\"\"\"\n",
    "import numpy as np\n",
    "greater (3.1415,np.pi)"
   ]
  },
  {
   "cell_type": "code",
   "execution_count": 508,
   "metadata": {
    "id": "3MPB9tXxy1g5"
   },
   "outputs": [
    {
     "name": "stderr",
     "output_type": "stream",
     "text": [
      "....................................................................................................\n",
      "----------------------------------------------------------------------\n",
      "Ran 100 tests in 0.045s\n",
      "\n",
      "OK\n"
     ]
    }
   ],
   "source": [
    "# Para testear tu función\n",
    "test_greater(greater)"
   ]
  },
  {
   "cell_type": "markdown",
   "metadata": {
    "id": "ShbVn5_Es0y-"
   },
   "source": [
    "## 2. Ahora escribe una función que devuelva el elemento más grande"
   ]
  },
  {
   "cell_type": "code",
   "execution_count": 561,
   "metadata": {
    "id": "zAnvk0a2s0y-"
   },
   "outputs": [],
   "source": [
    "# Forma 1:\n",
    "def greatest_1(lista):\n",
    "    \"\"\" Saca el valor más grande de toda una lista.\n",
    "    \n",
    "    Parameters:\n",
    "    lista (list) - Lista de elementos que se quieren comparar. Se asume que la lista tiene al menos un elemento.\n",
    "    \n",
    "    Returns:\n",
    "    any: El valor más grande de todos los elementos en la lista. El tipo dependerá del tipo de los elementos en la lista.\n",
    "    \"\"\"\n",
    "    def helper(index, current_max):\n",
    "        \"\"\" Función auxiliar recursiva para encontrar el valor más grande en una lista.\n",
    "        Compara el índice actual de la lista con el valor máximo encontrado hasta el momento.\n",
    "    \n",
    "        Parameters:\n",
    "        index (int): El índice actual en la lista.\n",
    "        current_max (any): El valor máximo encontrado hasta ahora. Debe ser comparable con los elementos de la lista.\n",
    "    \n",
    "        Returns:\n",
    "        any: El valor más grande encontrado en la lista desde el index indicado hasta el final siempre que sea mayor a current_max, sino devuelve current_max.\n",
    "        \n",
    "        Example:\n",
    "        >>> lista = [9, 1, 4, 1, 5, 3]\n",
    "        >>> helper(0, lista[0])\n",
    "        9\n",
    "        >>> lista = [9, 1, 4, 1, 5, 3]\n",
    "        >>> helper(1, lista[1])\n",
    "        5\n",
    "        \"\"\"\n",
    "        # En el caso de índice fuera de la lista, se devuelve el máximo.\n",
    "        try:\n",
    "            lista[index]\n",
    "        except IndexError:\n",
    "            return current_max\n",
    "        # Comparar el elemento actual con el valor máximo encontrado hasta ahora y actualizar el máximo.\n",
    "        if lista[index] > current_max:\n",
    "            current_max = lista[index]\n",
    "        # Llamada recursiva con el siguiente índice\n",
    "        return helper(index + 1, current_max)\n",
    "    # Llamar a la función con el primer índice y primer elemento\n",
    "    return helper(0, lista[0])    "
   ]
  },
  {
   "cell_type": "code",
   "execution_count": 545,
   "metadata": {
    "id": "GmZjlBVq4m8e"
   },
   "outputs": [],
   "source": [
    "# Forma 2:\n",
    "def greatest_2(lista):\n",
    "    \"\"\" Saca el valor más grande de toda una lista\n",
    "    \n",
    "    Parameters:\n",
    "    lista - Lista de elementos que se quieren comparar. Se asume que la lista tiene al menos un elemento.\n",
    "    \n",
    "    Returns:\n",
    "    any: El valor más grande de todos los elementos en la lista. El tipo dependerá del tipo de los elementos en la lista.\n",
    "    \"\"\"\n",
    "    # Se inicializa el máximo actual como el primer valor.\n",
    "    current_max = lista[0]\n",
    "    for i in lista:\n",
    "        # Si el elemento de la lista es mayor al máximo actual, se actualiza el máximo actual.\n",
    "        if i > current_max:\n",
    "            current_max = i\n",
    "    return current_max"
   ]
  },
  {
   "cell_type": "code",
   "execution_count": 569,
   "metadata": {
    "id": "VXvMAvi4y6uc"
   },
   "outputs": [
    {
     "name": "stderr",
     "output_type": "stream",
     "text": [
      "....................................................................................................\n",
      "----------------------------------------------------------------------\n",
      "Ran 100 tests in 0.051s\n",
      "\n",
      "OK\n"
     ]
    }
   ],
   "source": [
    "# Para testear tu función\n",
    "test_greatest(greatest_1)"
   ]
  },
  {
   "cell_type": "code",
   "execution_count": 553,
   "metadata": {
    "id": "VXvMAvi4y6uc"
   },
   "outputs": [
    {
     "name": "stderr",
     "output_type": "stream",
     "text": [
      "....................................................................................................\n",
      "----------------------------------------------------------------------\n",
      "Ran 100 tests in 0.048s\n",
      "\n",
      "OK\n"
     ]
    }
   ],
   "source": [
    "# Para testear tu función\n",
    "test_greatest(greatest_2)"
   ]
  },
  {
   "cell_type": "code",
   "execution_count": 577,
   "metadata": {},
   "outputs": [],
   "source": [
    "def sum_all(lst):\n",
    "    \"\"\" Calcula la suma de todos los elementos en una lista.\n",
    "    \n",
    "    Parameters:\n",
    "    lst (list of int or float): Una lista de números que se desea sumar.\n",
    "\n",
    "    Returns:\n",
    "    int or float: La suma de todos los elementos en la lista.\n",
    "    \"\"\"\n",
    "    # Inicializa el valor neutro de la suma, el zero\n",
    "    current_sum = 0\n",
    "    \n",
    "    # Itera sobre cada elemento en la lista\n",
    "    for i in lst:\n",
    "        # Añadir el valor actual al total acumulado\n",
    "        current_sum += i\n",
    "    \n",
    "    # Retorna la suma total de los elementos en la lista\n",
    "    return current_sum"
   ]
  },
  {
   "cell_type": "code",
   "execution_count": 579,
   "metadata": {
    "colab": {
     "base_uri": "https://localhost:8080/"
    },
    "id": "RvcBd7qRs0zB",
    "outputId": "e3035016-61f4-4818-d357-026d796406ff",
    "scrolled": true
   },
   "outputs": [
    {
     "data": {
      "text/plain": [
       "210"
      ]
     },
     "execution_count": 579,
     "metadata": {},
     "output_type": "execute_result"
    }
   ],
   "source": [
    "\"\"\" Ejemplo de ejecución \"\"\"\n",
    "llista = [1,2,3,4,5,6,7,8,9,10,11,12,13,14,15,16,17,18,19,20]\n",
    "sum_all(llista)"
   ]
  },
  {
   "cell_type": "code",
   "execution_count": 581,
   "metadata": {
    "colab": {
     "base_uri": "https://localhost:8080/"
    },
    "id": "nGmIOp-RvYkU",
    "outputId": "aa26eeb4-55be-42cc-a668-849ab7ff078b"
   },
   "outputs": [
    {
     "name": "stdout",
     "output_type": "stream",
     "text": [
      "210.0\n"
     ]
    }
   ],
   "source": [
    "\"\"\" Comprovación del ejemplo con Fórmula Suma de Gauss\"\"\"\n",
    "n=20\n",
    "print(n*(n+1)/2)"
   ]
  },
  {
   "cell_type": "code",
   "execution_count": 75,
   "metadata": {
    "colab": {
     "base_uri": "https://localhost:8080/",
     "height": 159
    },
    "id": "tkUyoGhoy-tm",
    "outputId": "1c043935-e63d-4926-9982-8fd49cf4110e"
   },
   "outputs": [
    {
     "name": "stderr",
     "output_type": "stream",
     "text": [
      "....................................................................................................\n",
      "----------------------------------------------------------------------\n",
      "Ran 100 tests in 0.049s\n",
      "\n",
      "OK\n"
     ]
    }
   ],
   "source": [
    "# Para testear tu función\n",
    "test_sum(sum_all)"
   ]
  },
  {
   "cell_type": "markdown",
   "metadata": {
    "id": "H6xAuMdus0zC"
   },
   "source": [
    "## 4. Escribe otra función que multiplique todos los elementos de una lista"
   ]
  },
  {
   "cell_type": "code",
   "execution_count": 591,
   "metadata": {
    "id": "fODsKhnFs0zC"
   },
   "outputs": [],
   "source": [
    "def mult_all(lst):\n",
    "    \"\"\" Calcula la multiplicación de todos los elementos en una lista.\n",
    "    \n",
    "    Parameters:\n",
    "    lst (list of int or float): Una lista de números que se desea multiplicar.\n",
    "\n",
    "    Returns:\n",
    "    int or float: La multiplicación de todos los elementos en la lista.\n",
    "    \"\"\"\n",
    "    # Inicializa el valor neutro de la multiplicación, el uno\n",
    "    mult = 1\n",
    "    # Itera sobre cada elemento en la lista\n",
    "    for i in lst:\n",
    "    # Multiplicar el valor actual al total acumulado\n",
    "        mult *= i\n",
    "\n",
    "    # Retorna la multiplicación total de los elementos en la lista\n",
    "    return mult"
   ]
  },
  {
   "cell_type": "code",
   "execution_count": 585,
   "metadata": {
    "colab": {
     "base_uri": "https://localhost:8080/"
    },
    "id": "hw1CbB5as0zD",
    "outputId": "5ee889f4-ddd1-4276-f541-c1caf454ad6c",
    "scrolled": true
   },
   "outputs": [
    {
     "data": {
      "text/plain": [
       "2432902008176640000"
      ]
     },
     "execution_count": 585,
     "metadata": {},
     "output_type": "execute_result"
    }
   ],
   "source": [
    "\"\"\" Ejemplo de ejecución \"\"\"\n",
    "llista = [1,2,3,4,5,6,7,8,9,10,11,12,13,14,15,16,17,18,19,20]\n",
    "mult_all(llista)"
   ]
  },
  {
   "cell_type": "code",
   "execution_count": 587,
   "metadata": {
    "colab": {
     "base_uri": "https://localhost:8080/"
    },
    "id": "BaWcDlk0wNzP",
    "outputId": "20bf70d9-238b-4245-928a-7cf02a8807aa"
   },
   "outputs": [
    {
     "data": {
      "text/plain": [
       "2432902008176640000"
      ]
     },
     "execution_count": 587,
     "metadata": {},
     "output_type": "execute_result"
    }
   ],
   "source": [
    "\"\"\" Comprovación del ejemplo con el factorial\"\"\"\n",
    "import math\n",
    "n = 20\n",
    "math.factorial(n)"
   ]
  },
  {
   "cell_type": "code",
   "execution_count": 589,
   "metadata": {
    "id": "qIBhUV7szCN1"
   },
   "outputs": [
    {
     "name": "stderr",
     "output_type": "stream",
     "text": [
      "....................................................................................................\n",
      "----------------------------------------------------------------------\n",
      "Ran 100 tests in 0.051s\n",
      "\n",
      "OK\n"
     ]
    }
   ],
   "source": [
    "# Para testear tu función\n",
    "test_mult(mult_all)"
   ]
  },
  {
   "cell_type": "markdown",
   "metadata": {
    "id": "_JMzpHLVs0zE"
   },
   "source": [
    "## 5. Ahora combina esas dos ideas y escribe una función que reciba una lista y ya sea \"+\" o \"*\", y produzca el resultado acorde"
   ]
  },
  {
   "cell_type": "code",
   "execution_count": 609,
   "metadata": {
    "id": "Alz8ki32s0zE"
   },
   "outputs": [],
   "source": [
    "def oper_all(arr: list, oper: str) -> int | float:\n",
    "    \"\"\"Suma o multiplica todos los elementos de una lista según si el parámetro oper es * de multiplicación o + de suma.\n",
    "    \n",
    "    Parameters:\n",
    "    arr (list of int or float): Una lista de números que se desea operar.\n",
    "    oper (string): Se espera el carácter * o + para indicar la operación a realizar.\n",
    "\n",
    "    Returns:\n",
    "    int or float or string: La multiplicación o suma de todos los elementos en la lista o string indicando que la operación no es válida.\n",
    "    \"\"\"\n",
    "    if oper == \"*\":\n",
    "        return mult_all(arr)\n",
    "    elif oper == \"+\":\n",
    "        return sum_all(arr)\n",
    "    else:\n",
    "        return \"Operación no válida\""
   ]
  },
  {
   "cell_type": "code",
   "execution_count": 90,
   "metadata": {
    "colab": {
     "base_uri": "https://localhost:8080/"
    },
    "id": "szofBohJs0zF",
    "outputId": "ca4b3add-999d-4de2-9db1-40ffe61a0caa"
   },
   "outputs": [
    {
     "data": {
      "text/plain": [
       "2432902008176640000"
      ]
     },
     "execution_count": 90,
     "metadata": {},
     "output_type": "execute_result"
    }
   ],
   "source": [
    "llista = [1,2,3,4,5,6,7,8,9,10,11,12,13,14,15,16,17,18,19,20]\n",
    "oper_all(llista,\"*\")"
   ]
  },
  {
   "cell_type": "code",
   "execution_count": 92,
   "metadata": {
    "colab": {
     "base_uri": "https://localhost:8080/"
    },
    "id": "H0Yvcl8MxBw0",
    "outputId": "f4c80b35-86bc-4955-80b8-ff2d3ad962b0"
   },
   "outputs": [
    {
     "data": {
      "text/plain": [
       "210"
      ]
     },
     "execution_count": 92,
     "metadata": {},
     "output_type": "execute_result"
    }
   ],
   "source": [
    "llista = [1,2,3,4,5,6,7,8,9,10,11,12,13,14,15,16,17,18,19,20]\n",
    "oper_all(llista,\"+\")"
   ]
  },
  {
   "cell_type": "code",
   "execution_count": 94,
   "metadata": {
    "id": "jpEceNVFzEvX"
   },
   "outputs": [
    {
     "name": "stderr",
     "output_type": "stream",
     "text": [
      "....................................................................................................\n",
      "----------------------------------------------------------------------\n",
      "Ran 100 tests in 0.043s\n",
      "\n",
      "OK\n"
     ]
    }
   ],
   "source": [
    "# Para testear tu función\n",
    "test_operations(oper_all)"
   ]
  },
  {
   "cell_type": "markdown",
   "metadata": {
    "id": "8lXLRasps0zG"
   },
   "source": [
    "## 6. Escribe una función que devuelva el factorial de un número."
   ]
  },
  {
   "cell_type": "code",
   "execution_count": 614,
   "metadata": {
    "id": "pzOgIHrTs0zG"
   },
   "outputs": [],
   "source": [
    "def factorial(n: int) -> int:\n",
    "    \"\"\"Se computa el factorial n!=1·2·3·...·(n-1)·n que es la multiplicación de todos los naturales anteriores a n.\n",
    "    \n",
    "    Parameters:\n",
    "    n (int): Número natural por el cual se quiere calcular su factorial.\n",
    "    \n",
    "    Returns:\n",
    "    int: El factorial del número de entrada.\n",
    "    \"\"\"\n",
    "    result = 1\n",
    "    for i in range(1, n + 1):\n",
    "        result *= i\n",
    "    return result"
   ]
  },
  {
   "cell_type": "code",
   "execution_count": 616,
   "metadata": {
    "colab": {
     "base_uri": "https://localhost:8080/"
    },
    "id": "utUQrB9Nx58E",
    "outputId": "80ce99b3-986b-40e7-821f-afdb8621ac9f"
   },
   "outputs": [
    {
     "data": {
      "text/plain": [
       "2"
      ]
     },
     "execution_count": 616,
     "metadata": {},
     "output_type": "execute_result"
    }
   ],
   "source": [
    "n=2\n",
    "factorial(n) # Output: 2 (2!=2·1)"
   ]
  },
  {
   "cell_type": "code",
   "execution_count": 618,
   "metadata": {
    "colab": {
     "base_uri": "https://localhost:8080/"
    },
    "id": "XtQzRltms0zH",
    "outputId": "17bd4b00-8e10-4b34-e71c-a53fba451f67"
   },
   "outputs": [
    {
     "data": {
      "text/plain": [
       "6"
      ]
     },
     "execution_count": 618,
     "metadata": {},
     "output_type": "execute_result"
    }
   ],
   "source": [
    "n=3\n",
    "factorial(n) # Output: 6 (3!=3·2·1)"
   ]
  },
  {
   "cell_type": "code",
   "execution_count": 620,
   "metadata": {
    "colab": {
     "base_uri": "https://localhost:8080/"
    },
    "id": "v3WGtJePx69s",
    "outputId": "37de88f2-adf8-4c0e-8337-e2137ddc506e"
   },
   "outputs": [
    {
     "data": {
      "text/plain": [
       "24"
      ]
     },
     "execution_count": 620,
     "metadata": {},
     "output_type": "execute_result"
    }
   ],
   "source": [
    "n=4\n",
    "factorial(n) # Output: 24 (4!=4·3·2·1)"
   ]
  },
  {
   "cell_type": "code",
   "execution_count": 626,
   "metadata": {
    "colab": {
     "base_uri": "https://localhost:8080/"
    },
    "id": "-JE4ntMRxreb",
    "outputId": "078e3226-7a29-472b-d078-2574271fcaf0"
   },
   "outputs": [
    {
     "data": {
      "text/plain": [
       "True"
      ]
     },
     "execution_count": 626,
     "metadata": {},
     "output_type": "execute_result"
    }
   ],
   "source": [
    "# Si da True la comprovación es correcta\n",
    "import math\n",
    "n=5\n",
    "factorial(n) == math.factorial(n)"
   ]
  },
  {
   "cell_type": "code",
   "execution_count": 628,
   "metadata": {
    "id": "qO_G0dlXzHHD"
   },
   "outputs": [
    {
     "name": "stderr",
     "output_type": "stream",
     "text": [
      "....................................................................................................\n",
      "----------------------------------------------------------------------\n",
      "Ran 100 tests in 0.046s\n",
      "\n",
      "OK\n"
     ]
    }
   ],
   "source": [
    "# Para testear tu función\n",
    "test_factorial(factorial)"
   ]
  },
  {
   "cell_type": "markdown",
   "metadata": {
    "id": "TK1Nakuxs0zH"
   },
   "source": [
    "## 7. Escribe una función que tome una lista y devuelva una lista de los valores únicos.\n",
    "\n",
    "`NOTE: No podemos usar set. 🤔`"
   ]
  },
  {
   "cell_type": "code",
   "execution_count": 630,
   "metadata": {
    "id": "0yXUPe1ms0zI"
   },
   "outputs": [],
   "source": [
    "def unique(lst_un:list) -> list:\n",
    "    \"\"\"\n",
    "    Devuelve una lista de elementos únicos a partir de la lista de entrada.\n",
    "    \n",
    "    Dada una lista `lst_un` que puede contener elementos duplicados, esta función\n",
    "    devuelve una nueva lista conservando solo una instancia de cada elemento encontrado,\n",
    "    y preserva el orden del primer encuentro.\n",
    "\n",
    "    Parameters:\n",
    "    lst_un (list): La lista de entrada que puede contener elementos duplicados.\n",
    "\n",
    "    Returns:\n",
    "    list: Una lista que contiene solo los elementos únicos de `lst_un`, en el orden en que aparecen por primera vez.\n",
    "    \"\"\"\n",
    "    # Lista donde se almacenan los elementos únicos. Empieza teniendo el primer elemento.\n",
    "    unicos = [lst_un[0]]\n",
    "    # Para cada elemento de la lista, buscaremos si encontramos un elemento igual a la lista de elementos únicos.\n",
    "    for i in lst_un:\n",
    "        # En principio se establece que es distinto (no se encuentra ningún elemento igual).\n",
    "        encontrado = False\n",
    "        for u in unicos:\n",
    "             # Si se encuentra un elemento igual\n",
    "            if i == u:\n",
    "                encontrado = True\n",
    "                 # Se deja de comparar con los elementos de la lista únicos.\n",
    "                break\n",
    "        # Si no se encontró ningún elemento igual, se agrega.\n",
    "        if not encontrado:\n",
    "            unicos.append(i)\n",
    "    return unicos"
   ]
  },
  {
   "cell_type": "code",
   "execution_count": 148,
   "metadata": {},
   "outputs": [
    {
     "data": {
      "text/plain": [
       "[1, 2, 3]"
      ]
     },
     "execution_count": 148,
     "metadata": {},
     "output_type": "execute_result"
    }
   ],
   "source": [
    "llista = [1,1,2,2,2,3]\n",
    "unique(llista)"
   ]
  },
  {
   "cell_type": "code",
   "execution_count": 150,
   "metadata": {
    "id": "Bw6Bl2kks0zJ"
   },
   "outputs": [
    {
     "name": "stderr",
     "output_type": "stream",
     "text": [
      "....................................................................................................\n",
      "----------------------------------------------------------------------\n",
      "Ran 100 tests in 0.130s\n",
      "\n",
      "OK\n"
     ]
    }
   ],
   "source": [
    "# Para testear tu función\n",
    "test_unique(unique)"
   ]
  },
  {
   "cell_type": "markdown",
   "metadata": {
    "id": "sOqsvjbbs0zJ"
   },
   "source": [
    "## 8. Escribe una función que devuelva la moda de una lista, es decir: el elemento que aparece más veces.\n",
    "\n",
    "`NOTE: No se debe usar count... 🧐`"
   ]
  },
  {
   "cell_type": "markdown",
   "metadata": {
    "id": "sOqsvjbbs0zJ"
   },
   "source": [
    "### 8.1 First_mode_counter. El primer valor encontrado que se repite más."
   ]
  },
  {
   "cell_type": "code",
   "execution_count": 636,
   "metadata": {
    "id": "G1_FvPwqs0zK"
   },
   "outputs": [],
   "source": [
    "def unicos_frecuencia(arr: list):\n",
    "    \"\"\"\n",
    "    Devuelve los elementos únicos de una lista y sus frecuencias en forma de tupla.\n",
    "    Dada una lista `arr`, esta función devuelve una tipla con los elementos únicos en la lista y su frecuencia de aparición.\n",
    "\n",
    "    Parameters:\n",
    "    arr (list): La lista de entrada que puede contener elementos duplicados de cualquier tipo.\n",
    "\n",
    "    Returns:\n",
    "    tuple: Una tupla de dos listas. La primera lista contiene los elementos únicos y la segunda lista \n",
    "    contiene las frecuencias de estos elementos en la lista original.\n",
    "    \"\"\"\n",
    "    # Lista de elementos únicos\n",
    "    unicos = unique(arr)\n",
    "    c = []\n",
    "    # Para cada elemento único\n",
    "    for u in unicos:\n",
    "        count = 0\n",
    "         # se busca en los elementos de la lista de entrada si aparece ese elemento único `u`.\n",
    "        for i in arr:\n",
    "             # Si se encuentra un elemento igual, se suma 1 al contaje de ese elemento.\n",
    "            if i == u:\n",
    "                count +=1\n",
    "        c.append(count)\n",
    "    return unicos, c"
   ]
  },
  {
   "cell_type": "code",
   "execution_count": 634,
   "metadata": {},
   "outputs": [
    {
     "data": {
      "text/plain": [
       "([1, 2, 3], [2, 3, 1])"
      ]
     },
     "execution_count": 634,
     "metadata": {},
     "output_type": "execute_result"
    }
   ],
   "source": [
    "\"\"\"Ejemplo de ejecución\"\"\"\n",
    "llista = [1,1,2,2,2,3]\n",
    "unicos_frecuencia(llista)"
   ]
  },
  {
   "cell_type": "code",
   "execution_count": 644,
   "metadata": {},
   "outputs": [],
   "source": [
    "from typing import List, Tuple\n",
    "\n",
    "def my_enumerate(iterable) -> List[Tuple[int, any]]:\n",
    "    \"\"\"\n",
    "    Realiza lo mismo que la función enumerate de Python.\n",
    "    \n",
    "    Dado un iterable, esta función devuelve una lista de tuplas, donde cada tupla contiene\n",
    "    un índice y el correspondiente elemento del iterable original.\n",
    "\n",
    "    Parameters:\n",
    "    iterable (iterable): Un iterable (lista, tupla, string...) cuyos elementos se desean enumerar.\n",
    "\n",
    "    Returns:\n",
    "    list of tuples (int, any): Una lista de tuplas, donde cada tupla contiene un índice (iniciando en cero) \n",
    "    y el correspondiente elemento del iterable original.\n",
    "    \"\"\"\n",
    "    # Se inicia la lista donde se almacenarán las tuplas y el contador de índices\n",
    "    result = []\n",
    "    index = 0\n",
    "    # Para cada elemento del iterable\n",
    "    for element in iterable:\n",
    "        # Se añade el índice y el elemento a la lista result. En cada bucle se aumenta en 1 el índice\n",
    "        result.append((index, element))\n",
    "        index += 1\n",
    "    # Retorna la lista con las tuplas (posición del elemento, valor del elemento)\n",
    "    return result"
   ]
  },
  {
   "cell_type": "code",
   "execution_count": 654,
   "metadata": {},
   "outputs": [
    {
     "data": {
      "text/plain": [
       "[(0, 'a'), (1, 'b'), (2, 9), (3, 9), (4, 8), (5, 2.3)]"
      ]
     },
     "execution_count": 654,
     "metadata": {},
     "output_type": "execute_result"
    }
   ],
   "source": [
    "\"\"\"Ejemplo de ejecución\"\"\"\n",
    "llista = [\"a\",\"b\",9,9,8,2.3]\n",
    "my_enumerate(llista)"
   ]
  },
  {
   "cell_type": "code",
   "execution_count": 662,
   "metadata": {},
   "outputs": [],
   "source": [
    "def first_mode_counter(arr) -> any:\n",
    "    \"\"\"\n",
    "    Encuentra la moda (el valor más repetido) a partir de una lista de elementos.\n",
    "    En caso de haver dos o más elementos con iguales repeticiones que el máximo de repeticiones, devuelve el primero encontrado.\n",
    "    \n",
    "    Parameters:\n",
    "    arr (list): Una lista de elementos del cual queremos conocer su moda.\n",
    "\n",
    "    Returns:\n",
    "    any: Una de las modas de la lista. O sea, primer elemento que más se repite en la lista.\n",
    "    \"\"\"\n",
    "    # Se crea tupla de los datos únicos con sus frecuencias y se separan los datos únicos de las frecuencias.\n",
    "    tupla = unicos_frecuencia(arr)\n",
    "    datos = tupla[0]\n",
    "    frecuencia = tupla[1]\n",
    "\n",
    "    # Se encuentra la frecuencia que corresponde a la moda (la frecuencia más grande)\n",
    "    frec_modal = greatest(frecuencia)\n",
    "\n",
    "    # Se recorren las frecuencias, conservando la posición \"i\"\n",
    "    for i, f in my_enumerate(frecuencia):\n",
    "        # Cuando se encuentra la frecuencia correspondiente a la moda, se para de buscar\n",
    "        if f == frec_modal:\n",
    "            break    \n",
    "    # y se devuelve el dato de esa posición\n",
    "    return datos[i]"
   ]
  },
  {
   "cell_type": "code",
   "execution_count": 666,
   "metadata": {},
   "outputs": [
    {
     "data": {
      "text/plain": [
       "2"
      ]
     },
     "execution_count": 666,
     "metadata": {},
     "output_type": "execute_result"
    }
   ],
   "source": [
    "\"\"\"\"Ejemplo de ejecución donde el valor que más se repite es el 2 ya que se repite tres veces \"\"\"\n",
    "llista = [1,1,2,2,2,3]\n",
    "first_mode_counter(llista)"
   ]
  },
  {
   "cell_type": "code",
   "execution_count": 670,
   "metadata": {},
   "outputs": [
    {
     "data": {
      "text/plain": [
       "2"
      ]
     },
     "execution_count": 670,
     "metadata": {},
     "output_type": "execute_result"
    }
   ],
   "source": [
    "\"\"\"\"Ejemplo de ejecución donde hay dos valores que se repiten más veces. El 2 y el 3, que ambos se repiten tres veces. Se observa que se devuelve el primero.\"\"\"\n",
    "llista = [1,1,2,2,2,3,3,3]\n",
    "first_mode_counter(llista)"
   ]
  },
  {
   "cell_type": "code",
   "execution_count": 674,
   "metadata": {},
   "outputs": [
    {
     "data": {
      "text/plain": [
       "3"
      ]
     },
     "execution_count": 674,
     "metadata": {},
     "output_type": "execute_result"
    }
   ],
   "source": [
    "\"\"\"\"Ejemplo de ejecución donde hay dos valores que se repiten más veces. El 2 y el 3, que ambos se repiten tres veces. Se observa que se devuelve el primero.\"\"\"\n",
    "llista = [1,1,3,3,3,2,2,2]\n",
    "first_mode_counter(llista)"
   ]
  },
  {
   "cell_type": "code",
   "execution_count": 684,
   "metadata": {
    "id": "9OLf7zWHs0zL"
   },
   "outputs": [
    {
     "name": "stderr",
     "output_type": "stream",
     "text": [
      "....................................................................................................\n",
      "----------------------------------------------------------------------\n",
      "Ran 100 tests in 0.067s\n",
      "\n",
      "OK\n"
     ]
    }
   ],
   "source": [
    "# Para testear tu función\n",
    "test_mode(first_mode_counter)"
   ]
  },
  {
   "cell_type": "markdown",
   "metadata": {
    "id": "V04Uu-rOs0zM"
   },
   "source": [
    "### 8.2 Mode_counter = Todos los elementos que se repiten más"
   ]
  },
  {
   "cell_type": "code",
   "execution_count": 689,
   "metadata": {
    "id": "G1_FvPwqs0zK"
   },
   "outputs": [],
   "source": [
    "def mode_counter(arr) -> any:\n",
    "    \"\"\"\n",
    "    Encuentra la moda (todos los valores que se repiten el máximo número de veces) a partir de una lista de elementos.\n",
    "    En caso de haver dos o más elementos con iguales repeticiones que el máximo de repeticiones, devuelve una lista con todos los elementos.\n",
    "    \n",
    "    Parameters:\n",
    "    arr (list): Una lista de elementos del cual queremos conocer su moda.\n",
    "\n",
    "    Returns:\n",
    "    list of any: Todas las modas de la lista. O sea una lista con los valores que se repitieron más veces (el máximo igualado de veces).\n",
    "    \"\"\"\n",
    "    # Se crea tupla de los datos únicos con sus frecuencias y se separan los datos únicos de las frecuencias.\n",
    "    tupla = unicos_frecuencia(arr)\n",
    "    datos = tupla[0]\n",
    "    frecuencia = tupla[1]\n",
    "\n",
    "    # Se encuentra la frecuencia que corresponde a la moda (la frecuencia más grande)\n",
    "    frec_modal = greatest(frecuencia)\n",
    "\n",
    "    # Se inicializa la lista que va a guardar y las modas.\n",
    "    modes = []\n",
    "    \n",
    "    # Se recorren las frecuencias, conservando la posición \"i\"\n",
    "    for i, f in my_enumerate(frecuencia):\n",
    "        # Cuando se encuentra la frecuencia correspondiente, se añade \n",
    "        if f == frec_modal:\n",
    "            modes.append(datos[i])\n",
    "    return modes"
   ]
  },
  {
   "cell_type": "code",
   "execution_count": 691,
   "metadata": {},
   "outputs": [
    {
     "data": {
      "text/plain": [
       "[2, 3]"
      ]
     },
     "execution_count": 691,
     "metadata": {},
     "output_type": "execute_result"
    }
   ],
   "source": [
    "\"\"\"\"Ejemplo de ejecución donde hay dos valores que se repiten más veces. El 2 y el 3, que ambos se repiten tres veces. Se observa que se devuelven ambos.\"\"\"\n",
    "llista = [1,1,2,2,2,3,3,3]\n",
    "mode_counter(llista)"
   ]
  },
  {
   "cell_type": "markdown",
   "metadata": {
    "id": "V04Uu-rOs0zM"
   },
   "source": [
    "## 9. Escribe una función que calcule la desviación estándar de una lista.\n",
    "`NOTE: no utilices librerías ni ninguna función ya construida. 😉`"
   ]
  },
  {
   "cell_type": "markdown",
   "metadata": {
    "id": "V04Uu-rOs0zM"
   },
   "source": [
    "### 9.1 Desviación estándar de una población:\n",
    "$$\r\n",
    "\\sigma = \\sqrt{\\frac{1}{N} \\sum_{i=1}^{N} (x_i - \\mu)^2}\r\n",
    "$$\r\n",
    "\r\n",
    "Donde:\r\n",
    "- $\\sigma$ es la desviación estándar de la población.\r\n",
    "- $N$ es el número total de elementos en la población.\r\n",
    "- $x_i$ son los valores de los datos.\r\n",
    "- $\\mu$ es la media de la población"
   ]
  },
  {
   "cell_type": "code",
   "execution_count": 703,
   "metadata": {
    "id": "ThEXvEhOs0zM"
   },
   "outputs": [],
   "source": [
    "def my_len(lst: list) -> int:\n",
    "    \"\"\"Realiza lo mismo que la función len de Python.\n",
    "    Calcula la longitud (número de elementos) de una lista.\n",
    "    \n",
    "    Parameters:\n",
    "    lst (list): La lista cuyos elementos se desean contar.\n",
    "\n",
    "    Returns:\n",
    "    int: La longitud de la lista.\n",
    "    \"\"\"\n",
    "    c = 0  # Inicializamos el contador en 0\n",
    "    for i in lst:\n",
    "        c += 1  # Incrementamos el contador por cada elemento en la lista\n",
    "    return c  # Devolvemos el contador que es la longitud de la lista"
   ]
  },
  {
   "cell_type": "code",
   "execution_count": 709,
   "metadata": {
    "id": "ThEXvEhOs0zM"
   },
   "outputs": [
    {
     "name": "stdout",
     "output_type": "stream",
     "text": [
      "4\n",
      "0\n",
      "3\n"
     ]
    }
   ],
   "source": [
    "\"\"\"Ejemplos de prueba de my_len\"\"\"\n",
    "print(my_len([10, 20, 30, 40]))  # Salida: 4\n",
    "print(my_len([]))  # Salida: 0\n",
    "print(my_len(['a', 'b', 'c']))  # Salida: 3"
   ]
  },
  {
   "cell_type": "code",
   "execution_count": 711,
   "metadata": {
    "id": "ThEXvEhOs0zM"
   },
   "outputs": [],
   "source": [
    "def media(lst: list) -> float:\n",
    "    \"\"\"\n",
    "    Calcula la media (promedio) de los elementos en una lista.\n",
    "\n",
    "    Esta función suma todos usando la función auxiliar previamente definida `sum_all`,\n",
    "    y luego divide esta suma por el número de elementos en la lista usando una función auxiliar `my_len`.\n",
    "\n",
    "    Parameters:\n",
    "    lst (list of int or float): La lista de números para la cual se quiere calcular la media.\n",
    "\n",
    "    Returns:\n",
    "    float: La media de los números en la lista.\n",
    "    \"\"\"\n",
    "    sum_x = sum_all(lst)  # Sumar todos los elementos de la lista\n",
    "    N = my_len(lst)  # Contar el número de elementos en la lista\n",
    "    return sum_x / N  # Calcular y devolver la media"
   ]
  },
  {
   "cell_type": "code",
   "execution_count": 697,
   "metadata": {
    "id": "ThEXvEhOs0zM"
   },
   "outputs": [],
   "source": [
    "def st_dev_poblacional(list_sd: list) -> float:\n",
    "    \"\"\"\n",
    "    Calcula la desviación estándar poblacional de los elementos en una lista.\n",
    "\n",
    "    Parameters:\n",
    "    list_sd (list of int or float): La lista de números para la cual se quiere calcular \n",
    "                                    la desviación estándar poblacional.\n",
    "\n",
    "    Returns:\n",
    "    float: La desviación estándar poblacional de los números en la lista.\n",
    "    \"\"\"\n",
    "    average = media(list_sd)  # Calcular la media (promedio) de los elementos en la lista\n",
    "    N = my_len(list_sd)  # Contar el número de elementos en la lista\n",
    "    sumatorio = 0  # Inicializar el sumatorio de las desviaciones al cuadrado\n",
    "    for i in list_sd:\n",
    "        sumatorio += (i - average) ** 2  # Sumar las desviaciones al cuadrado\n",
    "    return (1 / N * sumatorio) ** 0.5  # Calcular la raiz y dividir por N para devolver la desviación estándar poblacional\n"
   ]
  },
  {
   "cell_type": "code",
   "execution_count": 713,
   "metadata": {
    "id": "wX5bzxios0zM"
   },
   "outputs": [
    {
     "data": {
      "text/plain": [
       "' El testeo no es exitoso porque se espera la desviación muestral, no la poblacional. A continuación en el apartado 9.2 se resuelve'"
      ]
     },
     "execution_count": 713,
     "metadata": {},
     "output_type": "execute_result"
    }
   ],
   "source": [
    "\"\"\" El testeo no es exitoso porque se espera la desviación muestral, no la poblacional. A continuación en el apartado 9.2 se resuelve\"\"\"\n",
    "# Para testear tu función\n",
    "# test_stdev(st_dev_poblacional)"
   ]
  },
  {
   "cell_type": "markdown",
   "metadata": {
    "id": "V04Uu-rOs0zM"
   },
   "source": [
    "### 9.1 Desviación estándar de una muestra:\n",
    "$$\n",
    "\\sigma = \\sqrt{\\frac{1}{N-1} \\sum_{i=1}^{N} (x_i - \\mu)^2}\n",
    "$$$$Donde:\r\n",
    "- $\\sigma$ es la desviación estándar de la muestra.\r\n",
    "- $N$ es el número de elementos en la muestra.\r\n",
    "- $x_i$ son los valores de los datos de la muestra.\r\n",
    "- $\\bar{x}$ es la media de la muestra.\r\n",
    "- $N-1$ son los grados de libertad, que corrigen el sesgo en el cálculo de la muestra.zaje de Ironhack.\r\n",
    "\r\n",
    "\r\n",
    "\r\n",
    " muestra.oblación"
   ]
  },
  {
   "cell_type": "code",
   "execution_count": 715,
   "metadata": {},
   "outputs": [],
   "source": [
    "def st_dev_muestral(list_sd: list) -> float:\n",
    "    \"\"\"\n",
    "    Calcula la desviación estándar muestral de los elementos en una lista.\n",
    "\n",
    "    Parameters:\n",
    "    list_sd (list of int or float): La lista de números para la cual se quiere calcular \n",
    "                                    la desviación estándar muestral.\n",
    "\n",
    "    Returns:\n",
    "    float: La desviación estándar muestral de los números en la lista.\n",
    "    \"\"\"\n",
    "    average = media(list_sd)  # Calcular la media (promedio) de los elementos en la lista\n",
    "    N = my_len(list_sd)  # Contar el número de elementos en la lista\n",
    "    sumatorio = 0  # Inicializar el sumatorio de las desviaciones al cuadrado\n",
    "    for i in list_sd:\n",
    "        sumatorio += (i-average)**2  # Sumar las desviaciones al cuadrado\n",
    "    return (1/(N-1) * sumatorio) **0.5  # Calcular la raiz y dividir por N-1 para devolver la desviación estándar muestral"
   ]
  },
  {
   "cell_type": "code",
   "execution_count": 717,
   "metadata": {},
   "outputs": [
    {
     "name": "stderr",
     "output_type": "stream",
     "text": [
      "....................................................................................................\n",
      "----------------------------------------------------------------------\n",
      "Ran 100 tests in 0.054s\n",
      "\n",
      "OK\n"
     ]
    }
   ],
   "source": [
    "# Para testear tu función\n",
    "test_stdev(st_dev_muestral)"
   ]
  },
  {
   "cell_type": "markdown",
   "metadata": {
    "id": "jTd9d772s0zM"
   },
   "source": [
    "## 10. Escribe una función para verificar si una cadena es un pangrama, es decir: si contiene todas las letras del alfabeto al menos una vez. Ten en cuenta que las cadenas pueden contener caracteres que no son letras."
   ]
  },
  {
   "cell_type": "code",
   "execution_count": 851,
   "metadata": {
    "id": "PFFHI5lqs0zN"
   },
   "outputs": [],
   "source": [
    "def my_index(string: str, char: str) -> int:\n",
    "    \"\"\"\n",
    "    Encuentra el índice de la primera aparición de un carácter en una cadena.\n",
    "\n",
    "    Parameters:\n",
    "    string (str): La cadena en la que se buscará el carácter.\n",
    "    char (str): El carácter que se desea encontrar en la cadena.\n",
    "\n",
    "    Returns:\n",
    "    int: El índice de la primera aparición del carácter en la cadena, o -1 si el \n",
    "         carácter no se encuentra.\n",
    "    \"\"\"\n",
    "    for i in range(my_len(string)):\n",
    "        if string[i] == char:\n",
    "            return i\n",
    "    return -1  # Retorna -1 si el carácter no se encuentra"
   ]
  },
  {
   "cell_type": "code",
   "execution_count": 812,
   "metadata": {
    "id": "PFFHI5lqs0zN"
   },
   "outputs": [],
   "source": [
    "def my_upper(string: str) -> str:\n",
    "    \"\"\"\n",
    "    Convierte todas las letras minúsculas de una cadena en mayúsculas.\n",
    "\n",
    "    Parameters:\n",
    "    string (str): La cadena de entrada que se desea convertir a mayúsculas.\n",
    "\n",
    "    Returns:\n",
    "    str: Una nueva cadena con todas las letras minúsculas convertidas a mayúsculas.\n",
    "    \"\"\"\n",
    "    # Se definen por orden las letras minúsculas y mayúsculas.\n",
    "    min_letras = \"abcdefghijklmnñopqrstuvwxyz\"\n",
    "    may_letras = \"ABCDEFGHIJKLMNÑOPQRSTUVWXYZ\"\n",
    "\n",
    "    # Se inicializa el resultado\n",
    "    result = \"\"\n",
    "    # Se iteran todas las letras de la cadena de carácteres\n",
    "    for char in string:\n",
    "        # Si el carácter es una minúscula\n",
    "        if char in min_letras:\n",
    "            index = my_index(min_letras, char)\n",
    "            # Se añade a `result` la misma letra (localizada en la misma posición `index`) pero en mayúscula.\n",
    "            result += may_letras[index]\n",
    "        # Si el carácter no era minúscula (ya sea mayúscula, número o carácter especial,\n",
    "        else:\n",
    "            # se añade el carácter sin cambios\n",
    "            result += char\n",
    "    # Se devuelve cadena de carácteres resultado.\n",
    "    return result"
   ]
  },
  {
   "cell_type": "code",
   "execution_count": 816,
   "metadata": {
    "id": "fAxLGShls0zO"
   },
   "outputs": [
    {
     "data": {
      "text/plain": [
       "'UN JUGOSO ZUMO DE PIÑA Y KIWI BIEN FRIO ES EXQUISITO Y NO LLEVA ALCOHOL'"
      ]
     },
     "execution_count": 816,
     "metadata": {},
     "output_type": "execute_result"
    }
   ],
   "source": [
    "\"\"\"Ejemplo de ejecución\"\"\"\n",
    "my_upper(\"Un jugoso zumo de piña y kiwi bien frio es exquisito y no lleva alcohol\")"
   ]
  },
  {
   "cell_type": "code",
   "execution_count": 840,
   "metadata": {
    "id": "PFFHI5lqs0zN"
   },
   "outputs": [],
   "source": [
    "def pangram(string: str) -> bool:\n",
    "    \"\"\"\n",
    "    Indica si una cadena es un panagrama (True) o no lo es (False).\n",
    "    Una cadena de carácteres es un panagrama si contiene todas las letras del alfabeto al menos una vez.\n",
    "\n",
    "    Parameters:\n",
    "    string (str): Cadena de carácteres que se desea conocer si es un panagrama.\n",
    "\n",
    "    Returns:\n",
    "    bool: True si es panagrama. False si no es panagrama.\n",
    "    \"\"\"\n",
    "    abecedario = \"ABCDEFGHIJKLMNOPQRSTUVWXYZ\"\n",
    "    # De la cadena de origen se transforman las minúsculas a mayúsculas.\n",
    "    entrada = my_upper(string)\n",
    "    \n",
    "    # Se verifican si las letras del abecedario están en la cadena de entrada\n",
    "    for letra in abecedario:\n",
    "        # En caso que haya una letra del abecedario que no esté en la entrada, querá decir que no es un panagrama y por lo tanto la función devuelve false\n",
    "        if letra not in entrada:\n",
    "            # print (\"La primera letra no encontrada es: \",letra) # Para que printee cuál fue la primera letra que dejó de encontrar\n",
    "            return False\n",
    "    # Si no se ha retornado False, es que todas las letras del abecedario están y se devuelve True.\n",
    "    return True"
   ]
  },
  {
   "cell_type": "code",
   "execution_count": 828,
   "metadata": {
    "id": "fAxLGShls0zO"
   },
   "outputs": [
    {
     "data": {
      "text/plain": [
       "True"
      ]
     },
     "execution_count": 828,
     "metadata": {},
     "output_type": "execute_result"
    }
   ],
   "source": [
    "\"\"\" Ejemplo de ejecución en un caso positivo de panagrama\"\"\"\n",
    "pangram(\"Un jugoso zumo de piña y kiwi bien frio es exquisito y no lleva alcohol\")"
   ]
  },
  {
   "cell_type": "code",
   "execution_count": 830,
   "metadata": {
    "id": "fAxLGShls0zO"
   },
   "outputs": [
    {
     "name": "stdout",
     "output_type": "stream",
     "text": [
      "La primera letra no encontrada es:  B\n"
     ]
    },
    {
     "data": {
      "text/plain": [
       "False"
      ]
     },
     "execution_count": 830,
     "metadata": {},
     "output_type": "execute_result"
    }
   ],
   "source": [
    "\"\"\" Ejemplo de ejecución en un caso negativo de panagrama\"\"\"\n",
    "pangram(\"Hola\")"
   ]
  },
  {
   "cell_type": "code",
   "execution_count": 848,
   "metadata": {
    "id": "fAxLGShls0zO"
   },
   "outputs": [
    {
     "name": "stderr",
     "output_type": "stream",
     "text": [
      "..............................\n",
      "----------------------------------------------------------------------\n",
      "Ran 30 tests in 0.022s\n",
      "\n",
      "OK\n"
     ]
    }
   ],
   "source": [
    "# Para testear tu función\n",
    "test_pangram(pangram)"
   ]
  },
  {
   "cell_type": "markdown",
   "metadata": {
    "id": "HwYYJv46s0zO"
   },
   "source": [
    "## 11. Escribe una función que reciba una cadena de palabras separadas por comas y devuelva una cadena de palabras separadas por comas ordenadas alfabéticamente.\n",
    "\n",
    "`NOTA: Puedes usar sorted pero no split y definitivamente no join! 🤪`"
   ]
  },
  {
   "cell_type": "code",
   "execution_count": 296,
   "metadata": {
    "id": "TYmt7AWjs0zO"
   },
   "outputs": [
    {
     "data": {
      "text/plain": [
       "[',',\n",
       " ',',\n",
       " 'A',\n",
       " 'H',\n",
       " 'M',\n",
       " 'a',\n",
       " 'd',\n",
       " 'g',\n",
       " 'i',\n",
       " 'l',\n",
       " 'm',\n",
       " 'n',\n",
       " 'o',\n",
       " 'o',\n",
       " 'o',\n",
       " 'u']"
      ]
     },
     "execution_count": 296,
     "metadata": {},
     "output_type": "execute_result"
    }
   ],
   "source": [
    "# Se experienta como funciona la función `sorted` con una cadena de carácteres\n",
    "palabras = \"Hola,Mundo,Amigo\"\n",
    "sorted(palabras)"
   ]
  },
  {
   "cell_type": "code",
   "execution_count": 298,
   "metadata": {
    "id": "TYmt7AWjs0zO"
   },
   "outputs": [
    {
     "data": {
      "text/plain": [
       "['Amigo', 'Hola', 'Mundo']"
      ]
     },
     "execution_count": 298,
     "metadata": {},
     "output_type": "execute_result"
    }
   ],
   "source": [
    "# Se experienta como funciona la función `sorted` con una lista de carácteres\n",
    "palabras = [\"Hola\",\"Mundo\",\"Amigo\"]\n",
    "sorted(palabras)"
   ]
  },
  {
   "cell_type": "markdown",
   "metadata": {
    "id": "HwYYJv46s0zO"
   },
   "source": [
    "### 11.1 my_split\n",
    "Hay que construir una función que separe las palabras de una cadena de carácteres por un separador que será la coma y construir una lista a partir de las palabras"
   ]
  },
  {
   "cell_type": "code",
   "execution_count": 855,
   "metadata": {},
   "outputs": [
    {
     "data": {
      "text/plain": [
       "16"
      ]
     },
     "execution_count": 855,
     "metadata": {},
     "output_type": "execute_result"
    }
   ],
   "source": [
    "# Se comprueba que la función `my_len` devuelve la cantidad de carácteres totales de una cadeba.\n",
    "string = \"Hola,Mundo,Amigo\"\n",
    "my_len(\"Hola,Mundo,Amigo\")"
   ]
  },
  {
   "cell_type": "code",
   "execution_count": 853,
   "metadata": {},
   "outputs": [
    {
     "data": {
      "text/plain": [
       "4"
      ]
     },
     "execution_count": 853,
     "metadata": {},
     "output_type": "execute_result"
    }
   ],
   "source": [
    "# Se comprueba que la función `my_index` permite encontrar la posición de la primera coma\n",
    "my_index(\"Hola,Mundo,Amigo\",\",\")"
   ]
  },
  {
   "cell_type": "code",
   "execution_count": 857,
   "metadata": {},
   "outputs": [
    {
     "data": {
      "text/plain": [
       "'Hola'"
      ]
     },
     "execution_count": 857,
     "metadata": {},
     "output_type": "execute_result"
    }
   ],
   "source": [
    "# Se puede recortar la primera palabra cogiendo todos los carácteres antes de la posición de la primera coma\n",
    "string [:my_index(\"Hola,Mundo,Amigo\",\",\")]"
   ]
  },
  {
   "cell_type": "code",
   "execution_count": 859,
   "metadata": {},
   "outputs": [
    {
     "data": {
      "text/plain": [
       "'Mundo,Amigo'"
      ]
     },
     "execution_count": 859,
     "metadata": {},
     "output_type": "execute_result"
    }
   ],
   "source": [
    "# Se puede continuar analizando el resto del string después de la posición de la primera coma\n",
    "string [my_index(\"Hola,Mundo,Amigo\",\",\")+1:]"
   ]
  },
  {
   "cell_type": "code",
   "execution_count": 863,
   "metadata": {},
   "outputs": [],
   "source": [
    "def my_split(string: str, separador: str) -> list:\n",
    "    \"\"\"\n",
    "    Divide una cadena en una lista de subcadenas utilizando un separador específico.\n",
    "    Esta función imita el funcionamiento de la función incorporada str.split() en Python.\n",
    "\n",
    "    Parameters:\n",
    "    string (str): La cadena que se desea dividir.\n",
    "    separador (str): El carácter separador utilizado para dividir la cadena.\n",
    "\n",
    "    Returns:\n",
    "    list: Una lista de subcadenas obtenidas al dividir la cadena original utilizando el separador.\n",
    "    \"\"\"\n",
    "    # Lista para almacenar las subcadenas resultantes\n",
    "    palabras = []\n",
    "    while string:\n",
    "        index_coma = my_index(string, separador)\n",
    "        if index_coma == -1:  # Si no se encuentra el separador, termina el bucle y retorna el string original\n",
    "            palabras.append(string)\n",
    "            break\n",
    "        else:\n",
    "            palabras.append(string[:index_coma]) # Añadir subcadena desde el inicio hasta el índice del separador.\n",
    "            string = string[index_coma + 1:] # Actualizar la cadena restante excluyendo el separador\n",
    "    return palabras"
   ]
  },
  {
   "cell_type": "code",
   "execution_count": 865,
   "metadata": {},
   "outputs": [
    {
     "data": {
      "text/plain": [
       "['Hola', 'Mundo', 'Amigo']"
      ]
     },
     "execution_count": 865,
     "metadata": {},
     "output_type": "execute_result"
    }
   ],
   "source": [
    "\"\"\"Ejemplo de ejecución\"\"\"\n",
    "string = \"Hola,Mundo,Amigo\"\n",
    "my_split(string,\",\")"
   ]
  },
  {
   "cell_type": "markdown",
   "metadata": {
    "id": "HwYYJv46s0zO"
   },
   "source": [
    "### 11.2 función final"
   ]
  },
  {
   "cell_type": "code",
   "execution_count": 868,
   "metadata": {},
   "outputs": [
    {
     "data": {
      "text/plain": [
       "['Amigo', 'Hola', 'Mundo']"
      ]
     },
     "execution_count": 868,
     "metadata": {},
     "output_type": "execute_result"
    }
   ],
   "source": [
    "\"\"\"Se enlaza el split con el sorted\"\"\"\n",
    "string = \"Hola,Mundo,Amigo\"\n",
    "sorted(my_split(string,\",\"))"
   ]
  },
  {
   "cell_type": "code",
   "execution_count": 871,
   "metadata": {
    "id": "TYmt7AWjs0zO"
   },
   "outputs": [],
   "source": [
    "def sort_alpha(string: str) -> str:\n",
    "    \"\"\"\n",
    "    Ordena alfabéticamente las subcadenas separadas por comas en una cadena.\n",
    "\n",
    "    Esta función recibe una cadena de palabras separadas por comas y\n",
    "    devuelve una cadena de palabras separadas por comas ordenadas alfabéticamente.\n",
    "\n",
    "    Parameters:\n",
    "    string (str): La cadena de entrada que contiene subcadenas separadas por comas.\n",
    "\n",
    "    Returns:\n",
    "    str: Una nueva cadena con las subcadenas ordenadas alfabéticamente y separadas por comas.\n",
    "    \"\"\"\n",
    "    # Inicialización de `result` para añadir los carácteres\n",
    "    result = \"\"\n",
    "    # Se consultan las subcadenas ya ordenados alfabeticamente\n",
    "    for element in sorted(my_split(string,\",\")):\n",
    "        # Se añaden las subcadenas seguidas de una coma\n",
    "        result += element\n",
    "        result += \",\"\n",
    "    # Se retornan las subcadenas quitando la última coma extra sobrante añadida.\n",
    "    return result[:-1]"
   ]
  },
  {
   "cell_type": "code",
   "execution_count": 873,
   "metadata": {
    "id": "m_ID3tzds0zO"
   },
   "outputs": [
    {
     "name": "stderr",
     "output_type": "stream",
     "text": [
      "....................................................................................................\n",
      "----------------------------------------------------------------------\n",
      "Ran 100 tests in 0.061s\n",
      "\n",
      "OK\n"
     ]
    }
   ],
   "source": [
    "# Para testear tu función\n",
    "test_alpha(sort_alpha)"
   ]
  },
  {
   "cell_type": "markdown",
   "metadata": {
    "id": "GwUgJrxUs0zP"
   },
   "source": [
    "## 12. Escribe una función para verificar si una contraseña dada es fuerte (al menos 8 caracteres, al menos una minúscula, al menos una mayúscula, al menos un número y al menos un carácter especial). Debería devolver True si es fuerte y False si no lo es.\n",
    "\n",
    "Es fuerte si al menos tiene:\n",
    "- 8 caracteres\n",
    "- 1 minúscula\n",
    "- 1 mayúscula\n",
    "- 1 número\n",
    "- 1 carácter especial"
   ]
  },
  {
   "cell_type": "code",
   "execution_count": 876,
   "metadata": {},
   "outputs": [
    {
     "name": "stdout",
     "output_type": "stream",
     "text": [
      "True\n"
     ]
    }
   ],
   "source": [
    "# Se definen los conjuntos de carácteres posibles.\n",
    "min_letras = \"abcdefghijklmnñopqrstuvwxyz\"\n",
    "may_letras = \"ABCDEFGHIJKLMNÑOPQRSTUVWXYZ\"\n",
    "numeros = \"0123456789\"\n",
    "especiales = r\"\"\" !\"#$%&'()*+,-./:;<=>?@[\\]^_`{|}~ñÑáéíóúÁÉÍÓÚüÜàèìòùÀÈÌÒÙäëïöÿÄËÏÖŸçÇ¬§©®™€\"\"\""
   ]
  },
  {
   "cell_type": "code",
   "execution_count": 876,
   "metadata": {},
   "outputs": [
    {
     "name": "stdout",
     "output_type": "stream",
     "text": [
      "True\n"
     ]
    }
   ],
   "source": [
    "# Se experimenta comprovando solo que la longitud de la contraseña sea mayor o igual a 8\n",
    "password = \"Holaquetal01!\"\n",
    "if my_len(password) >= 8:\n",
    "    print (True)\n",
    "else:\n",
    "    print (False)"
   ]
  },
  {
   "cell_type": "code",
   "execution_count": 452,
   "metadata": {},
   "outputs": [],
   "source": [
    "def contains(password: str, letras: str) -> bool:\n",
    "    \"\"\"\n",
    "    Verifica si una contraseña contiene al menos una de las letras especificadas.\n",
    "\n",
    "    Parameters:\n",
    "    password (str): La contraseña que se desea verificar.\n",
    "    letras (str): Las letras que se desean buscar en la contraseña.\n",
    "\n",
    "    Returns:\n",
    "    bool: True si se encuentra al menos una de las letras en la contraseña, \n",
    "          False en caso contrario.\n",
    "    \"\"\"\n",
    "    for char in password:\n",
    "        for i in range(my_len(letras)):\n",
    "            if char == letras[i]:\n",
    "                return True\n",
    "    return False"
   ]
  },
  {
   "cell_type": "code",
   "execution_count": 878,
   "metadata": {},
   "outputs": [
    {
     "name": "stdout",
     "output_type": "stream",
     "text": [
      "True\n"
     ]
    }
   ],
   "source": [
    "\"\"\"Ejemplo de ejecución. Mira si la contrasña cumple las tres condiciones de tener al menos 8 caracteres contener almenos una minuscula y una mayúscula\"\"\"\n",
    "password = \"Holaquetal01!\"\n",
    "if my_len(password) > 8 and contains(password, min_letras) and contains(password, may_letras):\n",
    "    print(True)\n",
    "else:\n",
    "    print(False)"
   ]
  },
  {
   "cell_type": "code",
   "execution_count": 882,
   "metadata": {},
   "outputs": [],
   "source": [
    "def check_pass(password: str) -> bool:\n",
    "    \"\"\"\n",
    "    Verifica si una contraseña es fuerte. O sea si tiene al menos:\n",
    "        - 8 caracteres\n",
    "        - 1 minúscula\n",
    "        - 1 mayúscula\n",
    "        - 1 número\n",
    "        - 1 carácter especial\n",
    "\n",
    "    Parameters:\n",
    "    password (str): La contraseña que se desea verificar.\n",
    "\n",
    "    Returns:\n",
    "    bool: True si la contraseña cumple con todas las condiciones, \n",
    "          False en caso contrario.\n",
    "    \"\"\"\n",
    "    # Definición de conjuntos de caracteres permitidos\n",
    "    min_letras = \"abcdefghijklmnñopqrstuvwxyz\"\n",
    "    may_letras = \"ABCDEFGHIJKLMNÑOPQRSTUVWXYZ\"\n",
    "    numeros = \"0123456789\"\n",
    "    especiales = r\"\"\" !\"#$%&'()*+,-./:;<=>?@[\\]^_`{|}~ñÑáéíóúÁÉÍÓÚüÜàèìòùÀÈÌÒÙäëïöÿÄËÏÖŸçÇ¬§©®™€\"\"\"\n",
    "    \n",
    "    # Verificación de todos los criterios de seguridad\n",
    "    if (my_len(password) >= 8 and \n",
    "        contains(password, min_letras) and \n",
    "        contains(password, may_letras) and \n",
    "        contains(password, numeros) and \n",
    "        contains(password, especiales)):\n",
    "        return True\n",
    "    else:\n",
    "        return False"
   ]
  },
  {
   "cell_type": "code",
   "execution_count": 884,
   "metadata": {
    "id": "6GGCmJr4s0zQ"
   },
   "outputs": [
    {
     "name": "stderr",
     "output_type": "stream",
     "text": [
      "....................................................................................................\n",
      "----------------------------------------------------------------------\n",
      "Ran 100 tests in 0.049s\n",
      "\n",
      "OK\n"
     ]
    }
   ],
   "source": [
    "# Para testear tu función\n",
    "test_pass(check_pass)"
   ]
  }
 ],
 "metadata": {
  "colab": {
   "provenance": []
  },
  "kernelspec": {
   "display_name": "anaconda-panel-2023.05-py310",
   "language": "python",
   "name": "conda-env-anaconda-panel-2023.05-py310-py"
  },
  "language_info": {
   "codemirror_mode": {
    "name": "ipython",
    "version": 3
   },
   "file_extension": ".py",
   "mimetype": "text/x-python",
   "name": "python",
   "nbconvert_exporter": "python",
   "pygments_lexer": "ipython3",
   "version": "3.11.5"
  },
  "vscode": {
   "interpreter": {
    "hash": "aee8b7b246df8f9039afb4144a1f6fd8d2ca17a180786b69acc140d282b71a49"
   }
  }
 },
 "nbformat": 4,
 "nbformat_minor": 4
}
