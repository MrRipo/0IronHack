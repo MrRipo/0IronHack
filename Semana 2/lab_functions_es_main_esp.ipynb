{
  "cells": [
    {
      "cell_type": "markdown",
      "metadata": {
        "id": "9ZTGTcr0s0yz"
      },
      "source": [
        "# Functions"
      ]
    },
    {
      "cell_type": "markdown",
      "metadata": {
        "id": "5MeAVRc1s0y4"
      },
      "source": [
        "# En este laboratorio pondremos en práctica algunos de los conceptos que hemos aprendido en los últimos días.\n",
        "\n",
        "`NOTA: En este laboratorio deberías intentar escribir todas las funciones por ti mismo utilizando solo la sintaxis más básica de Python y sin funciones como len, count, sum, max, min, in, etc. Dale una oportunidad. 🧑🏻‍💻👩🏻‍💻`\n",
        "\n",
        "La celda después de cada ejercicio contiene algunas pruebas para verificar si tu función funciona como se espera."
      ]
    },
    {
      "cell_type": "code",
      "execution_count": 2,
      "metadata": {
        "id": "nALh-rums0y6",
        "outputId": "705018a2-be15-41f9-ff73-fc5a0bb58487",
        "colab": {
          "base_uri": "https://localhost:8080/",
          "height": 331
        }
      },
      "outputs": [
        {
          "output_type": "error",
          "ename": "ModuleNotFoundError",
          "evalue": "No module named 'mod'",
          "traceback": [
            "\u001b[0;31m---------------------------------------------------------------------------\u001b[0m",
            "\u001b[0;31mModuleNotFoundError\u001b[0m                       Traceback (most recent call last)",
            "\u001b[0;32m<ipython-input-2-a57a86624ec9>\u001b[0m in \u001b[0;36m<cell line: 1>\u001b[0;34m()\u001b[0m\n\u001b[0;32m----> 1\u001b[0;31m \u001b[0;32mfrom\u001b[0m \u001b[0mmod\u001b[0m\u001b[0;34m.\u001b[0m\u001b[0mtesting\u001b[0m \u001b[0;32mimport\u001b[0m \u001b[0;34m*\u001b[0m\u001b[0;34m\u001b[0m\u001b[0;34m\u001b[0m\u001b[0m\n\u001b[0m\u001b[1;32m      2\u001b[0m \u001b[0;32mimport\u001b[0m \u001b[0munittest\u001b[0m\u001b[0;34m\u001b[0m\u001b[0;34m\u001b[0m\u001b[0m\n",
            "\u001b[0;31mModuleNotFoundError\u001b[0m: No module named 'mod'",
            "",
            "\u001b[0;31m---------------------------------------------------------------------------\u001b[0;32m\nNOTE: If your import is failing due to a missing package, you can\nmanually install dependencies using either !pip or !apt.\n\nTo view examples of installing some common dependencies, click the\n\"Open Examples\" button below.\n\u001b[0;31m---------------------------------------------------------------------------\u001b[0m\n"
          ],
          "errorDetails": {
            "actions": [
              {
                "action": "open_url",
                "actionText": "Open Examples",
                "url": "/notebooks/snippets/importing_libraries.ipynb"
              }
            ]
          }
        }
      ],
      "source": [
        "from mod.testing import *\n",
        "import unittest"
      ]
    },
    {
      "cell_type": "markdown",
      "metadata": {
        "id": "g3Cz-dh2s0y8"
      },
      "source": [
        "## 1. Escribe una función que devuelva el mayor de dos números"
      ]
    },
    {
      "cell_type": "code",
      "execution_count": 47,
      "metadata": {
        "id": "3r0YQqkWs0y9"
      },
      "outputs": [],
      "source": [
        "def greater(a,b):\n",
        "  if a>b:\n",
        "    return a\n",
        "  else:\n",
        "    return b"
      ]
    },
    {
      "cell_type": "code",
      "execution_count": 48,
      "metadata": {
        "id": "1DO7yezDs0y9",
        "outputId": "9bcc4fb5-37f5-4b39-c40b-21f6e307a65b",
        "colab": {
          "base_uri": "https://localhost:8080/"
        }
      },
      "outputs": [
        {
          "output_type": "execute_result",
          "data": {
            "text/plain": [
              "3.141592653589793"
            ]
          },
          "metadata": {},
          "execution_count": 48
        }
      ],
      "source": [
        "import numpy as np\n",
        "greater (3.1415,np.pi)"
      ]
    },
    {
      "cell_type": "code",
      "source": [
        "# Para testear tu función\n",
        "test_greater(greater)"
      ],
      "metadata": {
        "id": "3MPB9tXxy1g5"
      },
      "execution_count": null,
      "outputs": []
    },
    {
      "cell_type": "markdown",
      "metadata": {
        "id": "ShbVn5_Es0y-"
      },
      "source": [
        "## 2. Ahora escribe una función que devuelva el elemento más grande"
      ]
    },
    {
      "cell_type": "code",
      "execution_count": 72,
      "metadata": {
        "id": "zAnvk0a2s0y-"
      },
      "outputs": [],
      "source": [
        "# Forma 1:\n",
        "def greatest(lista):\n",
        "    # Definimos una función auxiliar que toma el índice actual y el valor máximo encontrado hasta ahora\n",
        "    def helper(index, current_max):\n",
        "        # Si el siguiente índice está fuera de la lista\n",
        "        try:\n",
        "            lista[index]\n",
        "        except IndexError:\n",
        "            return current_max\n",
        "        # Comparar el elemento actual con el valor máximo encontrado hasta ahora\n",
        "        if lista[index] > current_max:\n",
        "            current_max = lista[index]\n",
        "\n",
        "        # Llamada recursiva con el siguiente índice\n",
        "        return helper(index + 1, current_max)\n",
        "\n",
        "    # Llamar a la función con el primer índice y primer elemento\n",
        "    return helper(1, lista[0])"
      ]
    },
    {
      "cell_type": "code",
      "source": [
        "# Forma 2:\n",
        "def greatest(lista):\n",
        "  current_max = lista[0]\n",
        "  for i in lista:\n",
        "    if i > current_max:\n",
        "      current_max = i\n",
        "  return current_max"
      ],
      "metadata": {
        "id": "GmZjlBVq4m8e"
      },
      "execution_count": 85,
      "outputs": []
    },
    {
      "cell_type": "code",
      "execution_count": 86,
      "metadata": {
        "id": "R5nquYvhs0y_",
        "outputId": "c4d86fde-1355-4550-f606-ab51fa0fe0d2",
        "colab": {
          "base_uri": "https://localhost:8080/"
        }
      },
      "outputs": [
        {
          "output_type": "execute_result",
          "data": {
            "text/plain": [
              "20"
            ]
          },
          "metadata": {},
          "execution_count": 86
        }
      ],
      "source": [
        "llista = [1,2,3,4,5,6,7,8,9,10,11,12,13,14,15,16,17,18,19,20]\n",
        "greatest(llista)"
      ]
    },
    {
      "cell_type": "code",
      "source": [
        "llista = [20,19,18,17,16,15,14,13,12,11,10,9,8,7,6,5,4,3,2,1]\n",
        "greatest(llista)"
      ],
      "metadata": {
        "id": "T8IHjXEp0rPs",
        "outputId": "f6405413-b352-4a8e-b318-10de9ca6fb10",
        "colab": {
          "base_uri": "https://localhost:8080/"
        }
      },
      "execution_count": 87,
      "outputs": [
        {
          "output_type": "execute_result",
          "data": {
            "text/plain": [
              "20"
            ]
          },
          "metadata": {},
          "execution_count": 87
        }
      ]
    },
    {
      "cell_type": "code",
      "source": [
        "# Para testear tu función\n",
        "test_greatest(greatest)"
      ],
      "metadata": {
        "id": "VXvMAvi4y6uc"
      },
      "execution_count": null,
      "outputs": []
    },
    {
      "cell_type": "markdown",
      "metadata": {
        "id": "2Kl3ELgls0zA"
      },
      "source": [
        "## 3. Escribe una función que sume todos los elementos de una lista"
      ]
    },
    {
      "cell_type": "code",
      "execution_count": 92,
      "metadata": {
        "id": "iRsnwoSVs0zA"
      },
      "outputs": [],
      "source": [
        "def sum_all(lst):\n",
        "  current_sum = 0\n",
        "  for i in lst:\n",
        "    current_sum += i\n",
        "  return current_sum"
      ]
    },
    {
      "cell_type": "code",
      "execution_count": 93,
      "metadata": {
        "scrolled": true,
        "id": "RvcBd7qRs0zB",
        "outputId": "e3035016-61f4-4818-d357-026d796406ff",
        "colab": {
          "base_uri": "https://localhost:8080/"
        }
      },
      "outputs": [
        {
          "output_type": "execute_result",
          "data": {
            "text/plain": [
              "210"
            ]
          },
          "metadata": {},
          "execution_count": 93
        }
      ],
      "source": [
        "llista = [1,2,3,4,5,6,7,8,9,10,11,12,13,14,15,16,17,18,19,20]\n",
        "sum_all(llista)"
      ]
    },
    {
      "cell_type": "code",
      "source": [
        "# Comprovación con Fórmula Suma de Gauss\n",
        "n=20\n",
        "print(n*(n+1)/2)"
      ],
      "metadata": {
        "id": "nGmIOp-RvYkU",
        "outputId": "aa26eeb4-55be-42cc-a668-849ab7ff078b",
        "colab": {
          "base_uri": "https://localhost:8080/"
        }
      },
      "execution_count": 94,
      "outputs": [
        {
          "output_type": "stream",
          "name": "stdout",
          "text": [
            "210.0\n"
          ]
        }
      ]
    },
    {
      "cell_type": "code",
      "source": [
        "# Para testear tu función\n",
        "test_sum_all(sum_all)"
      ],
      "metadata": {
        "id": "tkUyoGhoy-tm",
        "outputId": "1c043935-e63d-4926-9982-8fd49cf4110e",
        "colab": {
          "base_uri": "https://localhost:8080/",
          "height": 159
        }
      },
      "execution_count": 95,
      "outputs": [
        {
          "output_type": "error",
          "ename": "NameError",
          "evalue": "name 'test_sum_all' is not defined",
          "traceback": [
            "\u001b[0;31m---------------------------------------------------------------------------\u001b[0m",
            "\u001b[0;31mNameError\u001b[0m                                 Traceback (most recent call last)",
            "\u001b[0;32m<ipython-input-95-56d743f5a15b>\u001b[0m in \u001b[0;36m<cell line: 2>\u001b[0;34m()\u001b[0m\n\u001b[1;32m      1\u001b[0m \u001b[0;31m# Para testear tu función\u001b[0m\u001b[0;34m\u001b[0m\u001b[0;34m\u001b[0m\u001b[0m\n\u001b[0;32m----> 2\u001b[0;31m \u001b[0mtest_sum_all\u001b[0m\u001b[0;34m(\u001b[0m\u001b[0msum_all\u001b[0m\u001b[0;34m)\u001b[0m\u001b[0;34m\u001b[0m\u001b[0;34m\u001b[0m\u001b[0m\n\u001b[0m",
            "\u001b[0;31mNameError\u001b[0m: name 'test_sum_all' is not defined"
          ]
        }
      ]
    },
    {
      "cell_type": "markdown",
      "metadata": {
        "id": "H6xAuMdus0zC"
      },
      "source": [
        "## 4. Escribe otra función que multiplique todos los elementos de una lista"
      ]
    },
    {
      "cell_type": "code",
      "execution_count": 96,
      "metadata": {
        "id": "fODsKhnFs0zC"
      },
      "outputs": [],
      "source": [
        "def mult_all(lst):\n",
        "  mult = 1\n",
        "  for i in lst:\n",
        "    mult *= i\n",
        "  return mult"
      ]
    },
    {
      "cell_type": "code",
      "execution_count": 97,
      "metadata": {
        "scrolled": true,
        "id": "hw1CbB5as0zD",
        "outputId": "5ee889f4-ddd1-4276-f541-c1caf454ad6c",
        "colab": {
          "base_uri": "https://localhost:8080/"
        }
      },
      "outputs": [
        {
          "output_type": "execute_result",
          "data": {
            "text/plain": [
              "2432902008176640000"
            ]
          },
          "metadata": {},
          "execution_count": 97
        }
      ],
      "source": [
        "llista = [1,2,3,4,5,6,7,8,9,10,11,12,13,14,15,16,17,18,19,20]\n",
        "mult_all(llista)"
      ]
    },
    {
      "cell_type": "code",
      "source": [
        "# Comprovación con el factorial.\n",
        "import math\n",
        "n = 20\n",
        "math.factorial(n)"
      ],
      "metadata": {
        "id": "BaWcDlk0wNzP",
        "outputId": "20bf70d9-238b-4245-928a-7cf02a8807aa",
        "colab": {
          "base_uri": "https://localhost:8080/"
        }
      },
      "execution_count": 98,
      "outputs": [
        {
          "output_type": "execute_result",
          "data": {
            "text/plain": [
              "2432902008176640000"
            ]
          },
          "metadata": {},
          "execution_count": 98
        }
      ]
    },
    {
      "cell_type": "code",
      "source": [
        "# Para testear tu función\n",
        "test_mult_all(mult_all)"
      ],
      "metadata": {
        "id": "qIBhUV7szCN1"
      },
      "execution_count": null,
      "outputs": []
    },
    {
      "cell_type": "markdown",
      "metadata": {
        "id": "_JMzpHLVs0zE"
      },
      "source": [
        "## 5. Ahora combina esas dos ideas y escribe una función que reciba una lista y ya sea \"+\" o \"*\", y produzca el resultado acorde"
      ]
    },
    {
      "cell_type": "code",
      "execution_count": 99,
      "metadata": {
        "id": "Alz8ki32s0zE"
      },
      "outputs": [],
      "source": [
        "def oper_all(arr, oper):\n",
        "  if oper == \"*\":\n",
        "    return mult_all(arr)\n",
        "  elif oper == \"+\":\n",
        "    return sum_all(arr)\n",
        "  else:\n",
        "    print(\"Operación no válida\")"
      ]
    },
    {
      "cell_type": "code",
      "execution_count": 100,
      "metadata": {
        "id": "szofBohJs0zF",
        "outputId": "ca4b3add-999d-4de2-9db1-40ffe61a0caa",
        "colab": {
          "base_uri": "https://localhost:8080/"
        }
      },
      "outputs": [
        {
          "output_type": "execute_result",
          "data": {
            "text/plain": [
              "2432902008176640000"
            ]
          },
          "metadata": {},
          "execution_count": 100
        }
      ],
      "source": [
        "llista = [1,2,3,4,5,6,7,8,9,10,11,12,13,14,15,16,17,18,19,20]\n",
        "oper_all(llista,\"*\")"
      ]
    },
    {
      "cell_type": "code",
      "source": [
        "llista = [1,2,3,4,5,6,7,8,9,10,11,12,13,14,15,16,17,18,19,20]\n",
        "oper_all(llista,\"+\")"
      ],
      "metadata": {
        "id": "H0Yvcl8MxBw0",
        "outputId": "f4c80b35-86bc-4955-80b8-ff2d3ad962b0",
        "colab": {
          "base_uri": "https://localhost:8080/"
        }
      },
      "execution_count": 101,
      "outputs": [
        {
          "output_type": "execute_result",
          "data": {
            "text/plain": [
              "210"
            ]
          },
          "metadata": {},
          "execution_count": 101
        }
      ]
    },
    {
      "cell_type": "code",
      "source": [
        "# Para testear tu función\n",
        "test_operations(oper_all)"
      ],
      "metadata": {
        "id": "jpEceNVFzEvX"
      },
      "execution_count": null,
      "outputs": []
    },
    {
      "cell_type": "markdown",
      "metadata": {
        "id": "8lXLRasps0zG"
      },
      "source": [
        "## 6. Escribe una función que devuelva el factorial de un número."
      ]
    },
    {
      "cell_type": "code",
      "execution_count": 102,
      "metadata": {
        "id": "pzOgIHrTs0zG"
      },
      "outputs": [],
      "source": [
        "def factorial(n):\n",
        "  for i in range (1,n):\n",
        "    n *= i\n",
        "  return n"
      ]
    },
    {
      "cell_type": "code",
      "source": [
        "n=2\n",
        "factorial(n)"
      ],
      "metadata": {
        "id": "utUQrB9Nx58E",
        "outputId": "80ce99b3-986b-40e7-821f-afdb8621ac9f",
        "colab": {
          "base_uri": "https://localhost:8080/"
        }
      },
      "execution_count": 103,
      "outputs": [
        {
          "output_type": "execute_result",
          "data": {
            "text/plain": [
              "2"
            ]
          },
          "metadata": {},
          "execution_count": 103
        }
      ]
    },
    {
      "cell_type": "code",
      "execution_count": 43,
      "metadata": {
        "id": "XtQzRltms0zH",
        "outputId": "17bd4b00-8e10-4b34-e71c-a53fba451f67",
        "colab": {
          "base_uri": "https://localhost:8080/"
        }
      },
      "outputs": [
        {
          "output_type": "execute_result",
          "data": {
            "text/plain": [
              "6"
            ]
          },
          "metadata": {},
          "execution_count": 43
        }
      ],
      "source": [
        "n=3\n",
        "factorial(n)"
      ]
    },
    {
      "cell_type": "code",
      "source": [
        "n=4\n",
        "factorial(n)"
      ],
      "metadata": {
        "id": "v3WGtJePx69s",
        "outputId": "37de88f2-adf8-4c0e-8337-e2137ddc506e",
        "colab": {
          "base_uri": "https://localhost:8080/"
        }
      },
      "execution_count": 45,
      "outputs": [
        {
          "output_type": "execute_result",
          "data": {
            "text/plain": [
              "24"
            ]
          },
          "metadata": {},
          "execution_count": 45
        }
      ]
    },
    {
      "cell_type": "code",
      "source": [
        "# Si da 0 la comprovación es correcta\n",
        "import math\n",
        "n=5\n",
        "factorial(n) - math.factorial(n)"
      ],
      "metadata": {
        "id": "-JE4ntMRxreb",
        "outputId": "078e3226-7a29-472b-d078-2574271fcaf0",
        "colab": {
          "base_uri": "https://localhost:8080/"
        }
      },
      "execution_count": 46,
      "outputs": [
        {
          "output_type": "execute_result",
          "data": {
            "text/plain": [
              "0"
            ]
          },
          "metadata": {},
          "execution_count": 46
        }
      ]
    },
    {
      "cell_type": "code",
      "source": [
        "# Para testear tu función\n",
        "test_factorial(factorial)"
      ],
      "metadata": {
        "id": "qO_G0dlXzHHD"
      },
      "execution_count": null,
      "outputs": []
    },
    {
      "cell_type": "markdown",
      "metadata": {
        "id": "TK1Nakuxs0zH"
      },
      "source": [
        "## 7. Escribe una función que tome una lista y devuelva una lista de los valores únicos.\n",
        "\n",
        "`NOTE: No podemos usar set. 🤔`"
      ]
    },
    {
      "cell_type": "code",
      "execution_count": null,
      "metadata": {
        "id": "0yXUPe1ms0zI"
      },
      "outputs": [],
      "source": [
        "def unique(lst_un):\n",
        "#tu codigo aquí"
      ]
    },
    {
      "cell_type": "code",
      "execution_count": null,
      "metadata": {
        "id": "Bw6Bl2kks0zJ"
      },
      "outputs": [],
      "source": [
        "# Para testear tu función\n",
        "test_unique(unique)"
      ]
    },
    {
      "cell_type": "markdown",
      "metadata": {
        "id": "sOqsvjbbs0zJ"
      },
      "source": [
        "## 8. Escribe una función que devuelva la moda de una lista, es decir: el elemento que aparece más veces.\n",
        "\n",
        "`NOTE: No se debe usar count... 🧐`"
      ]
    },
    {
      "cell_type": "code",
      "execution_count": null,
      "metadata": {
        "id": "G1_FvPwqs0zK"
      },
      "outputs": [],
      "source": [
        "def mode_counter(arr):\n",
        "#tu codigo aquí"
      ]
    },
    {
      "cell_type": "code",
      "execution_count": null,
      "metadata": {
        "id": "9OLf7zWHs0zL"
      },
      "outputs": [],
      "source": [
        "# Para testear tu función\n",
        "test_mode(mode_counter)"
      ]
    },
    {
      "cell_type": "markdown",
      "metadata": {
        "id": "V04Uu-rOs0zM"
      },
      "source": [
        "## 9. Escribe una función que calcule la desviación estándar de una lista.\n",
        "`NOTE: no utilices librerías ni ninguna función ya construida. 😉`"
      ]
    },
    {
      "cell_type": "code",
      "execution_count": null,
      "metadata": {
        "id": "ThEXvEhOs0zM"
      },
      "outputs": [],
      "source": [
        "def st_dev(list_sd):\n",
        "#tu codigo aquí"
      ]
    },
    {
      "cell_type": "code",
      "execution_count": null,
      "metadata": {
        "id": "wX5bzxios0zM"
      },
      "outputs": [],
      "source": [
        "# Para testear tu función\n",
        "test_stdev(st_dev)"
      ]
    },
    {
      "cell_type": "markdown",
      "metadata": {
        "id": "jTd9d772s0zM"
      },
      "source": [
        "## 10. Escribe una función para verificar si una cadena es un pangrama, es decir: si contiene todas las letras del alfabeto al menos una vez. Ten en cuenta que las cadenas pueden contener caracteres que no son letras."
      ]
    },
    {
      "cell_type": "code",
      "execution_count": null,
      "metadata": {
        "id": "PFFHI5lqs0zN"
      },
      "outputs": [],
      "source": [
        "def pangram(string):\n",
        "#tu codigo aquí"
      ]
    },
    {
      "cell_type": "code",
      "execution_count": null,
      "metadata": {
        "id": "fAxLGShls0zO"
      },
      "outputs": [],
      "source": [
        "# Para testear tu función\n",
        "test_pangram(pangram)"
      ]
    },
    {
      "cell_type": "markdown",
      "metadata": {
        "id": "HwYYJv46s0zO"
      },
      "source": [
        "## 11. Escribe una función que reciba una cadena de palabras separadas por comas y devuelva una cadena de palabras separadas por comas ordenadas alfabéticamente.\n",
        "\n",
        "`NOTA: Puedes usar sorted pero no split y definitivamente no join! 🤪`"
      ]
    },
    {
      "cell_type": "code",
      "execution_count": null,
      "metadata": {
        "id": "TYmt7AWjs0zO"
      },
      "outputs": [],
      "source": [
        "def sort_alpha(string):\n",
        "#tu codigo aquí"
      ]
    },
    {
      "cell_type": "code",
      "execution_count": null,
      "metadata": {
        "id": "m_ID3tzds0zO"
      },
      "outputs": [],
      "source": [
        "# Para testear tu función\n",
        "test_alpha(sort_alpha)"
      ]
    },
    {
      "cell_type": "markdown",
      "metadata": {
        "id": "GwUgJrxUs0zP"
      },
      "source": [
        "## 12. Escribe una función para verificar si una contraseña dada es fuerte (al menos 8 caracteres, al menos una minúscula, al menos una mayúscula, al menos un número y al menos un carácter especial). Debería devolver True si es fuerte y False si no lo es."
      ]
    },
    {
      "cell_type": "code",
      "execution_count": null,
      "metadata": {
        "id": "vOZOfufDs0zP"
      },
      "outputs": [],
      "source": [
        "def check_pass(password):\n",
        "#tu codigo aquí"
      ]
    },
    {
      "cell_type": "code",
      "execution_count": null,
      "metadata": {
        "id": "6GGCmJr4s0zQ"
      },
      "outputs": [],
      "source": [
        "# Para testear tu función\n",
        "test_pass(check_pass)"
      ]
    }
  ],
  "metadata": {
    "kernelspec": {
      "display_name": "Python 3 (ipykernel)",
      "language": "python",
      "name": "python3"
    },
    "language_info": {
      "codemirror_mode": {
        "name": "ipython",
        "version": 3
      },
      "file_extension": ".py",
      "mimetype": "text/x-python",
      "name": "python",
      "nbconvert_exporter": "python",
      "pygments_lexer": "ipython3",
      "version": "3.9.13"
    },
    "vscode": {
      "interpreter": {
        "hash": "aee8b7b246df8f9039afb4144a1f6fd8d2ca17a180786b69acc140d282b71a49"
      }
    },
    "colab": {
      "provenance": []
    }
  },
  "nbformat": 4,
  "nbformat_minor": 0
}